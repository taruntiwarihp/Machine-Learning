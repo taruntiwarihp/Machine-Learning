{
 "cells": [
  {
   "cell_type": "code",
   "execution_count": 1,
   "id": "structural-arrival",
   "metadata": {
    "ExecuteTime": {
     "end_time": "2021-07-09T06:02:03.781760Z",
     "start_time": "2021-07-09T06:02:01.049005Z"
    }
   },
   "outputs": [],
   "source": [
    "import pandas as pd\n",
    "from sklearn.preprocessing import StandardScaler\n",
    "from sklearn.model_selection import train_test_split\n",
    "from sklearn.neighbors import KNeighborsClassifier\n",
    "from sklearn.metrics import accuracy_score"
   ]
  },
  {
   "cell_type": "code",
   "execution_count": 2,
   "id": "broadband-persian",
   "metadata": {
    "ExecuteTime": {
     "end_time": "2021-07-09T06:02:03.819729Z",
     "start_time": "2021-07-09T06:02:03.784554Z"
    }
   },
   "outputs": [],
   "source": [
    "data = pd.read_csv(\"Downloads/SpaData.csv\",header=0, index_col=0)"
   ]
  },
  {
   "cell_type": "code",
   "execution_count": 3,
   "id": "played-hartford",
   "metadata": {
    "ExecuteTime": {
     "end_time": "2021-07-09T06:02:03.871420Z",
     "start_time": "2021-07-09T06:02:03.824960Z"
    }
   },
   "outputs": [
    {
     "data": {
      "text/html": [
       "<div>\n",
       "<style scoped>\n",
       "    .dataframe tbody tr th:only-of-type {\n",
       "        vertical-align: middle;\n",
       "    }\n",
       "\n",
       "    .dataframe tbody tr th {\n",
       "        vertical-align: top;\n",
       "    }\n",
       "\n",
       "    .dataframe thead th {\n",
       "        text-align: right;\n",
       "    }\n",
       "</style>\n",
       "<table border=\"1\" class=\"dataframe\">\n",
       "  <thead>\n",
       "    <tr style=\"text-align: right;\">\n",
       "      <th></th>\n",
       "      <th>TimeStamp</th>\n",
       "      <th>Temperature</th>\n",
       "      <th>RelativeHumidity</th>\n",
       "      <th>Light</th>\n",
       "      <th>OxygenLevels</th>\n",
       "      <th>HumidityRatio</th>\n",
       "      <th>GTOccupancy</th>\n",
       "    </tr>\n",
       "    <tr>\n",
       "      <th>ID</th>\n",
       "      <th></th>\n",
       "      <th></th>\n",
       "      <th></th>\n",
       "      <th></th>\n",
       "      <th></th>\n",
       "      <th></th>\n",
       "      <th></th>\n",
       "    </tr>\n",
       "  </thead>\n",
       "  <tbody>\n",
       "    <tr>\n",
       "      <th>2342</th>\n",
       "      <td>06-02-15 8:51</td>\n",
       "      <td>20.840</td>\n",
       "      <td>19.745000</td>\n",
       "      <td>433.0</td>\n",
       "      <td>629.75</td>\n",
       "      <td>0.003000</td>\n",
       "      <td>1</td>\n",
       "    </tr>\n",
       "    <tr>\n",
       "      <th>6419</th>\n",
       "      <td>09-02-15 4:49</td>\n",
       "      <td>19.290</td>\n",
       "      <td>26.890000</td>\n",
       "      <td>0.0</td>\n",
       "      <td>466.00</td>\n",
       "      <td>0.003716</td>\n",
       "      <td>0</td>\n",
       "    </tr>\n",
       "    <tr>\n",
       "      <th>3330</th>\n",
       "      <td>07-02-15 1:20</td>\n",
       "      <td>20.000</td>\n",
       "      <td>18.700000</td>\n",
       "      <td>0.0</td>\n",
       "      <td>435.50</td>\n",
       "      <td>0.002696</td>\n",
       "      <td>0</td>\n",
       "    </tr>\n",
       "    <tr>\n",
       "      <th>7188</th>\n",
       "      <td>09-02-15 17:38</td>\n",
       "      <td>22.200</td>\n",
       "      <td>38.433333</td>\n",
       "      <td>429.5</td>\n",
       "      <td>1943.50</td>\n",
       "      <td>0.006381</td>\n",
       "      <td>1</td>\n",
       "    </tr>\n",
       "    <tr>\n",
       "      <th>7655</th>\n",
       "      <td>10-02-15 1:25</td>\n",
       "      <td>20.245</td>\n",
       "      <td>32.900000</td>\n",
       "      <td>0.0</td>\n",
       "      <td>469.00</td>\n",
       "      <td>0.004833</td>\n",
       "      <td>0</td>\n",
       "    </tr>\n",
       "    <tr>\n",
       "      <th>371</th>\n",
       "      <td>05-02-15 0:01</td>\n",
       "      <td>21.245</td>\n",
       "      <td>25.245000</td>\n",
       "      <td>0.0</td>\n",
       "      <td>458.50</td>\n",
       "      <td>0.003938</td>\n",
       "      <td>0</td>\n",
       "    </tr>\n",
       "    <tr>\n",
       "      <th>4298</th>\n",
       "      <td>07-02-15 17:28</td>\n",
       "      <td>20.500</td>\n",
       "      <td>21.245000</td>\n",
       "      <td>0.0</td>\n",
       "      <td>439.50</td>\n",
       "      <td>0.003162</td>\n",
       "      <td>0</td>\n",
       "    </tr>\n",
       "    <tr>\n",
       "      <th>7261</th>\n",
       "      <td>09-02-15 18:51</td>\n",
       "      <td>21.290</td>\n",
       "      <td>36.450000</td>\n",
       "      <td>0.0</td>\n",
       "      <td>1381.50</td>\n",
       "      <td>0.005718</td>\n",
       "      <td>0</td>\n",
       "    </tr>\n",
       "    <tr>\n",
       "      <th>4486</th>\n",
       "      <td>07-02-15 20:36</td>\n",
       "      <td>20.000</td>\n",
       "      <td>25.700000</td>\n",
       "      <td>0.0</td>\n",
       "      <td>439.50</td>\n",
       "      <td>0.003712</td>\n",
       "      <td>0</td>\n",
       "    </tr>\n",
       "    <tr>\n",
       "      <th>3715</th>\n",
       "      <td>07-02-15 7:45</td>\n",
       "      <td>19.700</td>\n",
       "      <td>19.390000</td>\n",
       "      <td>0.0</td>\n",
       "      <td>445.00</td>\n",
       "      <td>0.002744</td>\n",
       "      <td>0</td>\n",
       "    </tr>\n",
       "  </tbody>\n",
       "</table>\n",
       "</div>"
      ],
      "text/plain": [
       "           TimeStamp  Temperature  RelativeHumidity  Light  OxygenLevels  \\\n",
       "ID                                                                         \n",
       "2342   06-02-15 8:51       20.840         19.745000  433.0        629.75   \n",
       "6419   09-02-15 4:49       19.290         26.890000    0.0        466.00   \n",
       "3330   07-02-15 1:20       20.000         18.700000    0.0        435.50   \n",
       "7188  09-02-15 17:38       22.200         38.433333  429.5       1943.50   \n",
       "7655   10-02-15 1:25       20.245         32.900000    0.0        469.00   \n",
       "371    05-02-15 0:01       21.245         25.245000    0.0        458.50   \n",
       "4298  07-02-15 17:28       20.500         21.245000    0.0        439.50   \n",
       "7261  09-02-15 18:51       21.290         36.450000    0.0       1381.50   \n",
       "4486  07-02-15 20:36       20.000         25.700000    0.0        439.50   \n",
       "3715   07-02-15 7:45       19.700         19.390000    0.0        445.00   \n",
       "\n",
       "      HumidityRatio  GTOccupancy  \n",
       "ID                                \n",
       "2342       0.003000            1  \n",
       "6419       0.003716            0  \n",
       "3330       0.002696            0  \n",
       "7188       0.006381            1  \n",
       "7655       0.004833            0  \n",
       "371        0.003938            0  \n",
       "4298       0.003162            0  \n",
       "7261       0.005718            0  \n",
       "4486       0.003712            0  \n",
       "3715       0.002744            0  "
      ]
     },
     "execution_count": 3,
     "metadata": {},
     "output_type": "execute_result"
    }
   ],
   "source": [
    "data.head(10)"
   ]
  },
  {
   "cell_type": "code",
   "execution_count": 4,
   "id": "0549b65f",
   "metadata": {
    "ExecuteTime": {
     "end_time": "2021-07-09T06:02:03.884637Z",
     "start_time": "2021-07-09T06:02:03.876092Z"
    }
   },
   "outputs": [],
   "source": [
    "data= data.drop(columns=['TimeStamp'])"
   ]
  },
  {
   "cell_type": "code",
   "execution_count": 5,
   "id": "overall-serve",
   "metadata": {
    "ExecuteTime": {
     "end_time": "2021-07-09T06:02:03.900263Z",
     "start_time": "2021-07-09T06:02:03.888673Z"
    }
   },
   "outputs": [
    {
     "data": {
      "text/plain": [
       "0    5125\n",
       "1    1389\n",
       "Name: GTOccupancy, dtype: int64"
      ]
     },
     "execution_count": 5,
     "metadata": {},
     "output_type": "execute_result"
    }
   ],
   "source": [
    "data['GTOccupancy'].value_counts()"
   ]
  },
  {
   "cell_type": "code",
   "execution_count": 6,
   "id": "nonprofit-vaccine",
   "metadata": {
    "ExecuteTime": {
     "end_time": "2021-07-09T06:02:03.912078Z",
     "start_time": "2021-07-09T06:02:03.903806Z"
    }
   },
   "outputs": [
    {
     "data": {
      "text/plain": [
       "(6514, 6)"
      ]
     },
     "execution_count": 6,
     "metadata": {},
     "output_type": "execute_result"
    }
   ],
   "source": [
    "data.shape"
   ]
  },
  {
   "cell_type": "code",
   "execution_count": 7,
   "id": "corresponding-comparative",
   "metadata": {
    "ExecuteTime": {
     "end_time": "2021-07-09T06:02:03.929403Z",
     "start_time": "2021-07-09T06:02:03.916717Z"
    }
   },
   "outputs": [],
   "source": [
    "values = data.values\n",
    "X, y = values[:, :-1], values[:, -1]"
   ]
  },
  {
   "cell_type": "code",
   "execution_count": 8,
   "id": "auburn-somalia",
   "metadata": {
    "ExecuteTime": {
     "end_time": "2021-07-09T06:02:04.519273Z",
     "start_time": "2021-07-09T06:02:04.510353Z"
    }
   },
   "outputs": [
    {
     "data": {
      "text/plain": [
       "array([[2.08400000e+01, 1.97450000e+01, 4.33000000e+02, 6.29750000e+02,\n",
       "        2.99997400e-03],\n",
       "       [1.92900000e+01, 2.68900000e+01, 0.00000000e+00, 4.66000000e+02,\n",
       "        3.71595800e-03],\n",
       "       [2.00000000e+01, 1.87000000e+01, 0.00000000e+00, 4.35500000e+02,\n",
       "        2.69628800e-03],\n",
       "       ...,\n",
       "       [1.96000000e+01, 2.86000000e+01, 0.00000000e+00, 4.35000000e+02,\n",
       "        4.03125500e-03],\n",
       "       [1.97600000e+01, 1.92300000e+01, 0.00000000e+00, 4.50333333e+02,\n",
       "        2.73190900e-03],\n",
       "       [2.02000000e+01, 3.30600000e+01, 0.00000000e+00, 4.43333333e+02,\n",
       "        4.84276600e-03]])"
      ]
     },
     "execution_count": 8,
     "metadata": {},
     "output_type": "execute_result"
    }
   ],
   "source": [
    "X"
   ]
  },
  {
   "cell_type": "code",
   "execution_count": 9,
   "id": "adult-contract",
   "metadata": {
    "ExecuteTime": {
     "end_time": "2021-07-09T06:02:04.968310Z",
     "start_time": "2021-07-09T06:02:04.960840Z"
    }
   },
   "outputs": [],
   "source": [
    "X_train, X_test, y_train, y_test = train_test_split(\n",
    "             X, y, test_size = 0.2, random_state=42)"
   ]
  },
  {
   "cell_type": "code",
   "execution_count": 10,
   "id": "finnish-liquid",
   "metadata": {
    "ExecuteTime": {
     "end_time": "2021-07-09T06:02:05.740670Z",
     "start_time": "2021-07-09T06:02:05.717108Z"
    }
   },
   "outputs": [
    {
     "data": {
      "text/plain": [
       "KNeighborsClassifier(n_neighbors=90)"
      ]
     },
     "execution_count": 10,
     "metadata": {},
     "output_type": "execute_result"
    }
   ],
   "source": [
    "knn = KNeighborsClassifier(n_neighbors=90)\n",
    "knn.fit(X_train, y_train)"
   ]
  },
  {
   "cell_type": "code",
   "execution_count": 11,
   "id": "integrated-conservation",
   "metadata": {
    "ExecuteTime": {
     "end_time": "2021-07-09T06:02:06.487497Z",
     "start_time": "2021-07-09T06:02:06.340556Z"
    }
   },
   "outputs": [],
   "source": [
    "v = knn.predict(X_test)"
   ]
  },
  {
   "cell_type": "code",
   "execution_count": 12,
   "id": "1e0fe740",
   "metadata": {
    "ExecuteTime": {
     "end_time": "2021-07-09T06:02:06.622589Z",
     "start_time": "2021-07-09T06:02:06.614387Z"
    }
   },
   "outputs": [
    {
     "data": {
      "text/plain": [
       "(5211,)"
      ]
     },
     "execution_count": 12,
     "metadata": {},
     "output_type": "execute_result"
    }
   ],
   "source": [
    "y_train.shape"
   ]
  },
  {
   "cell_type": "code",
   "execution_count": 13,
   "id": "9198d526",
   "metadata": {
    "ExecuteTime": {
     "end_time": "2021-07-09T06:02:08.541587Z",
     "start_time": "2021-07-09T06:02:08.534171Z"
    }
   },
   "outputs": [
    {
     "data": {
      "text/plain": [
       "(1303,)"
      ]
     },
     "execution_count": 13,
     "metadata": {},
     "output_type": "execute_result"
    }
   ],
   "source": [
    "v.shape"
   ]
  },
  {
   "cell_type": "code",
   "execution_count": 14,
   "id": "dfb26506",
   "metadata": {
    "ExecuteTime": {
     "end_time": "2021-07-09T06:02:08.809287Z",
     "start_time": "2021-07-09T06:02:08.800955Z"
    }
   },
   "outputs": [],
   "source": [
    "test = pd.DataFrame(X_test)\n",
    "test['occ'] = v.astype(int) "
   ]
  },
  {
   "cell_type": "code",
   "execution_count": 15,
   "id": "cultural-compiler",
   "metadata": {
    "ExecuteTime": {
     "end_time": "2021-07-09T06:02:09.001129Z",
     "start_time": "2021-07-09T06:02:08.991912Z"
    }
   },
   "outputs": [],
   "source": [
    "acc = accuracy_score(test['occ'],y_test)"
   ]
  },
  {
   "cell_type": "code",
   "execution_count": 16,
   "id": "260f2005",
   "metadata": {
    "ExecuteTime": {
     "end_time": "2021-07-09T06:02:09.258989Z",
     "start_time": "2021-07-09T06:02:09.251617Z"
    }
   },
   "outputs": [
    {
     "data": {
      "text/plain": [
       "0.9815809669992326"
      ]
     },
     "execution_count": 16,
     "metadata": {},
     "output_type": "execute_result"
    }
   ],
   "source": [
    "acc"
   ]
  },
  {
   "cell_type": "code",
   "execution_count": 17,
   "id": "873fd68c",
   "metadata": {
    "ExecuteTime": {
     "end_time": "2021-07-09T06:02:09.442146Z",
     "start_time": "2021-07-09T06:02:09.430924Z"
    }
   },
   "outputs": [
    {
     "data": {
      "text/plain": [
       "0    1027\n",
       "1     276\n",
       "Name: occ, dtype: int64"
      ]
     },
     "execution_count": 17,
     "metadata": {},
     "output_type": "execute_result"
    }
   ],
   "source": [
    "test['occ'].value_counts()"
   ]
  },
  {
   "cell_type": "code",
   "execution_count": 18,
   "id": "dfdddd92",
   "metadata": {
    "ExecuteTime": {
     "end_time": "2021-07-09T06:02:10.441279Z",
     "start_time": "2021-07-09T06:02:10.430354Z"
    }
   },
   "outputs": [
    {
     "data": {
      "text/plain": [
       "0    5125\n",
       "1    1389\n",
       "Name: GTOccupancy, dtype: int64"
      ]
     },
     "execution_count": 18,
     "metadata": {},
     "output_type": "execute_result"
    }
   ],
   "source": [
    "data['GTOccupancy'].value_counts()"
   ]
  },
  {
   "cell_type": "code",
   "execution_count": 19,
   "id": "432a3b69",
   "metadata": {
    "ExecuteTime": {
     "end_time": "2021-07-09T06:02:10.686364Z",
     "start_time": "2021-07-09T06:02:10.657068Z"
    }
   },
   "outputs": [
    {
     "data": {
      "text/html": [
       "<div>\n",
       "<style scoped>\n",
       "    .dataframe tbody tr th:only-of-type {\n",
       "        vertical-align: middle;\n",
       "    }\n",
       "\n",
       "    .dataframe tbody tr th {\n",
       "        vertical-align: top;\n",
       "    }\n",
       "\n",
       "    .dataframe thead th {\n",
       "        text-align: right;\n",
       "    }\n",
       "</style>\n",
       "<table border=\"1\" class=\"dataframe\">\n",
       "  <thead>\n",
       "    <tr style=\"text-align: right;\">\n",
       "      <th></th>\n",
       "      <th>0</th>\n",
       "      <th>1</th>\n",
       "      <th>2</th>\n",
       "      <th>3</th>\n",
       "      <th>4</th>\n",
       "      <th>occ</th>\n",
       "    </tr>\n",
       "  </thead>\n",
       "  <tbody>\n",
       "    <tr>\n",
       "      <th>0</th>\n",
       "      <td>20.890000</td>\n",
       "      <td>18.840000</td>\n",
       "      <td>212.000000</td>\n",
       "      <td>460.000000</td>\n",
       "      <td>0.002871</td>\n",
       "      <td>0</td>\n",
       "    </tr>\n",
       "    <tr>\n",
       "      <th>1</th>\n",
       "      <td>21.200000</td>\n",
       "      <td>19.963333</td>\n",
       "      <td>0.000000</td>\n",
       "      <td>522.000000</td>\n",
       "      <td>0.003102</td>\n",
       "      <td>0</td>\n",
       "    </tr>\n",
       "    <tr>\n",
       "      <th>2</th>\n",
       "      <td>22.100000</td>\n",
       "      <td>37.933333</td>\n",
       "      <td>428.333333</td>\n",
       "      <td>1830.000000</td>\n",
       "      <td>0.006258</td>\n",
       "      <td>1</td>\n",
       "    </tr>\n",
       "    <tr>\n",
       "      <th>3</th>\n",
       "      <td>22.390000</td>\n",
       "      <td>26.790000</td>\n",
       "      <td>456.000000</td>\n",
       "      <td>1074.000000</td>\n",
       "      <td>0.004486</td>\n",
       "      <td>1</td>\n",
       "    </tr>\n",
       "    <tr>\n",
       "      <th>4</th>\n",
       "      <td>20.963333</td>\n",
       "      <td>18.790000</td>\n",
       "      <td>204.333333</td>\n",
       "      <td>460.333333</td>\n",
       "      <td>0.002876</td>\n",
       "      <td>0</td>\n",
       "    </tr>\n",
       "    <tr>\n",
       "      <th>...</th>\n",
       "      <td>...</td>\n",
       "      <td>...</td>\n",
       "      <td>...</td>\n",
       "      <td>...</td>\n",
       "      <td>...</td>\n",
       "      <td>...</td>\n",
       "    </tr>\n",
       "    <tr>\n",
       "      <th>1298</th>\n",
       "      <td>19.340000</td>\n",
       "      <td>26.790000</td>\n",
       "      <td>0.000000</td>\n",
       "      <td>471.000000</td>\n",
       "      <td>0.003714</td>\n",
       "      <td>0</td>\n",
       "    </tr>\n",
       "    <tr>\n",
       "      <th>1299</th>\n",
       "      <td>21.000000</td>\n",
       "      <td>23.823333</td>\n",
       "      <td>0.000000</td>\n",
       "      <td>444.666667</td>\n",
       "      <td>0.003659</td>\n",
       "      <td>0</td>\n",
       "    </tr>\n",
       "    <tr>\n",
       "      <th>1300</th>\n",
       "      <td>20.000000</td>\n",
       "      <td>18.700000</td>\n",
       "      <td>0.000000</td>\n",
       "      <td>438.000000</td>\n",
       "      <td>0.002696</td>\n",
       "      <td>0</td>\n",
       "    </tr>\n",
       "    <tr>\n",
       "      <th>1301</th>\n",
       "      <td>20.290000</td>\n",
       "      <td>33.090000</td>\n",
       "      <td>0.000000</td>\n",
       "      <td>456.000000</td>\n",
       "      <td>0.004874</td>\n",
       "      <td>0</td>\n",
       "    </tr>\n",
       "    <tr>\n",
       "      <th>1302</th>\n",
       "      <td>22.175000</td>\n",
       "      <td>38.972500</td>\n",
       "      <td>328.000000</td>\n",
       "      <td>1986.500000</td>\n",
       "      <td>0.006461</td>\n",
       "      <td>1</td>\n",
       "    </tr>\n",
       "  </tbody>\n",
       "</table>\n",
       "<p>1303 rows × 6 columns</p>\n",
       "</div>"
      ],
      "text/plain": [
       "              0          1           2            3         4  occ\n",
       "0     20.890000  18.840000  212.000000   460.000000  0.002871    0\n",
       "1     21.200000  19.963333    0.000000   522.000000  0.003102    0\n",
       "2     22.100000  37.933333  428.333333  1830.000000  0.006258    1\n",
       "3     22.390000  26.790000  456.000000  1074.000000  0.004486    1\n",
       "4     20.963333  18.790000  204.333333   460.333333  0.002876    0\n",
       "...         ...        ...         ...          ...       ...  ...\n",
       "1298  19.340000  26.790000    0.000000   471.000000  0.003714    0\n",
       "1299  21.000000  23.823333    0.000000   444.666667  0.003659    0\n",
       "1300  20.000000  18.700000    0.000000   438.000000  0.002696    0\n",
       "1301  20.290000  33.090000    0.000000   456.000000  0.004874    0\n",
       "1302  22.175000  38.972500  328.000000  1986.500000  0.006461    1\n",
       "\n",
       "[1303 rows x 6 columns]"
      ]
     },
     "execution_count": 19,
     "metadata": {},
     "output_type": "execute_result"
    }
   ],
   "source": [
    "test"
   ]
  },
  {
   "cell_type": "code",
   "execution_count": null,
   "id": "e5667749",
   "metadata": {},
   "outputs": [],
   "source": []
  },
  {
   "cell_type": "code",
   "execution_count": null,
   "id": "6e8cf688",
   "metadata": {},
   "outputs": [],
   "source": []
  }
 ],
 "metadata": {
  "kernelspec": {
   "display_name": "Python 3",
   "language": "python",
   "name": "python3"
  },
  "language_info": {
   "codemirror_mode": {
    "name": "ipython",
    "version": 3
   },
   "file_extension": ".py",
   "mimetype": "text/x-python",
   "name": "python",
   "nbconvert_exporter": "python",
   "pygments_lexer": "ipython3",
   "version": "3.8.8"
  }
 },
 "nbformat": 4,
 "nbformat_minor": 5
}
