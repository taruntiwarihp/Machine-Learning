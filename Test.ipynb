{
  "nbformat": 4,
  "nbformat_minor": 0,
  "metadata": {
    "colab": {
      "name": "Test.ipynb",
      "provenance": [],
      "collapsed_sections": []
    },
    "kernelspec": {
      "name": "python3",
      "display_name": "Python 3"
    },
    "language_info": {
      "name": "python"
    }
  },
  "cells": [
    {
      "cell_type": "code",
      "metadata": {
        "colab": {
          "base_uri": "https://localhost:8080/",
          "height": 70
        },
        "id": "fhmndsDTfws-",
        "outputId": "1312d074-e734-4b41-eea9-11bd9776207d"
      },
      "source": [
        "# Missing value in List\n",
        "def missing_elements(L):\n",
        "    start, end = L[0], L[-1]\n",
        "    return sorted(set(range(start, end + 1)).difference(L))\n",
        "\n",
        "def find_missing_letter(chars):\n",
        "    numbers = list(map(ord, chars))\n",
        "    print(numbers)\n",
        "    n = missing_elements(numbers)\n",
        "    print(n)\n",
        "    return chr(n[0])\n",
        "\n",
        "\n",
        "find_missing_letter(['a','b','c','d','f'])"
      ],
      "execution_count": null,
      "outputs": [
        {
          "output_type": "stream",
          "text": [
            "[97, 98, 99, 100, 102]\n",
            "[101]\n"
          ],
          "name": "stdout"
        },
        {
          "output_type": "execute_result",
          "data": {
            "application/vnd.google.colaboratory.intrinsic+json": {
              "type": "string"
            },
            "text/plain": [
              "'e'"
            ]
          },
          "metadata": {
            "tags": []
          },
          "execution_count": 1
        }
      ]
    },
    {
      "cell_type": "code",
      "metadata": {
        "colab": {
          "base_uri": "https://localhost:8080/"
        },
        "id": "rhBFQucogBi8",
        "outputId": "bb49110e-8f55-46ec-cb1a-1a96b0dbdd3c"
      },
      "source": [
        "## Reverse\n",
        "def reverse(s):\n",
        "  str = \"\"\n",
        "  for i in s:\n",
        "    str = i + str\n",
        "  return str\n",
        "s = \"Geeksforgeeks\"\n",
        "print(reverse(s))"
      ],
      "execution_count": null,
      "outputs": [
        {
          "output_type": "stream",
          "text": [
            "skeegrofskeeG\n"
          ],
          "name": "stdout"
        }
      ]
    },
    {
      "cell_type": "code",
      "metadata": {
        "colab": {
          "base_uri": "https://localhost:8080/"
        },
        "id": "BpsOsZLigPkQ",
        "outputId": "a9cc113b-0ced-4d94-d73a-871986340fc1"
      },
      "source": [
        "## Fracorial\n",
        "n = 6\n",
        "fact = 1\n",
        "  \n",
        "for i in range(1,n+1):\n",
        "    fact = fact * i\n",
        "      \n",
        "print (\"The factorial of 23 is : \",end=\"\")\n",
        "print (fact)"
      ],
      "execution_count": null,
      "outputs": [
        {
          "output_type": "stream",
          "text": [
            "The factorial of 23 is : 720\n"
          ],
          "name": "stdout"
        }
      ]
    },
    {
      "cell_type": "code",
      "metadata": {
        "id": "mhw-yMOpgmcB"
      },
      "source": [
        "  \n",
        "# Recursive function\n",
        "def recursive_factorial(n):  \n",
        "   if n == 1:  \n",
        "       return n  \n",
        "   else:  \n",
        "       return n * recursive_factorial(n-1)  \n",
        "  \n",
        "# user input\n",
        "num = 6\n",
        "  \n",
        "# check if the input is valid or not\n",
        "if num < 0:  \n",
        "   print(\"Invalid input ! Please enter a positive number.\")  \n",
        "elif num == 0:  \n",
        "   print(\"Factorial of number 0 is 1\")  \n",
        "else:  \n",
        "   print(\"Factorial of number\", num, \"=\", recursive_factorial(num)) "
      ],
      "execution_count": null,
      "outputs": []
    },
    {
      "cell_type": "code",
      "metadata": {
        "colab": {
          "base_uri": "https://localhost:8080/"
        },
        "id": "-FCu7FVlgXtO",
        "outputId": "1083cc73-b06a-4847-a4af-d0be36c11301"
      },
      "source": [
        "#  Fibonacci number\n",
        "def Fibonacci(n):\n",
        "    if n < 0:\n",
        "        print(\"Incorrect input\")\n",
        "    elif n == 0:\n",
        "        return 0\n",
        "    elif n == 1 or n == 2:\n",
        "        return 1\n",
        "    else:\n",
        "        return Fibonacci(n-1) + Fibonacci(n-2)\n",
        "\n",
        "print(Fibonacci(9))"
      ],
      "execution_count": null,
      "outputs": [
        {
          "output_type": "stream",
          "text": [
            "34\n"
          ],
          "name": "stdout"
        }
      ]
    },
    {
      "cell_type": "code",
      "metadata": {
        "colab": {
          "base_uri": "https://localhost:8080/"
        },
        "id": "hnD7MnwZhRbg",
        "outputId": "67bea2d9-d594-4518-cea5-66f67d3900d7"
      },
      "source": [
        "\n",
        "# Python3 code to demonstrate \n",
        "# each occurrence frequency using \n",
        "# naive method \n",
        "  \n",
        "# initializing string \n",
        "test_str = \"GeeksforGeeks\"\n",
        "  \n",
        "# using naive method to get count \n",
        "# of each element in string \n",
        "all_freq = {}\n",
        "  \n",
        "for i in test_str:\n",
        "    if i in all_freq:\n",
        "        all_freq[i] += 1\n",
        "    else:\n",
        "        all_freq[i] = 1\n",
        "  \n",
        "# printing result \n",
        "print (\"Count of all characters in GeeksforGeeks is :\\n \"\n",
        "                                        +  str(all_freq))"
      ],
      "execution_count": null,
      "outputs": [
        {
          "output_type": "stream",
          "text": [
            "Count of all characters in GeeksforGeeks is :\n",
            " {'G': 2, 'e': 4, 'k': 2, 's': 2, 'f': 1, 'o': 1, 'r': 1}\n"
          ],
          "name": "stdout"
        }
      ]
    },
    {
      "cell_type": "code",
      "metadata": {
        "colab": {
          "base_uri": "https://localhost:8080/"
        },
        "id": "W3Mzwc3thozz",
        "outputId": "995afac9-e3ef-4720-8b29-90975f785b94"
      },
      "source": [
        "#find minimum number in list\n",
        "\n",
        "def minimum(list):\n",
        "  current_min = list[0]    # Start by assuming the first number is smallest\n",
        "  for num in list:         # Loop through each number in the list\n",
        "    if num < current_min:\n",
        "      current_min = num     # Update current_min if current number is less\n",
        "  return current_min\n",
        "\n",
        "print (minimum([1,2,3,-1]) )"
      ],
      "execution_count": null,
      "outputs": [
        {
          "output_type": "stream",
          "text": [
            "-1\n"
          ],
          "name": "stdout"
        }
      ]
    },
    {
      "cell_type": "code",
      "metadata": {
        "id": "PCTd4t0_jAAP"
      },
      "source": [
        "\n",
        "# Python program to find largest, smallest, \n",
        "# second largest and second smallest in a\n",
        "# list with complexity O(n)\n",
        "def Range(list1): \n",
        "    largest = list1[0] \n",
        "    lowest = list1[0] \n",
        "    largest2 = None\n",
        "    lowest2 = None\n",
        "    for item in list1[1:]:     \n",
        "        if item > largest: \n",
        "            largest2 = largest\n",
        "            largest = item \n",
        "        elif largest2 == None or largest2 < item: \n",
        "            largest2 = item \n",
        "        if item < lowest: \n",
        "            lowest2 = lowest\n",
        "            lowest = item \n",
        "        elif lowest2 == None or lowest2 > item: \n",
        "            lowest2 = item\n",
        "\n",
        "\n",
        "Range([1,2,3,4,5,6,7,8])"
      ],
      "execution_count": 10,
      "outputs": []
    },
    {
      "cell_type": "code",
      "metadata": {
        "colab": {
          "base_uri": "https://localhost:8080/"
        },
        "id": "xUUj6btclRnV",
        "outputId": "e2386f08-647e-4f5e-8d90-3f37315ef771"
      },
      "source": [
        "# Buble\n",
        "def bs(a):                   # a = name of list\n",
        "    b=len(a)-1\n",
        "    for x in range(b):\n",
        "        for y in range(b-x):\n",
        "            if a[y]>a[y+1]:\n",
        "                a[y],a[y+1]=a[y+1],a[y]\n",
        "    return a\n",
        "a=[3,6,1,8]\n",
        "bs(a)"
      ],
      "execution_count": 11,
      "outputs": [
        {
          "output_type": "execute_result",
          "data": {
            "text/plain": [
              "[1, 3, 6, 8]"
            ]
          },
          "metadata": {
            "tags": []
          },
          "execution_count": 11
        }
      ]
    },
    {
      "cell_type": "code",
      "metadata": {
        "colab": {
          "base_uri": "https://localhost:8080/"
        },
        "id": "KCGSeJGdl7i-",
        "outputId": "6e7ddaed-c70d-4fb6-8ecb-aab350d80654"
      },
      "source": [
        "\n",
        "# Merge Sort\n",
        "def msort(mylist, left, right):\n",
        "    if right - left > 1:\n",
        "        middle = (left + right)//2\n",
        "        msort(mylist, left, middle)\n",
        "        msort(mylist, middle, right)\n",
        "        mlist(mylist, left, middle, right)\n",
        " \n",
        "def mlist(mylist, left, middle, right):\n",
        "    leftlist = mylist[left:middle]\n",
        "    rightlist = mylist[middle:right]\n",
        "    k = left\n",
        "    i = 0\n",
        "    j = 0\n",
        "    while (left + i < middle and middle + j < right):\n",
        "        if (leftlist[i] <= rightlist[j]):\n",
        "            mylist[k] = leftlist[i]\n",
        "            i = i + 1\n",
        "        else:\n",
        "            mylist[k] = rightlist[j]\n",
        "            j = j + 1\n",
        "        k = k + 1\n",
        "    if left + i < middle:\n",
        "        while k < right:\n",
        "            mylist[k] = leftlist[i]\n",
        "            i = i + 1\n",
        "            k = k + 1\n",
        "    else:\n",
        "        while k < right:\n",
        "            mylist[k] = rightlist[j]\n",
        "            j = j + 1\n",
        "            k = k + 1\n",
        "  \n",
        "  \n",
        "mylist = input('Enter the list values to be sorted: ').split()\n",
        "mylist = [int(x) for x in mylist]\n",
        "msort(mylist, 0, len(mylist))\n",
        "print('The sorted list is: ')\n",
        "print(mylist)\n"
      ],
      "execution_count": 13,
      "outputs": [
        {
          "output_type": "stream",
          "text": [
            "Enter the list values to be sorted: 3 2 3 1 66 1\n",
            "The sorted list is: \n",
            "[1, 1, 2, 3, 3, 66]\n"
          ],
          "name": "stdout"
        }
      ]
    },
    {
      "cell_type": "code",
      "metadata": {
        "colab": {
          "base_uri": "https://localhost:8080/"
        },
        "id": "DanHqVR2mLe_",
        "outputId": "00b6c0f1-cf8b-43c1-bc87-98d413de9db4"
      },
      "source": [
        "\n",
        "def QuickSort(arr):\n",
        "\n",
        "    elements = len(arr)\n",
        "    \n",
        "    #Base case\n",
        "    if elements < 2:\n",
        "        return arr\n",
        "    \n",
        "    current_position = 0 #Position of the partitioning element\n",
        "\n",
        "    for i in range(1, elements): #Partitioning loop\n",
        "         if arr[i] <= arr[0]:\n",
        "              current_position += 1\n",
        "              temp = arr[i]\n",
        "              arr[i] = arr[current_position]\n",
        "              arr[current_position] = temp\n",
        "\n",
        "    temp = arr[0]\n",
        "    arr[0] = arr[current_position] \n",
        "    arr[current_position] = temp #Brings pivot to it's appropriate position\n",
        "    \n",
        "    left = QuickSort(arr[0:current_position]) #Sorts the elements to the left of pivot\n",
        "    right = QuickSort(arr[current_position+1:elements]) #sorts the elements to the right of pivot\n",
        "\n",
        "    arr = left + [arr[current_position]] + right #Merging everything together\n",
        "    \n",
        "    return arr\n",
        "\n",
        "\n",
        "\n",
        "array_to_be_sorted = [4,2,7,3,1,6]\n",
        "print(\"Original Array: \",array_to_be_sorted)\n",
        "print(\"Sorted Array: \",QuickSort(array_to_be_sorted))\n"
      ],
      "execution_count": 14,
      "outputs": [
        {
          "output_type": "stream",
          "text": [
            "Original Array:  [4, 2, 7, 3, 1, 6]\n",
            "Sorted Array:  [1, 2, 3, 4, 6, 7]\n"
          ],
          "name": "stdout"
        }
      ]
    },
    {
      "cell_type": "code",
      "metadata": {
        "colab": {
          "base_uri": "https://localhost:8080/"
        },
        "id": "1CEgJs7JmgLZ",
        "outputId": "662bb183-1ccd-43c6-d25a-ae34d6d5430c"
      },
      "source": [
        "# Interstion\n",
        "def isort(a): \n",
        "    for x in range(1, len(a)): \n",
        "        k = a[x]  #element present at index number 1\n",
        "        j = x-1\n",
        "        while j >=0 and k < a[j] :      #comparing elements with the next until the last item \n",
        "                a[j+1] = a[j] \n",
        "                j -= 1         #comparing each element to the elements present to its left \n",
        "        a[j+1] = k     #new item becomes the key\n",
        " \n",
        "a = [24, 56, 1, 50, 17] \n",
        "isort(a) \n",
        "print(a)"
      ],
      "execution_count": 15,
      "outputs": [
        {
          "output_type": "stream",
          "text": [
            "[1, 17, 24, 50, 56]\n"
          ],
          "name": "stdout"
        }
      ]
    },
    {
      "cell_type": "code",
      "metadata": {
        "colab": {
          "base_uri": "https://localhost:8080/"
        },
        "id": "Ghtx9bQhmmiv",
        "outputId": "dbb63021-31c1-4aeb-8305-f56e91abfb6a"
      },
      "source": [
        "# Selection Sort\n",
        "def selsort(myarray, r):\n",
        "    for x in range(r):\n",
        "        minimum = x      #first element is assumed to be the minimum\n",
        "        for y in range(x + 1, r):    \n",
        "            if myarray[y] < myarray[minimum]:     #comparing minimum with the next element\n",
        "                minimum = y\n",
        "        (myarray[x], myarray[minimum]) = (myarray[minimum], myarray[x]) #swap elements if required\n",
        "mylist = [34, 23, 1, 67, 4]\n",
        "r = len(mylist)\n",
        "selsort(mylist, r)\n",
        "print(mylist)"
      ],
      "execution_count": 16,
      "outputs": [
        {
          "output_type": "stream",
          "text": [
            "[1, 4, 23, 34, 67]\n"
          ],
          "name": "stdout"
        }
      ]
    },
    {
      "cell_type": "code",
      "metadata": {
        "colab": {
          "base_uri": "https://localhost:8080/"
        },
        "id": "1zGHj4ammsNy",
        "outputId": "7af4f7db-966c-4e31-9052-6ac47ff1b474"
      },
      "source": [
        "# Linear Search\n",
        "def lin_search(myarray, n, key): \n",
        "   \n",
        "    for x in range(0, n): \n",
        "        if (myarray[x] == key): \n",
        "            return x \n",
        "    return -1\n",
        "   \n",
        "myarray = [ 12, 1, 34, 17]\n",
        "key = 17\n",
        "n = len(myarray)\n",
        "matched = lin_search(myarray, n, key) \n",
        "if(matched == -1): \n",
        "    print(\"Key is not present\") \n",
        "else: \n",
        "    print(\"Key is present in the given list at index\", matched)"
      ],
      "execution_count": 17,
      "outputs": [
        {
          "output_type": "stream",
          "text": [
            "Key is present in the given list at index 3\n"
          ],
          "name": "stdout"
        }
      ]
    },
    {
      "cell_type": "code",
      "metadata": {
        "colab": {
          "base_uri": "https://localhost:8080/"
        },
        "id": "WxZHVFitmwqy",
        "outputId": "cb52a6ab-c8f9-44e2-8721-eae31a0341aa"
      },
      "source": [
        "# binary\n",
        "def bin_search(mylist,key):\n",
        "    l = 0\n",
        "    r = len(mylist)-1\n",
        "    matched = False\n",
        "    while( l<=r and not matched):\n",
        "        middle = (l + r)//2\n",
        "        if mylist[middle] == key :\n",
        "            matched = True\n",
        "        else:\n",
        "            if key < mylist[middle]:\n",
        "                r = middle - 1\n",
        "            else:\n",
        "                l = middle + 1\n",
        "    return matched\n",
        "print(bin_search([2, 3, 56, 13, 1], 56))\n",
        "print(bin_search([2, 3, 56, 13, 1], 26))"
      ],
      "execution_count": 18,
      "outputs": [
        {
          "output_type": "stream",
          "text": [
            "True\n",
            "False\n"
          ],
          "name": "stdout"
        }
      ]
    },
    {
      "cell_type": "code",
      "metadata": {
        "id": "P_VReKDemzx3"
      },
      "source": [
        "# Linkedlist\n",
        "class Node:\n",
        "  # constructor\n",
        "  def __init__(self, data = None, next=None): \n",
        "    self.data = data\n",
        "    self.next = next\n",
        "\n",
        "# A Linked List class with a single head node\n",
        "class LinkedList:\n",
        "  def __init__(self):  \n",
        "    self.head = None\n",
        "  \n",
        "  # insertion method for the linked list\n",
        "  def insert(self, data):\n",
        "    newNode = Node(data)\n",
        "    if(self.head):\n",
        "      current = self.head\n",
        "      while(current.next):\n",
        "        current = current.next\n",
        "      current.next = newNode\n",
        "    else:\n",
        "      self.head = newNode\n",
        "  \n",
        "  # print method for the linked list\n",
        "  def printLL(self):\n",
        "    current = self.head\n",
        "    while(current):\n",
        "      print(current.data)\n",
        "      current = current.next"
      ],
      "execution_count": 19,
      "outputs": []
    },
    {
      "cell_type": "code",
      "metadata": {
        "colab": {
          "base_uri": "https://localhost:8080/"
        },
        "id": "fD7GwGyAm27K",
        "outputId": "64179cf6-fdd8-4da5-ebcd-c8bae3a4ee9c"
      },
      "source": [
        "LL = LinkedList()\n",
        "LL.insert(3)\n",
        "LL.insert(4)\n",
        "LL.insert(5)\n",
        "LL.printLL()"
      ],
      "execution_count": 20,
      "outputs": [
        {
          "output_type": "stream",
          "text": [
            "3\n",
            "4\n",
            "5\n"
          ],
          "name": "stdout"
        }
      ]
    },
    {
      "cell_type": "code",
      "metadata": {
        "id": "L0xwtcQom55p"
      },
      "source": [
        "append() and POp() # stack\n",
        "append() and pop(0) # queue"
      ],
      "execution_count": null,
      "outputs": []
    }
  ]
}