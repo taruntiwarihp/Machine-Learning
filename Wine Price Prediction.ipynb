{
 "cells": [
  {
   "cell_type": "code",
   "execution_count": 101,
   "id": "dress-hammer",
   "metadata": {
    "ExecuteTime": {
     "end_time": "2021-06-16T14:34:49.917481Z",
     "start_time": "2021-06-16T14:34:49.909523Z"
    }
   },
   "outputs": [],
   "source": [
    "import pandas as pd\n",
    "from sklearn.ensemble import RandomForestClassifier\n",
    "from sklearn.svm import SVC\n",
    "from sklearn.linear_model import SGDClassifier\n",
    "from sklearn.metrics import confusion_matrix, classification_report\n",
    "from sklearn.preprocessing import StandardScaler, LabelEncoder\n",
    "from sklearn.model_selection import train_test_split, GridSearchCV, cross_val_score"
   ]
  },
  {
   "cell_type": "code",
   "execution_count": 78,
   "id": "moral-brighton",
   "metadata": {
    "ExecuteTime": {
     "end_time": "2021-06-16T04:22:45.007556Z",
     "start_time": "2021-06-16T04:22:44.978783Z"
    }
   },
   "outputs": [],
   "source": [
    "data = pd.read_csv(\"Downloads/wine_train.csv\")"
   ]
  },
  {
   "cell_type": "code",
   "execution_count": 79,
   "id": "impossible-intranet",
   "metadata": {
    "ExecuteTime": {
     "end_time": "2021-06-16T04:22:47.313269Z",
     "start_time": "2021-06-16T04:22:47.282167Z"
    }
   },
   "outputs": [
    {
     "data": {
      "text/html": [
       "<div>\n",
       "<style scoped>\n",
       "    .dataframe tbody tr th:only-of-type {\n",
       "        vertical-align: middle;\n",
       "    }\n",
       "\n",
       "    .dataframe tbody tr th {\n",
       "        vertical-align: top;\n",
       "    }\n",
       "\n",
       "    .dataframe thead th {\n",
       "        text-align: right;\n",
       "    }\n",
       "</style>\n",
       "<table border=\"1\" class=\"dataframe\">\n",
       "  <thead>\n",
       "    <tr style=\"text-align: right;\">\n",
       "      <th></th>\n",
       "      <th>fixed.acidity</th>\n",
       "      <th>volatile.acidity</th>\n",
       "      <th>citric.acid</th>\n",
       "      <th>residual.sugar</th>\n",
       "      <th>chlorides</th>\n",
       "      <th>free.sulfur.dioxide</th>\n",
       "      <th>total.sulfur.dioxide</th>\n",
       "      <th>density</th>\n",
       "      <th>pH</th>\n",
       "      <th>sulphates</th>\n",
       "      <th>alcohol</th>\n",
       "      <th>quality</th>\n",
       "    </tr>\n",
       "  </thead>\n",
       "  <tbody>\n",
       "    <tr>\n",
       "      <th>0</th>\n",
       "      <td>9.0</td>\n",
       "      <td>0.245</td>\n",
       "      <td>0.38</td>\n",
       "      <td>5.9</td>\n",
       "      <td>0.045</td>\n",
       "      <td>52.0</td>\n",
       "      <td>159.0</td>\n",
       "      <td>0.99500</td>\n",
       "      <td>2.93</td>\n",
       "      <td>0.35</td>\n",
       "      <td>10.2</td>\n",
       "      <td>6</td>\n",
       "    </tr>\n",
       "    <tr>\n",
       "      <th>1</th>\n",
       "      <td>8.2</td>\n",
       "      <td>0.420</td>\n",
       "      <td>0.29</td>\n",
       "      <td>4.1</td>\n",
       "      <td>0.030</td>\n",
       "      <td>31.0</td>\n",
       "      <td>100.0</td>\n",
       "      <td>0.99110</td>\n",
       "      <td>3.00</td>\n",
       "      <td>0.32</td>\n",
       "      <td>12.8</td>\n",
       "      <td>7</td>\n",
       "    </tr>\n",
       "    <tr>\n",
       "      <th>2</th>\n",
       "      <td>6.4</td>\n",
       "      <td>0.220</td>\n",
       "      <td>0.32</td>\n",
       "      <td>7.2</td>\n",
       "      <td>0.028</td>\n",
       "      <td>15.0</td>\n",
       "      <td>83.0</td>\n",
       "      <td>0.99300</td>\n",
       "      <td>3.13</td>\n",
       "      <td>0.55</td>\n",
       "      <td>10.9</td>\n",
       "      <td>8</td>\n",
       "    </tr>\n",
       "    <tr>\n",
       "      <th>3</th>\n",
       "      <td>5.0</td>\n",
       "      <td>0.350</td>\n",
       "      <td>0.25</td>\n",
       "      <td>7.8</td>\n",
       "      <td>0.031</td>\n",
       "      <td>24.0</td>\n",
       "      <td>116.0</td>\n",
       "      <td>0.99241</td>\n",
       "      <td>3.39</td>\n",
       "      <td>0.40</td>\n",
       "      <td>11.3</td>\n",
       "      <td>6</td>\n",
       "    </tr>\n",
       "    <tr>\n",
       "      <th>4</th>\n",
       "      <td>7.4</td>\n",
       "      <td>0.300</td>\n",
       "      <td>0.30</td>\n",
       "      <td>5.2</td>\n",
       "      <td>0.053</td>\n",
       "      <td>45.0</td>\n",
       "      <td>163.0</td>\n",
       "      <td>0.99410</td>\n",
       "      <td>3.12</td>\n",
       "      <td>0.45</td>\n",
       "      <td>10.3</td>\n",
       "      <td>6</td>\n",
       "    </tr>\n",
       "  </tbody>\n",
       "</table>\n",
       "</div>"
      ],
      "text/plain": [
       "   fixed.acidity  volatile.acidity  citric.acid  residual.sugar  chlorides  \\\n",
       "0            9.0             0.245         0.38             5.9      0.045   \n",
       "1            8.2             0.420         0.29             4.1      0.030   \n",
       "2            6.4             0.220         0.32             7.2      0.028   \n",
       "3            5.0             0.350         0.25             7.8      0.031   \n",
       "4            7.4             0.300         0.30             5.2      0.053   \n",
       "\n",
       "   free.sulfur.dioxide  total.sulfur.dioxide  density    pH  sulphates  \\\n",
       "0                 52.0                 159.0  0.99500  2.93       0.35   \n",
       "1                 31.0                 100.0  0.99110  3.00       0.32   \n",
       "2                 15.0                  83.0  0.99300  3.13       0.55   \n",
       "3                 24.0                 116.0  0.99241  3.39       0.40   \n",
       "4                 45.0                 163.0  0.99410  3.12       0.45   \n",
       "\n",
       "   alcohol  quality  \n",
       "0     10.2        6  \n",
       "1     12.8        7  \n",
       "2     10.9        8  \n",
       "3     11.3        6  \n",
       "4     10.3        6  "
      ]
     },
     "execution_count": 79,
     "metadata": {},
     "output_type": "execute_result"
    }
   ],
   "source": [
    "data.head()"
   ]
  },
  {
   "cell_type": "code",
   "execution_count": 80,
   "id": "individual-launch",
   "metadata": {
    "ExecuteTime": {
     "end_time": "2021-06-16T04:22:48.460217Z",
     "start_time": "2021-06-16T04:22:48.448549Z"
    }
   },
   "outputs": [
    {
     "data": {
      "text/plain": [
       "6    1647\n",
       "5    1071\n",
       "7     671\n",
       "8     143\n",
       "4     123\n",
       "3      14\n",
       "9       4\n",
       "Name: quality, dtype: int64"
      ]
     },
     "execution_count": 80,
     "metadata": {},
     "output_type": "execute_result"
    }
   ],
   "source": [
    "data['quality'].value_counts()"
   ]
  },
  {
   "cell_type": "code",
   "execution_count": 81,
   "id": "champion-claim",
   "metadata": {
    "ExecuteTime": {
     "end_time": "2021-06-16T04:22:49.432394Z",
     "start_time": "2021-06-16T04:22:49.424254Z"
    }
   },
   "outputs": [
    {
     "data": {
      "text/plain": [
       "array([6, 7, 8, 5, 3, 4, 9])"
      ]
     },
     "execution_count": 81,
     "metadata": {},
     "output_type": "execute_result"
    }
   ],
   "source": [
    "data['quality'].unique()"
   ]
  },
  {
   "cell_type": "code",
   "execution_count": 82,
   "id": "selected-strain",
   "metadata": {
    "ExecuteTime": {
     "end_time": "2021-06-16T04:22:51.235418Z",
     "start_time": "2021-06-16T04:22:51.224276Z"
    }
   },
   "outputs": [],
   "source": [
    "bins = (2,5,6,9)\n",
    "group_names = ['bad','normal','good']\n",
    "data['quality'] = pd.cut(data['quality'], bins = bins, labels = group_names)"
   ]
  },
  {
   "cell_type": "code",
   "execution_count": 83,
   "id": "purple-abuse",
   "metadata": {
    "ExecuteTime": {
     "end_time": "2021-06-16T04:22:52.083649Z",
     "start_time": "2021-06-16T04:22:52.072231Z"
    }
   },
   "outputs": [
    {
     "data": {
      "text/plain": [
       "normal    1647\n",
       "bad       1208\n",
       "good       818\n",
       "Name: quality, dtype: int64"
      ]
     },
     "execution_count": 83,
     "metadata": {},
     "output_type": "execute_result"
    }
   ],
   "source": [
    "data['quality'].value_counts()"
   ]
  },
  {
   "cell_type": "code",
   "execution_count": 84,
   "id": "provincial-poland",
   "metadata": {
    "ExecuteTime": {
     "end_time": "2021-06-16T04:22:52.643860Z",
     "start_time": "2021-06-16T04:22:52.633961Z"
    }
   },
   "outputs": [
    {
     "data": {
      "text/plain": [
       "['normal', 'good', 'bad']\n",
       "Categories (3, object): ['bad' < 'normal' < 'good']"
      ]
     },
     "execution_count": 84,
     "metadata": {},
     "output_type": "execute_result"
    }
   ],
   "source": [
    "data['quality'].unique()"
   ]
  },
  {
   "cell_type": "code",
   "execution_count": 51,
   "id": "talented-herald",
   "metadata": {
    "ExecuteTime": {
     "end_time": "2021-06-15T13:22:10.412262Z",
     "start_time": "2021-06-15T13:22:10.407505Z"
    }
   },
   "outputs": [],
   "source": [
    "# label_quality = LabelEncoder()"
   ]
  },
  {
   "cell_type": "code",
   "execution_count": 52,
   "id": "unexpected-majority",
   "metadata": {
    "ExecuteTime": {
     "end_time": "2021-06-15T13:22:11.191762Z",
     "start_time": "2021-06-15T13:22:11.184344Z"
    }
   },
   "outputs": [],
   "source": [
    "#Bad becomes 0 and good becomes 1\n",
    "# data['quality'] = label_quality.fit_transform(data['quality'])"
   ]
  },
  {
   "cell_type": "code",
   "execution_count": 91,
   "id": "bulgarian-inclusion",
   "metadata": {
    "ExecuteTime": {
     "end_time": "2021-06-16T04:23:20.755599Z",
     "start_time": "2021-06-16T04:23:20.745034Z"
    }
   },
   "outputs": [
    {
     "data": {
      "text/plain": [
       "normal    1647\n",
       "bad       1208\n",
       "good       818\n",
       "Name: quality, dtype: int64"
      ]
     },
     "execution_count": 91,
     "metadata": {},
     "output_type": "execute_result"
    }
   ],
   "source": [
    "data['quality'].value_counts()"
   ]
  },
  {
   "cell_type": "code",
   "execution_count": 85,
   "id": "shared-innocent",
   "metadata": {
    "ExecuteTime": {
     "end_time": "2021-06-16T04:23:02.616594Z",
     "start_time": "2021-06-16T04:23:02.609423Z"
    }
   },
   "outputs": [],
   "source": [
    "#Now seperate the dataset as response variable and feature variabes\n",
    "X = data.drop('quality', axis = 1)\n",
    "y = data['quality']"
   ]
  },
  {
   "cell_type": "code",
   "execution_count": 86,
   "id": "superb-debate",
   "metadata": {
    "ExecuteTime": {
     "end_time": "2021-06-16T04:23:03.426783Z",
     "start_time": "2021-06-16T04:23:03.416273Z"
    }
   },
   "outputs": [],
   "source": [
    "X_train, X_test, y_train, y_test = train_test_split(X, y, test_size = 0.2, random_state = 42)"
   ]
  },
  {
   "cell_type": "code",
   "execution_count": 87,
   "id": "center-bishop",
   "metadata": {
    "ExecuteTime": {
     "end_time": "2021-06-16T04:23:05.980553Z",
     "start_time": "2021-06-16T04:23:05.976356Z"
    }
   },
   "outputs": [],
   "source": [
    "#Applying Standard scaling to get optimized result\n",
    "sc = StandardScaler()"
   ]
  },
  {
   "cell_type": "code",
   "execution_count": 88,
   "id": "chubby-desperate",
   "metadata": {
    "ExecuteTime": {
     "end_time": "2021-06-16T04:23:06.778087Z",
     "start_time": "2021-06-16T04:23:06.755625Z"
    }
   },
   "outputs": [],
   "source": [
    "X_train = sc.fit_transform(X_train)\n",
    "X_test = sc.fit_transform(X_test)"
   ]
  },
  {
   "cell_type": "code",
   "execution_count": 89,
   "id": "complete-happening",
   "metadata": {
    "ExecuteTime": {
     "end_time": "2021-06-16T04:23:09.518990Z",
     "start_time": "2021-06-16T04:23:07.560890Z"
    }
   },
   "outputs": [],
   "source": [
    "rfc = RandomForestClassifier(n_estimators=200)\n",
    "rfc.fit(X_train, y_train)\n",
    "pred_rfc = rfc.predict(X_test)"
   ]
  },
  {
   "cell_type": "code",
   "execution_count": 90,
   "id": "according-fashion",
   "metadata": {
    "ExecuteTime": {
     "end_time": "2021-06-16T04:23:09.585638Z",
     "start_time": "2021-06-16T04:23:09.522263Z"
    }
   },
   "outputs": [
    {
     "name": "stdout",
     "output_type": "stream",
     "text": [
      "              precision    recall  f1-score   support\n",
      "\n",
      "         bad       0.75      0.71      0.73       246\n",
      "        good       0.72      0.58      0.64       168\n",
      "      normal       0.63      0.72      0.67       321\n",
      "\n",
      "    accuracy                           0.68       735\n",
      "   macro avg       0.70      0.67      0.68       735\n",
      "weighted avg       0.69      0.68      0.68       735\n",
      "\n"
     ]
    }
   ],
   "source": [
    "#Let's see how our model performed\n",
    "print(classification_report(y_test, pred_rfc))"
   ]
  },
  {
   "cell_type": "code",
   "execution_count": 92,
   "id": "handled-respect",
   "metadata": {
    "ExecuteTime": {
     "end_time": "2021-06-16T04:24:03.895366Z",
     "start_time": "2021-06-16T04:24:03.879235Z"
    }
   },
   "outputs": [
    {
     "name": "stdout",
     "output_type": "stream",
     "text": [
      "[[175   2  69]\n",
      " [  4  97  67]\n",
      " [ 54  36 231]]\n"
     ]
    }
   ],
   "source": [
    "print(confusion_matrix(y_test, pred_rfc))"
   ]
  },
  {
   "cell_type": "code",
   "execution_count": 134,
   "id": "spiritual-closer",
   "metadata": {
    "ExecuteTime": {
     "end_time": "2021-06-16T15:03:29.184822Z",
     "start_time": "2021-06-16T15:03:29.149253Z"
    }
   },
   "outputs": [],
   "source": [
    "rfc=RandomForestClassifier(random_state=42)"
   ]
  },
  {
   "cell_type": "code",
   "execution_count": 136,
   "id": "noble-juice",
   "metadata": {
    "ExecuteTime": {
     "end_time": "2021-06-16T15:03:53.042197Z",
     "start_time": "2021-06-16T15:03:53.035182Z"
    }
   },
   "outputs": [],
   "source": [
    "param_grid = { \n",
    "    'n_estimators': [200,250,300,350,400,450,500,550,600,650,700],\n",
    "    'max_depth' : [10,15,20,25,30,35,40,45,50,None],\n",
    "}"
   ]
  },
  {
   "cell_type": "code",
   "execution_count": 137,
   "id": "labeled-attribute",
   "metadata": {
    "ExecuteTime": {
     "end_time": "2021-06-16T15:36:00.864638Z",
     "start_time": "2021-06-16T15:03:53.585138Z"
    }
   },
   "outputs": [
    {
     "data": {
      "text/plain": [
       "GridSearchCV(cv=5, estimator=RandomForestClassifier(random_state=42),\n",
       "             param_grid={'max_depth': [10, 15, 20, 25, 30, 35, 40, 45, 50,\n",
       "                                       None],\n",
       "                         'n_estimators': [200, 250, 300, 350, 400, 450, 500,\n",
       "                                          550, 600, 650, 700]})"
      ]
     },
     "execution_count": 137,
     "metadata": {},
     "output_type": "execute_result"
    }
   ],
   "source": [
    "CV_rfc = GridSearchCV(estimator=rfc, param_grid=param_grid, cv= 5)\n",
    "CV_rfc.fit(X_train, y_train)"
   ]
  },
  {
   "cell_type": "code",
   "execution_count": 138,
   "id": "surface-provincial",
   "metadata": {
    "ExecuteTime": {
     "end_time": "2021-06-16T15:36:00.875813Z",
     "start_time": "2021-06-16T15:36:00.868673Z"
    }
   },
   "outputs": [
    {
     "data": {
      "text/plain": [
       "{'max_depth': 25, 'n_estimators': 400}"
      ]
     },
     "execution_count": 138,
     "metadata": {},
     "output_type": "execute_result"
    }
   ],
   "source": [
    "CV_rfc.best_params_"
   ]
  },
  {
   "cell_type": "code",
   "execution_count": 139,
   "id": "therapeutic-patient",
   "metadata": {
    "ExecuteTime": {
     "end_time": "2021-06-16T15:49:50.724282Z",
     "start_time": "2021-06-16T15:49:50.719356Z"
    }
   },
   "outputs": [],
   "source": [
    "rfc1=RandomForestClassifier(random_state=42, max_features='auto', n_estimators= 400, max_depth=25, criterion='gini')"
   ]
  },
  {
   "cell_type": "code",
   "execution_count": 140,
   "id": "alike-hepatitis",
   "metadata": {
    "ExecuteTime": {
     "end_time": "2021-06-16T15:49:57.039240Z",
     "start_time": "2021-06-16T15:49:53.750433Z"
    }
   },
   "outputs": [
    {
     "data": {
      "text/plain": [
       "RandomForestClassifier(max_depth=25, n_estimators=400, random_state=42)"
      ]
     },
     "execution_count": 140,
     "metadata": {},
     "output_type": "execute_result"
    }
   ],
   "source": [
    "rfc1.fit(X_train, y_train)"
   ]
  },
  {
   "cell_type": "code",
   "execution_count": 141,
   "id": "overall-somewhere",
   "metadata": {
    "ExecuteTime": {
     "end_time": "2021-06-16T15:49:58.753707Z",
     "start_time": "2021-06-16T15:49:58.573949Z"
    }
   },
   "outputs": [],
   "source": [
    "pred=rfc1.predict(X_test)"
   ]
  },
  {
   "cell_type": "code",
   "execution_count": 119,
   "id": "cooked-detection",
   "metadata": {
    "ExecuteTime": {
     "end_time": "2021-06-16T14:53:12.664362Z",
     "start_time": "2021-06-16T14:53:06.887458Z"
    }
   },
   "outputs": [],
   "source": [
    "rfc = RandomForestClassifier(n_estimators=600)\n",
    "rfc.fit(X_train, y_train)\n",
    "pred = rfc.predict(X_test)"
   ]
  },
  {
   "cell_type": "code",
   "execution_count": 142,
   "id": "framed-lender",
   "metadata": {
    "ExecuteTime": {
     "end_time": "2021-06-16T15:50:02.641235Z",
     "start_time": "2021-06-16T15:50:02.632836Z"
    }
   },
   "outputs": [
    {
     "name": "stdout",
     "output_type": "stream",
     "text": [
      "Accuracy for Random Forest on CV data:  0.6870748299319728\n"
     ]
    }
   ],
   "source": [
    "from sklearn.metrics import accuracy_score\n",
    "print(\"Accuracy for Random Forest on CV data: \",accuracy_score(y_test,pred))"
   ]
  },
  {
   "cell_type": "code",
   "execution_count": 131,
   "id": "german-netscape",
   "metadata": {
    "ExecuteTime": {
     "end_time": "2021-06-16T14:58:54.482477Z",
     "start_time": "2021-06-16T14:58:52.717609Z"
    }
   },
   "outputs": [],
   "source": [
    "svc =  SVC(C = 1.2, gamma =  0.9, kernel= 'rbf')\n",
    "svc.fit(X_train, y_train)\n",
    "pred = svc.predict(X_test)"
   ]
  },
  {
   "cell_type": "code",
   "execution_count": 133,
   "id": "consolidated-harvey",
   "metadata": {
    "ExecuteTime": {
     "end_time": "2021-06-16T15:00:56.098772Z",
     "start_time": "2021-06-16T14:59:45.391568Z"
    }
   },
   "outputs": [
    {
     "data": {
      "text/plain": [
       "0.6861937266374126"
      ]
     },
     "execution_count": 133,
     "metadata": {},
     "output_type": "execute_result"
    }
   ],
   "source": [
    "rfc_eval = cross_val_score(estimator = rfc, X = X_train, y = y_train, cv = 10)\n",
    "rfc_eval.mean()"
   ]
  },
  {
   "cell_type": "code",
   "execution_count": null,
   "id": "fifth-humanity",
   "metadata": {},
   "outputs": [],
   "source": []
  }
 ],
 "metadata": {
  "kernelspec": {
   "display_name": "Python 3",
   "language": "python",
   "name": "python3"
  },
  "language_info": {
   "codemirror_mode": {
    "name": "ipython",
    "version": 3
   },
   "file_extension": ".py",
   "mimetype": "text/x-python",
   "name": "python",
   "nbconvert_exporter": "python",
   "pygments_lexer": "ipython3",
   "version": "3.8.5"
  }
 },
 "nbformat": 4,
 "nbformat_minor": 5
}
