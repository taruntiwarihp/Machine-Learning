{
  "nbformat": 4,
  "nbformat_minor": 0,
  "metadata": {
    "colab": {
      "name": "Untitled0.ipynb",
      "provenance": [],
      "collapsed_sections": []
    },
    "kernelspec": {
      "name": "python3",
      "display_name": "Python 3"
    },
    "language_info": {
      "name": "python"
    }
  },
  "cells": [
    {
      "cell_type": "code",
      "metadata": {
        "id": "AW1Btqs9TDHr"
      },
      "source": [
        "# Missing value in List\n",
        "def missing_elements(L):\n",
        "    start, end = L[0], L[-1]\n",
        "    return sorted(set(range(start, end + 1)).difference(L))\n",
        "\n",
        "def find_missing_letter(chars):\n",
        "    numbers = list(map(ord, chars))\n",
        "    print(numbers)\n",
        "    n = missing_elements(numbers)\n",
        "    print(n)\n",
        "    return chr(n[0])\n",
        "\n",
        "\n",
        "find_missing_letter(['a','b','c','d','f'])"
      ],
      "execution_count": 8,
      "outputs": []
    },
    {
      "cell_type": "code",
      "metadata": {
        "colab": {
          "base_uri": "https://localhost:8080/"
        },
        "id": "WtHrqFeCTfmj",
        "outputId": "e6251d5a-e79e-4b6c-f248-833781d63843"
      },
      "source": [
        "## Reverse\n",
        "def reverse(s):\n",
        "  str = \"\"\n",
        "  for i in s:\n",
        "    str = i + str\n",
        "  return str\n",
        "s = \"Geeksforgeeks\"\n",
        "print(reverse(s))"
      ],
      "execution_count": 12,
      "outputs": [
        {
          "output_type": "stream",
          "text": [
            "skeegrofskeeG\n"
          ],
          "name": "stdout"
        }
      ]
    },
    {
      "cell_type": "code",
      "metadata": {
        "colab": {
          "base_uri": "https://localhost:8080/"
        },
        "id": "YdkrIKpmUxs9",
        "outputId": "e6e10b27-76a8-4850-81b5-1a071936ca4d"
      },
      "source": [
        "## Fracorial\n",
        "n = 6\n",
        "fact = 1\n",
        "  \n",
        "for i in range(1,n+1):\n",
        "    fact = fact * i\n",
        "      \n",
        "print (\"The factorial of 23 is : \",end=\"\")\n",
        "print (fact)"
      ],
      "execution_count": 13,
      "outputs": [
        {
          "output_type": "stream",
          "text": [
            "The factorial of 23 is : 720\n"
          ],
          "name": "stdout"
        }
      ]
    },
    {
      "cell_type": "code",
      "metadata": {
        "colab": {
          "base_uri": "https://localhost:8080/"
        },
        "id": "8TqkFqDPWnUF",
        "outputId": "4ee01c3a-9e08-4cab-9200-82ebd718bfeb"
      },
      "source": [
        "#  Fibonacci number\n",
        "def Fibonacci(n):\n",
        "    if n < 0:\n",
        "        print(\"Incorrect input\")\n",
        "    elif n == 0:\n",
        "        return 0\n",
        "    elif n == 1 or n == 2:\n",
        "        return 1\n",
        "    else:\n",
        "        return Fibonacci(n-1) + Fibonacci(n-2)\n",
        "\n",
        "print(Fibonacci(9))"
      ],
      "execution_count": 14,
      "outputs": [
        {
          "output_type": "stream",
          "text": [
            "34\n"
          ],
          "name": "stdout"
        }
      ]
    },
    {
      "cell_type": "code",
      "metadata": {
        "colab": {
          "base_uri": "https://localhost:8080/"
        },
        "id": "W8uR56H9XVmi",
        "outputId": "8f6ffbce-dc5e-442d-dc27-2db9e5004175"
      },
      "source": [
        "# Buble\n",
        "def bs(a):                   # a = name of list\n",
        "    b=len(a)-1\n",
        "    for x in range(b):\n",
        "        for y in range(b-x):\n",
        "            if a[y]>a[y+1]:\n",
        "                a[y],a[y+1]=a[y+1],a[y]\n",
        "    return a\n",
        "a=[3,6,1,8]\n",
        "bs(a)"
      ],
      "execution_count": 15,
      "outputs": [
        {
          "output_type": "execute_result",
          "data": {
            "text/plain": [
              "[1, 3, 6, 8]"
            ]
          },
          "metadata": {
            "tags": []
          },
          "execution_count": 15
        }
      ]
    },
    {
      "cell_type": "code",
      "metadata": {
        "colab": {
          "base_uri": "https://localhost:8080/"
        },
        "id": "ruFFl0MEXkoo",
        "outputId": "773ac544-0509-429f-d1c0-00e4b8746d27"
      },
      "source": [
        "# Merge Sort\n",
        "def msort(mylist, left, right):\n",
        "    if right - left > 1:\n",
        "        middle = (left + right)//2\n",
        "        msort(mylist, left, middle)\n",
        "        msort(mylist, middle, right)\n",
        "        mlist(mylist, left, middle, right)\n",
        " \n",
        "def mlist(mylist, left, middle, right):\n",
        "    leftlist = mylist[left:middle]\n",
        "    rightlist = mylist[middle:right]\n",
        "    k = left\n",
        "    i = 0\n",
        "    j = 0\n",
        "    while (left + i < middle and middle + j < right):\n",
        "        if (leftlist[i] <= rightlist[j]):\n",
        "            mylist[k] = leftlist[i]\n",
        "            i = i + 1\n",
        "        else:\n",
        "            mylist[k] = rightlist[j]\n",
        "            j = j + 1\n",
        "        k = k + 1\n",
        "    if left + i < middle:\n",
        "        while k < right:\n",
        "            mylist[k] = leftlist[i]\n",
        "            i = i + 1\n",
        "            k = k + 1\n",
        "    else:\n",
        "        while k < right:\n",
        "            mylist[k] = rightlist[j]\n",
        "            j = j + 1\n",
        "            k = k + 1\n",
        "  \n",
        "  \n",
        "mylist = input('Enter the list values to be sorted: ').split()\n",
        "mylist = [int(x) for x in mylist]\n",
        "msort(mylist, 0, len(mylist))\n",
        "print('The sorted list is: ')\n",
        "print(mylist)"
      ],
      "execution_count": 17,
      "outputs": [
        {
          "output_type": "stream",
          "text": [
            "Enter the list values to be sorted: 5 6 7 3 6 2 0 9 8 9 4 3 9\n",
            "The sorted list is: \n",
            "[0, 2, 3, 3, 4, 5, 6, 6, 7, 8, 9, 9, 9]\n"
          ],
          "name": "stdout"
        }
      ]
    },
    {
      "cell_type": "code",
      "metadata": {
        "colab": {
          "base_uri": "https://localhost:8080/"
        },
        "id": "5Mv8-hupdGEV",
        "outputId": "bc5580d4-6a60-4bd3-8f40-7b351ff1ea3a"
      },
      "source": [
        "def QuickSort(arr):\n",
        "\n",
        "    elements = len(arr)\n",
        "    \n",
        "    #Base case\n",
        "    if elements < 2:\n",
        "        return arr\n",
        "    \n",
        "    current_position = 0 #Position of the partitioning element\n",
        "\n",
        "    for i in range(1, elements): #Partitioning loop\n",
        "         if arr[i] <= arr[0]:\n",
        "              current_position += 1\n",
        "              temp = arr[i]\n",
        "              arr[i] = arr[current_position]\n",
        "              arr[current_position] = temp\n",
        "\n",
        "    temp = arr[0]\n",
        "    arr[0] = arr[current_position] \n",
        "    arr[current_position] = temp #Brings pivot to it's appropriate position\n",
        "    \n",
        "    left = QuickSort(arr[0:current_position]) #Sorts the elements to the left of pivot\n",
        "    right = QuickSort(arr[current_position+1:elements]) #sorts the elements to the right of pivot\n",
        "\n",
        "    arr = left + [arr[current_position]] + right #Merging everything together\n",
        "    \n",
        "    return arr\n",
        "\n",
        "\n",
        "\n",
        "array_to_be_sorted = [4,2,7,3,1,6]\n",
        "print(\"Original Array: \",array_to_be_sorted)\n",
        "print(\"Sorted Array: \",QuickSort(array_to_be_sorted))"
      ],
      "execution_count": 22,
      "outputs": [
        {
          "output_type": "stream",
          "text": [
            "Original Array:  [4, 2, 7, 3, 1, 6]\n",
            "Sorted Array:  [1, 2, 3, 4, 6, 7]\n"
          ],
          "name": "stdout"
        }
      ]
    },
    {
      "cell_type": "code",
      "metadata": {
        "colab": {
          "base_uri": "https://localhost:8080/"
        },
        "id": "xQ8bVJxdZaST",
        "outputId": "37a2d97e-fddd-4731-9267-9f31c7ec5083"
      },
      "source": [
        "# Interstion\n",
        "def isort(a): \n",
        "    for x in range(1, len(a)): \n",
        "        k = a[x]  #element present at index number 1\n",
        "        j = x-1\n",
        "        while j >=0 and k < a[j] :      #comparing elements with the next until the last item \n",
        "                a[j+1] = a[j] \n",
        "                j -= 1         #comparing each element to the elements present to its left \n",
        "        a[j+1] = k     #new item becomes the key\n",
        " \n",
        "a = [24, 56, 1, 50, 17] \n",
        "isort(a) \n",
        "print(a)"
      ],
      "execution_count": 19,
      "outputs": [
        {
          "output_type": "stream",
          "text": [
            "[1, 17, 24, 50, 56]\n"
          ],
          "name": "stdout"
        }
      ]
    },
    {
      "cell_type": "code",
      "metadata": {
        "colab": {
          "base_uri": "https://localhost:8080/"
        },
        "id": "qP-Vvifycc6m",
        "outputId": "a35bdcb9-05e4-4b95-e0e6-6f851b552797"
      },
      "source": [
        "# Selection Sort\n",
        "def selsort(myarray, r):\n",
        "    for x in range(r):\n",
        "        minimum = x      #first element is assumed to be the minimum\n",
        "        for y in range(x + 1, r):    \n",
        "            if myarray[y] < myarray[minimum]:     #comparing minimum with the next element\n",
        "                minimum = y\n",
        "        (myarray[x], myarray[minimum]) = (myarray[minimum], myarray[x]) #swap elements if required\n",
        "mylist = [34, 23, 1, 67, 4]\n",
        "r = len(mylist)\n",
        "selsort(mylist, r)\n",
        "print(mylist)"
      ],
      "execution_count": 21,
      "outputs": [
        {
          "output_type": "stream",
          "text": [
            "[1, 4, 23, 34, 67]\n"
          ],
          "name": "stdout"
        }
      ]
    },
    {
      "cell_type": "code",
      "metadata": {
        "colab": {
          "base_uri": "https://localhost:8080/"
        },
        "id": "8nIJ_Y2qcfd9",
        "outputId": "6cc0c4ff-deac-47c4-9fe6-528644c64d92"
      },
      "source": [
        "# Linear Search\n",
        "def lin_search(myarray, n, key): \n",
        "   \n",
        "    for x in range(0, n): \n",
        "        if (myarray[x] == key): \n",
        "            return x \n",
        "    return -1\n",
        "   \n",
        "myarray = [ 12, 1, 34, 17]\n",
        "key = 17\n",
        "n = len(myarray)\n",
        "matched = lin_search(myarray, n, key) \n",
        "if(matched == -1): \n",
        "    print(\"Key is not present\") \n",
        "else: \n",
        "    print(\"Key is present in the given list at index\", matched)"
      ],
      "execution_count": 24,
      "outputs": [
        {
          "output_type": "stream",
          "text": [
            "Key is present in the given list at index 3\n"
          ],
          "name": "stdout"
        }
      ]
    },
    {
      "cell_type": "code",
      "metadata": {
        "colab": {
          "base_uri": "https://localhost:8080/"
        },
        "id": "-PhJ0STfd7Do",
        "outputId": "86d40d1d-6043-4059-a8b1-37db68e4384d"
      },
      "source": [
        "# binary\n",
        "def bin_search(mylist,key):\n",
        "    l = 0\n",
        "    r = len(mylist)-1\n",
        "    matched = False\n",
        "    while( l<=r and not matched):\n",
        "        middle = (l + r)//2\n",
        "        if mylist[middle] == key :\n",
        "            matched = True\n",
        "        else:\n",
        "            if key < mylist[middle]:\n",
        "                r = middle - 1\n",
        "            else:\n",
        "                l = middle + 1\n",
        "    return matched\n",
        "print(bin_search([2, 3, 56, 13, 1], 56))\n",
        "print(bin_search([2, 3, 56, 13, 1], 26))"
      ],
      "execution_count": 25,
      "outputs": [
        {
          "output_type": "stream",
          "text": [
            "True\n",
            "False\n"
          ],
          "name": "stdout"
        }
      ]
    },
    {
      "cell_type": "code",
      "metadata": {
        "id": "sCAk7-MBnBpb"
      },
      "source": [
        "# Linkedlist\n",
        "class Node:\n",
        "  # constructor\n",
        "  def __init__(self, data = None, next=None): \n",
        "    self.data = data\n",
        "    self.next = next\n",
        "\n",
        "# A Linked List class with a single head node\n",
        "class LinkedList:\n",
        "  def __init__(self):  \n",
        "    self.head = None\n",
        "  \n",
        "  # insertion method for the linked list\n",
        "  def insert(self, data):\n",
        "    newNode = Node(data)\n",
        "    if(self.head):\n",
        "      current = self.head\n",
        "      while(current.next):\n",
        "        current = current.next\n",
        "      current.next = newNode\n",
        "    else:\n",
        "      self.head = newNode\n",
        "  \n",
        "  # print method for the linked list\n",
        "  def printLL(self):\n",
        "    current = self.head\n",
        "    while(current):\n",
        "      print(current.data)\n",
        "      current = current.next"
      ],
      "execution_count": 26,
      "outputs": []
    },
    {
      "cell_type": "code",
      "metadata": {
        "colab": {
          "base_uri": "https://localhost:8080/"
        },
        "id": "lmBHJ6s9eO3S",
        "outputId": "088b7a33-3ad8-4242-a799-1b60cce591da"
      },
      "source": [
        "LL = LinkedList()\n",
        "LL.insert(3)\n",
        "LL.insert(4)\n",
        "LL.insert(5)\n",
        "LL.printLL()"
      ],
      "execution_count": 28,
      "outputs": [
        {
          "output_type": "stream",
          "text": [
            "3\n",
            "4\n",
            "5\n"
          ],
          "name": "stdout"
        }
      ]
    },
    {
      "cell_type": "code",
      "metadata": {
        "id": "1Ufr5VC4nLJe"
      },
      "source": [
        "append() and POp() # stack\n",
        "append() and pop(0) # queue"
      ],
      "execution_count": null,
      "outputs": []
    }
  ]
}