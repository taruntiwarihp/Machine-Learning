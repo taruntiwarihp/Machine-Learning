{
 "cells": [
  {
   "cell_type": "markdown",
   "metadata": {},
   "source": [
    "### Topic for today's discussion\n",
    "* Understanding NLTK\n",
    "* Tokenizing\n",
    "* Stop-words\n",
    "* Stemming \n",
    "* Lemmetizing\n",
    "\n",
    "<hr>"
   ]
  },
  {
   "cell_type": "markdown",
   "metadata": {},
   "source": [
    "* Text cannot be processed by ML algos\n",
    "* They needs to be pre-processed\n",
    "* They needs to be feature reduction\n",
    "* NLTK is a very foundation which provides all these things"
   ]
  },
  {
   "cell_type": "code",
   "execution_count": 6,
   "metadata": {},
   "outputs": [
    {
     "name": "stdout",
     "output_type": "stream",
     "text": [
      "Requirement already satisfied: nltk in c:\\users\\tarun\\anaconda3\\lib\\site-packages (3.4.5)\n",
      "Requirement already satisfied: six in c:\\users\\tarun\\anaconda3\\lib\\site-packages (from nltk) (1.12.0)\n",
      "Note: you may need to restart the kernel to use updated packages.\n"
     ]
    }
   ],
   "source": [
    "pip install nltk"
   ]
  },
  {
   "cell_type": "code",
   "execution_count": 1,
   "metadata": {},
   "outputs": [],
   "source": [
    "import nltk"
   ]
  },
  {
   "cell_type": "code",
   "execution_count": 5,
   "metadata": {},
   "outputs": [
    {
     "name": "stdout",
     "output_type": "stream",
     "text": [
      "showing info https://raw.githubusercontent.com/nltk/nltk_data/gh-pages/index.xml\n"
     ]
    },
    {
     "data": {
      "text/plain": [
       "True"
      ]
     },
     "execution_count": 5,
     "metadata": {},
     "output_type": "execute_result"
    }
   ],
   "source": [
    "nltk.download()"
   ]
  },
  {
   "cell_type": "code",
   "execution_count": 2,
   "metadata": {},
   "outputs": [],
   "source": [
    "from nltk.tokenize import sent_tokenize,word_tokenize"
   ]
  },
  {
   "cell_type": "code",
   "execution_count": 3,
   "metadata": {},
   "outputs": [],
   "source": [
    "my_txt = 'Hello Mr. Learners, how is learning going on? Hope things are fine. Hope the lockdown solves all the issues.'"
   ]
  },
  {
   "cell_type": "code",
   "execution_count": 4,
   "metadata": {},
   "outputs": [
    {
     "data": {
      "text/plain": [
       "['Hello Mr. Learners, how is learning going on?',\n",
       " 'Hope things are fine.',\n",
       " 'Hope the lockdown solves all the issues.']"
      ]
     },
     "execution_count": 4,
     "metadata": {},
     "output_type": "execute_result"
    }
   ],
   "source": [
    "sent_tokenize(my_txt)"
   ]
  },
  {
   "cell_type": "code",
   "execution_count": 5,
   "metadata": {},
   "outputs": [
    {
     "data": {
      "text/plain": [
       "['Hello',\n",
       " 'Mr.',\n",
       " 'Learners',\n",
       " ',',\n",
       " 'how',\n",
       " 'is',\n",
       " 'learning',\n",
       " 'going',\n",
       " 'on',\n",
       " '?',\n",
       " 'Hope',\n",
       " 'things',\n",
       " 'are',\n",
       " 'fine',\n",
       " '.',\n",
       " 'Hope',\n",
       " 'the',\n",
       " 'lockdown',\n",
       " 'solves',\n",
       " 'all',\n",
       " 'the',\n",
       " 'issues',\n",
       " '.']"
      ]
     },
     "execution_count": 5,
     "metadata": {},
     "output_type": "execute_result"
    }
   ],
   "source": [
    "word_tokenize(my_txt)"
   ]
  },
  {
   "cell_type": "markdown",
   "metadata": {},
   "source": [
    "### Stemming and Lemmatization are Text Normalization (or sometimes called Word Normalization) techniques in the field of Natural Language Processing that are used to prepare text, words, and documents for further processing. "
   ]
  },
  {
   "cell_type": "markdown",
   "metadata": {},
   "source": [
    "### Stemming\n",
    "* Many variations of words carry the same meaning, other than when tense is involved.\n",
    "* Objective is reduce the dimension of data\n",
    "* Curse of dimension - lot of algorithms don't work that well if the dimensions is too many"
   ]
  },
  {
   "cell_type": "code",
   "execution_count": 6,
   "metadata": {},
   "outputs": [],
   "source": [
    "from nltk.stem import PorterStemmer"
   ]
  },
  {
   "cell_type": "code",
   "execution_count": 7,
   "metadata": {},
   "outputs": [],
   "source": [
    "ps = PorterStemmer()"
   ]
  },
  {
   "cell_type": "code",
   "execution_count": 8,
   "metadata": {},
   "outputs": [],
   "source": [
    "words = ['go','went','going','gone']#['runs','runner','running','run']"
   ]
  },
  {
   "cell_type": "code",
   "execution_count": 9,
   "metadata": {},
   "outputs": [
    {
     "name": "stdout",
     "output_type": "stream",
     "text": [
      "go\n",
      "went\n",
      "go\n",
      "gone\n"
     ]
    }
   ],
   "source": [
    "for word in words:\n",
    "    print(ps.stem(word))"
   ]
  },
  {
   "cell_type": "code",
   "execution_count": 10,
   "metadata": {},
   "outputs": [],
   "source": [
    "text_data = ['I runs verying is fast','I was very running fast veries veried']"
   ]
  },
  {
   "cell_type": "code",
   "execution_count": 11,
   "metadata": {},
   "outputs": [],
   "source": [
    "import pandas as pd"
   ]
  },
  {
   "cell_type": "code",
   "execution_count": 12,
   "metadata": {},
   "outputs": [],
   "source": [
    "df = pd.DataFrame({'Text':text_data})"
   ]
  },
  {
   "cell_type": "code",
   "execution_count": 13,
   "metadata": {},
   "outputs": [],
   "source": [
    "from sklearn.feature_extraction.text import CountVectorizer"
   ]
  },
  {
   "cell_type": "code",
   "execution_count": 14,
   "metadata": {},
   "outputs": [],
   "source": [
    "cv = CountVectorizer()"
   ]
  },
  {
   "cell_type": "code",
   "execution_count": 15,
   "metadata": {},
   "outputs": [],
   "source": [
    "def f(r):\n",
    "    words = word_tokenize(r)\n",
    "    res=[]\n",
    "    for word in words:\n",
    "        res.append(ps.stem(word))\n",
    "    return (' '.join(res))\n",
    "df.Text = df.Text.map(f)"
   ]
  },
  {
   "cell_type": "code",
   "execution_count": 16,
   "metadata": {},
   "outputs": [
    {
     "data": {
      "text/plain": [
       "0              I run veri is fast\n",
       "1    I wa veri run fast veri veri\n",
       "Name: Text, dtype: object"
      ]
     },
     "execution_count": 16,
     "metadata": {},
     "output_type": "execute_result"
    }
   ],
   "source": [
    "df.Text"
   ]
  },
  {
   "cell_type": "code",
   "execution_count": 17,
   "metadata": {},
   "outputs": [
    {
     "data": {
      "text/plain": [
       "<2x5 sparse matrix of type '<class 'numpy.int64'>'\n",
       "\twith 8 stored elements in Compressed Sparse Row format>"
      ]
     },
     "execution_count": 17,
     "metadata": {},
     "output_type": "execute_result"
    }
   ],
   "source": [
    "cv.fit_transform(df.Text)"
   ]
  },
  {
   "cell_type": "code",
   "execution_count": 18,
   "metadata": {},
   "outputs": [
    {
     "data": {
      "text/plain": [
       "{'run': 2, 'veri': 3, 'is': 1, 'fast': 0, 'wa': 4}"
      ]
     },
     "execution_count": 18,
     "metadata": {},
     "output_type": "execute_result"
    }
   ],
   "source": [
    "cv.vocabulary_"
   ]
  },
  {
   "cell_type": "code",
   "execution_count": 19,
   "metadata": {},
   "outputs": [
    {
     "data": {
      "text/plain": [
       "array([[1, 1, 1, 1, 0],\n",
       "       [1, 0, 1, 3, 1]], dtype=int64)"
      ]
     },
     "execution_count": 19,
     "metadata": {},
     "output_type": "execute_result"
    }
   ],
   "source": [
    "cv.fit_transform(df.Text).toarray()"
   ]
  },
  {
   "cell_type": "markdown",
   "metadata": {},
   "source": [
    "### Lemmatizing\n",
    "* Similar to Stemming \n",
    "* Stemming can work  for incorrect words\n",
    "* Lemmatizing works on the actual words"
   ]
  },
  {
   "cell_type": "code",
   "execution_count": 20,
   "metadata": {},
   "outputs": [],
   "source": [
    "from nltk.stem import WordNetLemmatizer"
   ]
  },
  {
   "cell_type": "code",
   "execution_count": 21,
   "metadata": {},
   "outputs": [],
   "source": [
    "wl = WordNetLemmatizer()"
   ]
  },
  {
   "cell_type": "code",
   "execution_count": 22,
   "metadata": {},
   "outputs": [
    {
     "data": {
      "text/plain": [
       "'cat'"
      ]
     },
     "execution_count": 22,
     "metadata": {},
     "output_type": "execute_result"
    }
   ],
   "source": [
    "wl.lemmatize('cats')"
   ]
  },
  {
   "cell_type": "code",
   "execution_count": 23,
   "metadata": {},
   "outputs": [
    {
     "data": {
      "text/plain": [
       "'run'"
      ]
     },
     "execution_count": 23,
     "metadata": {},
     "output_type": "execute_result"
    }
   ],
   "source": [
    "wl.lemmatize('runs')"
   ]
  },
  {
   "cell_type": "code",
   "execution_count": 24,
   "metadata": {},
   "outputs": [
    {
     "data": {
      "text/plain": [
       "'goose'"
      ]
     },
     "execution_count": 24,
     "metadata": {},
     "output_type": "execute_result"
    }
   ],
   "source": [
    "wl.lemmatize('goose')"
   ]
  },
  {
   "cell_type": "code",
   "execution_count": 25,
   "metadata": {},
   "outputs": [
    {
     "data": {
      "text/plain": [
       "'goose'"
      ]
     },
     "execution_count": 25,
     "metadata": {},
     "output_type": "execute_result"
    }
   ],
   "source": [
    "wl.lemmatize('geese')"
   ]
  },
  {
   "cell_type": "code",
   "execution_count": 26,
   "metadata": {},
   "outputs": [
    {
     "data": {
      "text/plain": [
       "'good'"
      ]
     },
     "execution_count": 26,
     "metadata": {},
     "output_type": "execute_result"
    }
   ],
   "source": [
    "wl.lemmatize('better',pos=\"a\")"
   ]
  },
  {
   "cell_type": "code",
   "execution_count": 27,
   "metadata": {},
   "outputs": [
    {
     "data": {
      "text/plain": [
       "'good'"
      ]
     },
     "execution_count": 27,
     "metadata": {},
     "output_type": "execute_result"
    }
   ],
   "source": [
    "wl.lemmatize('good',pos=\"a\")"
   ]
  },
  {
   "cell_type": "code",
   "execution_count": 28,
   "metadata": {},
   "outputs": [
    {
     "data": {
      "text/plain": [
       "'pay'"
      ]
     },
     "execution_count": 28,
     "metadata": {},
     "output_type": "execute_result"
    }
   ],
   "source": [
    "ps.stem('paying')"
   ]
  },
  {
   "cell_type": "code",
   "execution_count": 29,
   "metadata": {},
   "outputs": [
    {
     "data": {
      "text/plain": [
       "'pay'"
      ]
     },
     "execution_count": 29,
     "metadata": {},
     "output_type": "execute_result"
    }
   ],
   "source": [
    "ps.stem('pays')"
   ]
  },
  {
   "cell_type": "code",
   "execution_count": 30,
   "metadata": {},
   "outputs": [
    {
     "data": {
      "text/plain": [
       "'pay'"
      ]
     },
     "execution_count": 30,
     "metadata": {},
     "output_type": "execute_result"
    }
   ],
   "source": [
    "ps.stem('payed')"
   ]
  },
  {
   "cell_type": "markdown",
   "metadata": {},
   "source": [
    "### LancasterStemmer"
   ]
  },
  {
   "cell_type": "code",
   "execution_count": 31,
   "metadata": {},
   "outputs": [],
   "source": [
    "from nltk.stem import LancasterStemmer"
   ]
  },
  {
   "cell_type": "code",
   "execution_count": 32,
   "metadata": {},
   "outputs": [],
   "source": [
    "ls = LancasterStemmer()"
   ]
  },
  {
   "cell_type": "code",
   "execution_count": 33,
   "metadata": {},
   "outputs": [
    {
     "data": {
      "text/plain": [
       "'troubl'"
      ]
     },
     "execution_count": 33,
     "metadata": {},
     "output_type": "execute_result"
    }
   ],
   "source": [
    "ls.stem('trouble')"
   ]
  },
  {
   "cell_type": "code",
   "execution_count": 34,
   "metadata": {},
   "outputs": [
    {
     "data": {
      "text/plain": [
       "'troubl'"
      ]
     },
     "execution_count": 34,
     "metadata": {},
     "output_type": "execute_result"
    }
   ],
   "source": [
    "ls.stem('troubling')"
   ]
  },
  {
   "cell_type": "code",
   "execution_count": 35,
   "metadata": {},
   "outputs": [],
   "source": [
    "text = 'He was running and eating at the, same time. He also has a very bad habbit of playing in the Sun after having food'"
   ]
  },
  {
   "cell_type": "code",
   "execution_count": 36,
   "metadata": {},
   "outputs": [],
   "source": [
    "punctuations = ',.?'"
   ]
  },
  {
   "cell_type": "code",
   "execution_count": 37,
   "metadata": {},
   "outputs": [],
   "source": [
    "text = text.replace(',','').replace('?','').replace('.','')"
   ]
  },
  {
   "cell_type": "code",
   "execution_count": 38,
   "metadata": {},
   "outputs": [],
   "source": [
    "words = word_tokenize(text)"
   ]
  },
  {
   "cell_type": "code",
   "execution_count": 39,
   "metadata": {},
   "outputs": [
    {
     "data": {
      "text/plain": [
       "['He',\n",
       " 'was',\n",
       " 'running',\n",
       " 'and',\n",
       " 'eating',\n",
       " 'at',\n",
       " 'the',\n",
       " 'same',\n",
       " 'time',\n",
       " 'He',\n",
       " 'also',\n",
       " 'has',\n",
       " 'a',\n",
       " 'very',\n",
       " 'bad',\n",
       " 'habbit',\n",
       " 'of',\n",
       " 'playing',\n",
       " 'in',\n",
       " 'the',\n",
       " 'Sun',\n",
       " 'after',\n",
       " 'having',\n",
       " 'food']"
      ]
     },
     "execution_count": 39,
     "metadata": {},
     "output_type": "execute_result"
    }
   ],
   "source": [
    "words"
   ]
  },
  {
   "cell_type": "code",
   "execution_count": 40,
   "metadata": {},
   "outputs": [
    {
     "name": "stdout",
     "output_type": "stream",
     "text": [
      "He\n",
      "be\n",
      "run\n",
      "and\n",
      "eat\n",
      "at\n",
      "the\n",
      "same\n",
      "time\n",
      "He\n",
      "also\n",
      "have\n",
      "a\n",
      "very\n",
      "bad\n",
      "habbit\n",
      "of\n",
      "play\n",
      "in\n",
      "the\n",
      "Sun\n",
      "after\n",
      "have\n",
      "food\n"
     ]
    }
   ],
   "source": [
    "for word in words:\n",
    "    print(wl.lemmatize(word,pos='v'))"
   ]
  },
  {
   "cell_type": "code",
   "execution_count": 41,
   "metadata": {},
   "outputs": [],
   "source": [
    "horror_data = pd.read_csv('https://raw.githubusercontent.com/edyoda/data-science-complete-tutorial/master/Data/horror-train.csv')"
   ]
  },
  {
   "cell_type": "code",
   "execution_count": 42,
   "metadata": {},
   "outputs": [
    {
     "data": {
      "text/plain": [
       "Index(['id', 'text', 'author'], dtype='object')"
      ]
     },
     "execution_count": 42,
     "metadata": {},
     "output_type": "execute_result"
    }
   ],
   "source": [
    "horror_data.columns"
   ]
  },
  {
   "cell_type": "code",
   "execution_count": 43,
   "metadata": {},
   "outputs": [],
   "source": [
    "horror_data = horror_data[['text']]"
   ]
  },
  {
   "cell_type": "code",
   "execution_count": 44,
   "metadata": {},
   "outputs": [
    {
     "data": {
      "text/html": [
       "<div>\n",
       "<style scoped>\n",
       "    .dataframe tbody tr th:only-of-type {\n",
       "        vertical-align: middle;\n",
       "    }\n",
       "\n",
       "    .dataframe tbody tr th {\n",
       "        vertical-align: top;\n",
       "    }\n",
       "\n",
       "    .dataframe thead th {\n",
       "        text-align: right;\n",
       "    }\n",
       "</style>\n",
       "<table border=\"1\" class=\"dataframe\">\n",
       "  <thead>\n",
       "    <tr style=\"text-align: right;\">\n",
       "      <th></th>\n",
       "      <th>text</th>\n",
       "    </tr>\n",
       "  </thead>\n",
       "  <tbody>\n",
       "    <tr>\n",
       "      <td>0</td>\n",
       "      <td>This process, however, afforded me no means of...</td>\n",
       "    </tr>\n",
       "    <tr>\n",
       "      <td>1</td>\n",
       "      <td>It never once occurred to me that the fumbling...</td>\n",
       "    </tr>\n",
       "    <tr>\n",
       "      <td>2</td>\n",
       "      <td>In his left hand was a gold snuff box, from wh...</td>\n",
       "    </tr>\n",
       "    <tr>\n",
       "      <td>3</td>\n",
       "      <td>How lovely is spring As we looked from Windsor...</td>\n",
       "    </tr>\n",
       "    <tr>\n",
       "      <td>4</td>\n",
       "      <td>Finding nothing else, not even gold, the Super...</td>\n",
       "    </tr>\n",
       "  </tbody>\n",
       "</table>\n",
       "</div>"
      ],
      "text/plain": [
       "                                                text\n",
       "0  This process, however, afforded me no means of...\n",
       "1  It never once occurred to me that the fumbling...\n",
       "2  In his left hand was a gold snuff box, from wh...\n",
       "3  How lovely is spring As we looked from Windsor...\n",
       "4  Finding nothing else, not even gold, the Super..."
      ]
     },
     "execution_count": 44,
     "metadata": {},
     "output_type": "execute_result"
    }
   ],
   "source": [
    "horror_data[:5]"
   ]
  },
  {
   "cell_type": "markdown",
   "metadata": {},
   "source": [
    "* Using NearestNeighbours with metrices as cosine distance,we will find similar texts\n",
    "* We can use regex to remove punctuations"
   ]
  },
  {
   "cell_type": "code",
   "execution_count": 45,
   "metadata": {},
   "outputs": [],
   "source": [
    "def f(t):\n",
    "    return t.replace(',','').replace('?','').replace('.','')\n",
    "horror_data['new_text'] = horror_data.text.map(f)"
   ]
  },
  {
   "cell_type": "code",
   "execution_count": 46,
   "metadata": {},
   "outputs": [],
   "source": [
    "def stem_func(r):\n",
    "    words = word_tokenize(r)\n",
    "    sent = []\n",
    "    for word in words:\n",
    "        sent.append(ps.stem(word))\n",
    "    return ' '.join(sent)\n",
    "\n",
    "horror_data['stem_words'] = horror_data.new_text.map(stem_func)"
   ]
  },
  {
   "cell_type": "code",
   "execution_count": 47,
   "metadata": {},
   "outputs": [],
   "source": [
    "cv = CountVectorizer(stop_words='english')"
   ]
  },
  {
   "cell_type": "code",
   "execution_count": 48,
   "metadata": {},
   "outputs": [
    {
     "data": {
      "text/plain": [
       "CountVectorizer(analyzer='word', binary=False, decode_error='strict',\n",
       "                dtype=<class 'numpy.int64'>, encoding='utf-8', input='content',\n",
       "                lowercase=True, max_df=1.0, max_features=None, min_df=1,\n",
       "                ngram_range=(1, 1), preprocessor=None, stop_words='english',\n",
       "                strip_accents=None, token_pattern='(?u)\\\\b\\\\w\\\\w+\\\\b',\n",
       "                tokenizer=None, vocabulary=None)"
      ]
     },
     "execution_count": 48,
     "metadata": {},
     "output_type": "execute_result"
    }
   ],
   "source": [
    "cv.fit(horror_data.text)"
   ]
  },
  {
   "cell_type": "code",
   "execution_count": 49,
   "metadata": {
    "collapsed": true
   },
   "outputs": [
    {
     "data": {
      "text/plain": [
       "{'process': 16946,\n",
       " 'afforded': 452,\n",
       " 'means': 13553,\n",
       " 'ascertaining': 1269,\n",
       " 'dimensions': 6069,\n",
       " 'dungeon': 6830,\n",
       " 'make': 13253,\n",
       " 'circuit': 3675,\n",
       " 'return': 18392,\n",
       " 'point': 16441,\n",
       " 'set': 19497,\n",
       " 'aware': 1620,\n",
       " 'fact': 8144,\n",
       " 'perfectly': 15882,\n",
       " 'uniform': 23052,\n",
       " 'wall': 23988,\n",
       " 'occurred': 14936,\n",
       " 'fumbling': 9165,\n",
       " 'mere': 13692,\n",
       " 'mistake': 13929,\n",
       " 'left': 12627,\n",
       " 'hand': 10039,\n",
       " 'gold': 9634,\n",
       " 'snuff': 20156,\n",
       " 'box': 2543,\n",
       " 'capered': 3070,\n",
       " 'hill': 10435,\n",
       " 'cutting': 5197,\n",
       " 'manner': 13331,\n",
       " 'fantastic': 8248,\n",
       " 'steps': 20746,\n",
       " 'took': 22193,\n",
       " 'incessantly': 11152,\n",
       " 'air': 551,\n",
       " 'greatest': 9778,\n",
       " 'possible': 16596,\n",
       " 'self': 19381,\n",
       " 'satisfaction': 19018,\n",
       " 'lovely': 13045,\n",
       " 'spring': 20531,\n",
       " 'looked': 12987,\n",
       " 'windsor': 24388,\n",
       " 'terrace': 21794,\n",
       " 'sixteen': 19928,\n",
       " 'fertile': 8438,\n",
       " 'counties': 4830,\n",
       " 'spread': 20524,\n",
       " 'beneath': 2066,\n",
       " 'speckled': 20405,\n",
       " 'happy': 10085,\n",
       " 'cottages': 4797,\n",
       " 'wealthier': 24123,\n",
       " 'towns': 22272,\n",
       " 'years': 24662,\n",
       " 'heart': 10243,\n",
       " 'cheering': 3500,\n",
       " 'fair': 8177,\n",
       " 'finding': 8541,\n",
       " 'superintendent': 21242,\n",
       " 'abandoned': 5,\n",
       " 'attempts': 1456,\n",
       " 'perplexed': 15948,\n",
       " 'look': 12986,\n",
       " 'occasionally': 14919,\n",
       " 'steals': 20705,\n",
       " 'countenance': 4816,\n",
       " 'sits': 19919,\n",
       " 'thinking': 21914,\n",
       " 'desk': 5825,\n",
       " 'youth': 24699,\n",
       " 'passed': 15640,\n",
       " 'solitude': 20234,\n",
       " 'best': 2125,\n",
       " 'spent': 20446,\n",
       " 'gentle': 9403,\n",
       " 'feminine': 8419,\n",
       " 'fosterage': 8962,\n",
       " 'refined': 17882,\n",
       " 'groundwork': 9855,\n",
       " 'character': 3423,\n",
       " 'overcome': 15295,\n",
       " 'intense': 11674,\n",
       " 'distaste': 6400,\n",
       " 'usual': 23446,\n",
       " 'brutality': 2746,\n",
       " 'exercised': 7904,\n",
       " 'board': 2384,\n",
       " 'ship': 19651,\n",
       " 'believed': 2032,\n",
       " 'necessary': 14485,\n",
       " 'heard': 10234,\n",
       " 'mariner': 13393,\n",
       " 'equally': 7605,\n",
       " 'noted': 14735,\n",
       " 'kindliness': 12266,\n",
       " 'respect': 18292,\n",
       " 'obedience': 14839,\n",
       " 'paid': 15426,\n",
       " 'crew': 4980,\n",
       " 'felt': 8415,\n",
       " 'peculiarly': 15773,\n",
       " 'fortunate': 8952,\n",
       " 'able': 44,\n",
       " 'secure': 19325,\n",
       " 'services': 19486,\n",
       " 'astronomer': 1397,\n",
       " 'refuge': 17910,\n",
       " 'suggestion': 21146,\n",
       " 'non': 14684,\n",
       " 'luminosity': 13090,\n",
       " 'analogy': 787,\n",
       " 'suddenly': 21119,\n",
       " 'let': 12685,\n",
       " 'fall': 8192,\n",
       " 'surcingle': 21299,\n",
       " 'hung': 10722,\n",
       " 'ribands': 18492,\n",
       " 'body': 2407,\n",
       " 'knew': 12310,\n",
       " 'say': 19060,\n",
       " 'stereotomy': 20748,\n",
       " 'brought': 2721,\n",
       " 'think': 21910,\n",
       " 'atomies': 1426,\n",
       " 'theories': 21878,\n",
       " 'epicurus': 7576,\n",
       " 'discussed': 6225,\n",
       " 'subject': 21034,\n",
       " 'long': 12973,\n",
       " 'ago': 506,\n",
       " 'mentioned': 13673,\n",
       " 'singularly': 19898,\n",
       " 'little': 12872,\n",
       " 'notice': 14739,\n",
       " 'vague': 23488,\n",
       " 'guesses': 9907,\n",
       " 'noble': 14656,\n",
       " 'greek': 9788,\n",
       " 'met': 13729,\n",
       " 'confirmation': 4339,\n",
       " 'late': 12496,\n",
       " 'nebular': 14478,\n",
       " 'cosmogony': 4785,\n",
       " 'avoid': 1598,\n",
       " 'casting': 3200,\n",
       " 'eyes': 8118,\n",
       " 'upward': 23413,\n",
       " 'great': 9776,\n",
       " 'nebula': 14477,\n",
       " 'orion': 15172,\n",
       " 'certainly': 3347,\n",
       " 'expected': 7969,\n",
       " 'confess': 4319,\n",
       " 'structure': 20962,\n",
       " 'languages': 12450,\n",
       " 'code': 3924,\n",
       " 'governments': 9681,\n",
       " 'politics': 16473,\n",
       " 'various': 23561,\n",
       " 'states': 20677,\n",
       " 'possessed': 16586,\n",
       " 'attractions': 1483,\n",
       " 'shall': 19554,\n",
       " 'feel': 8387,\n",
       " 'injuries': 11487,\n",
       " 'learn': 12590,\n",
       " 'dread': 6672,\n",
       " 'revenge': 18412,\n",
       " 'days': 5350,\n",
       " 'arrived': 1214,\n",
       " 'barricaded': 1820,\n",
       " 'present': 16794,\n",
       " 'herbert': 10361,\n",
       " 'west': 24202,\n",
       " 'needed': 14496,\n",
       " 'fresh': 9060,\n",
       " 'bodies': 2403,\n",
       " 'life': 12747,\n",
       " 'work': 24509,\n",
       " 'reanimation': 17691,\n",
       " 'dead': 5360,\n",
       " 'farm': 8258,\n",
       " 'like': 12775,\n",
       " 'grounds': 9854,\n",
       " 'extended': 8051,\n",
       " 'deeply': 5509,\n",
       " 'wheaton': 24225,\n",
       " 'street': 20899,\n",
       " 'glance': 9520,\n",
       " 'fallacy': 8194,\n",
       " 'idea': 10817,\n",
       " 'escaped': 7661,\n",
       " 'commence': 4066,\n",
       " 'destructive': 5878,\n",
       " 'endless': 7361,\n",
       " 'journey': 12105,\n",
       " 'mountainous': 14184,\n",
       " 'ices': 10810,\n",
       " 'ocean': 14941,\n",
       " 'amidst': 750,\n",
       " 'cold': 3951,\n",
       " 'inhabitants': 11453,\n",
       " 'endure': 7375,\n",
       " 'native': 14428,\n",
       " 'genial': 9394,\n",
       " 'sunny': 21211,\n",
       " 'climate': 3814,\n",
       " 'hope': 10581,\n",
       " 'survive': 21349,\n",
       " 'speeches': 20430,\n",
       " 'gave': 9358,\n",
       " 'course': 4848,\n",
       " 'interpretation': 11727,\n",
       " 'fancying': 8235,\n",
       " 'doubt': 6600,\n",
       " 'events': 7760,\n",
       " 'come': 4033,\n",
       " 'possession': 16589,\n",
       " 'vast': 23574,\n",
       " 'quantities': 17380,\n",
       " 'ready': 17670,\n",
       " 'money': 14023,\n",
       " 'provided': 17159,\n",
       " 'owed': 15373,\n",
       " 'trifle': 22494,\n",
       " 'consideration': 4444,\n",
       " 'dare': 5300,\n",
       " 'cared': 3118,\n",
       " 'soul': 20311,\n",
       " 'carcass': 3110,\n",
       " 'sprightliness': 20529,\n",
       " 'undue': 22932,\n",
       " 'excitement': 7861,\n",
       " 'placid': 16279,\n",
       " 'reposed': 18178,\n",
       " 'contented': 4551,\n",
       " 'love': 13039,\n",
       " 'children': 3551,\n",
       " 'beauty': 1936,\n",
       " 'surrounding': 21342,\n",
       " 'nature': 14436,\n",
       " 'went': 24194,\n",
       " 'far': 8253,\n",
       " 'speak': 20385,\n",
       " 'slightly': 20032,\n",
       " 'hectic': 10282,\n",
       " 'cough': 4805,\n",
       " 'time': 22083,\n",
       " 'troubled': 22549,\n",
       " 'chronic': 3640,\n",
       " 'rheumatism': 18474,\n",
       " 'twinge': 22672,\n",
       " 'hereditary': 10369,\n",
       " 'gout': 9673,\n",
       " 'conclusion': 4270,\n",
       " 'disagreeable': 6125,\n",
       " 'inconvenient': 11214,\n",
       " 'hitherto': 10480,\n",
       " 'carefully': 3123,\n",
       " 'concealed': 4229,\n",
       " 'weakness': 24121,\n",
       " 'facial': 8135,\n",
       " 'aspect': 1292,\n",
       " 'remarkable': 18053,\n",
       " 'maturity': 13517,\n",
       " 'shared': 19580,\n",
       " 'mother': 14152,\n",
       " 'grandfather': 9712,\n",
       " 'chinlessness': 3579,\n",
       " 'firm': 8572,\n",
       " 'precociously': 16714,\n",
       " 'shaped': 19576,\n",
       " 'nose': 14726,\n",
       " 'united': 23082,\n",
       " 'expression': 8039,\n",
       " 'large': 12474,\n",
       " 'dark': 5305,\n",
       " 'latin': 12509,\n",
       " 'quasi': 17395,\n",
       " 'adulthood': 360,\n",
       " 'nigh': 14612,\n",
       " 'preternatural': 16841,\n",
       " 'intelligence': 11663,\n",
       " 'net': 14549,\n",
       " 'permanently': 15922,\n",
       " 'fastened': 8289,\n",
       " 'hoop': 10576,\n",
       " 'attached': 1436,\n",
       " 'series': 19470,\n",
       " 'running': 18816,\n",
       " 'loops': 12997,\n",
       " 'nooses': 14699,\n",
       " 'sounds': 20321,\n",
       " 'hideous': 10416,\n",
       " 'held': 10316,\n",
       " 'vibrations': 23715,\n",
       " 'suggesting': 21145,\n",
       " 'globe': 9568,\n",
       " 'earth': 6917,\n",
       " 'certain': 3346,\n",
       " 'intervals': 11751,\n",
       " 'assumed': 1365,\n",
       " 'symphonic': 21497,\n",
       " 'quality': 17377,\n",
       " 'hardly': 10101,\n",
       " 'conceive': 4240,\n",
       " 'produced': 16967,\n",
       " 'player': 16337,\n",
       " 'wilderness': 24345,\n",
       " 'balconies': 1711,\n",
       " 'verandas': 23646,\n",
       " 'minarets': 13830,\n",
       " 'shrines': 19735,\n",
       " 'fantastically': 8250,\n",
       " 'carved': 3176,\n",
       " 'oriels': 15162,\n",
       " 'deep': 5503,\n",
       " 'spirit': 20475,\n",
       " 'wonder': 24479,\n",
       " 'perplexity': 15951,\n",
       " 'wont': 24488,\n",
       " 'regard': 17927,\n",
       " 'remote': 18088,\n",
       " 'pew': 16054,\n",
       " 'gallery': 9266,\n",
       " 'step': 20741,\n",
       " 'solemn': 20220,\n",
       " 'slow': 20063,\n",
       " 'ascended': 1262,\n",
       " 'pulpit': 17244,\n",
       " 'reverend': 18422,\n",
       " 'man': 13300,\n",
       " 'demurely': 5672,\n",
       " 'benign': 2080,\n",
       " 'robes': 18635,\n",
       " 'glossy': 9581,\n",
       " 'clerically': 3800,\n",
       " 'flowing': 8746,\n",
       " 'wig': 24337,\n",
       " 'minutely': 13864,\n",
       " 'powdered': 16641,\n",
       " 'rigid': 18546,\n",
       " 'sour': 20323,\n",
       " 'visage': 23812,\n",
       " 'snuffy': 20157,\n",
       " 'habiliments': 9976,\n",
       " 'administered': 312,\n",
       " 'ferule': 8440,\n",
       " 'draconian': 6630,\n",
       " 'laws': 12549,\n",
       " 'academy': 113,\n",
       " 'bizarre': 2243,\n",
       " 'explanation': 8004,\n",
       " 'followed': 8809,\n",
       " 'prodigies': 16963,\n",
       " 'signs': 19835,\n",
       " 'taken': 21544,\n",
       " 'place': 16275,\n",
       " 'wide': 24318,\n",
       " 'sea': 19262,\n",
       " 'land': 12429,\n",
       " 'black': 2246,\n",
       " 'wings': 24395,\n",
       " 'pestilence': 16023,\n",
       " 'abroad': 66,\n",
       " 'fairly': 8182,\n",
       " 'said': 18892,\n",
       " 'known': 12339,\n",
       " 'pure': 17287,\n",
       " 'readily': 17662,\n",
       " 'lead': 12564,\n",
       " 'connection': 4402,\n",
       " 'substances': 21074,\n",
       " 'kind': 12261,\n",
       " 'proportions': 17089,\n",
       " 'unknown': 23103,\n",
       " 'speculation': 20422,\n",
       " 'busy': 2878,\n",
       " 'immediate': 10938,\n",
       " 'ultimate': 22721,\n",
       " 'results': 18340,\n",
       " 'discovery': 6214,\n",
       " 'persons': 15983,\n",
       " 'hesitate': 10394,\n",
       " 'referring': 17879,\n",
       " 'increased': 11220,\n",
       " 'matter': 13508,\n",
       " 'generally': 9383,\n",
       " 'developments': 5927,\n",
       " 'california': 2968,\n",
       " 'reflection': 17891,\n",
       " 'brings': 2678,\n",
       " 'inevitably': 11350,\n",
       " 'exceeding': 7829,\n",
       " 'inopportuneness': 11516,\n",
       " 'von': 23895,\n",
       " 'kempelen': 12223,\n",
       " 'analysis': 791,\n",
       " 'verge': 23659,\n",
       " 'comprehension': 4207,\n",
       " 'power': 16642,\n",
       " 'comprehend': 4203,\n",
       " 'men': 13649,\n",
       " 'times': 22089,\n",
       " 'brink': 2679,\n",
       " 'remembrance': 18067,\n",
       " 'end': 7346,\n",
       " 'remember': 18062,\n",
       " 'compasses': 4141,\n",
       " 'depth': 5754,\n",
       " 'gauges': 9352,\n",
       " 'delicate': 5591,\n",
       " 'instruments': 11635,\n",
       " 'ruined': 18784,\n",
       " 'henceforth': 10350,\n",
       " 'reckoning': 17765,\n",
       " 'guesswork': 9909,\n",
       " 'based': 1839,\n",
       " 'watches': 24073,\n",
       " 'calendar': 2965,\n",
       " 'apparent': 1001,\n",
       " 'drift': 6705,\n",
       " 'judged': 12128,\n",
       " 'objects': 14855,\n",
       " 'spy': 20556,\n",
       " 'portholes': 16559,\n",
       " 'conning': 4409,\n",
       " 'tower': 22267,\n",
       " 'young': 24692,\n",
       " 'warriors': 24053,\n",
       " 'sarnath': 18993,\n",
       " 'symbol': 21479,\n",
       " 'conquest': 4418,\n",
       " 'old': 15014,\n",
       " 'gods': 9622,\n",
       " 'beings': 2016,\n",
       " 'ib': 10802,\n",
       " 'sign': 19821,\n",
       " 'leadership': 12569,\n",
       " 'mnar': 13953,\n",
       " 'meantime': 13555,\n",
       " 'paradise': 15530,\n",
       " 'arnheim': 1186,\n",
       " 'bursts': 2855,\n",
       " 'view': 23742,\n",
       " 'rich': 18499,\n",
       " 'guardian': 9897,\n",
       " 'appointed': 1043,\n",
       " 'act': 241,\n",
       " 'society': 20181,\n",
       " 'secret': 19310,\n",
       " 'really': 17686,\n",
       " 'cut': 5192,\n",
       " 'dim': 6065,\n",
       " 'light': 12759,\n",
       " 'contain': 4529,\n",
       " 'prophecies': 17076,\n",
       " 'detailed': 5885,\n",
       " 'relations': 17999,\n",
       " 'lately': 12497,\n",
       " 'names': 14380,\n",
       " 'modern': 13980,\n",
       " 'date': 5332,\n",
       " 'exclamations': 7870,\n",
       " 'exultation': 8104,\n",
       " 'woe': 24461,\n",
       " 'victory': 23735,\n",
       " 'defeat': 5517,\n",
       " 'traced': 22281,\n",
       " 'scant': 19086,\n",
       " 'pages': 15423,\n",
       " 'talked': 21558,\n",
       " 'tombs': 22175,\n",
       " 'sheehan': 19606,\n",
       " 'especially': 7676,\n",
       " 'did': 6004,\n",
       " 'ply': 16413,\n",
       " 'inquiries': 11527,\n",
       " 'eliciting': 7139,\n",
       " 'information': 11425,\n",
       " 'value': 23520,\n",
       " 'concerning': 4253,\n",
       " 'bugs': 2785,\n",
       " 'cried': 4984,\n",
       " 'aloud': 682,\n",
       " 'later': 12501,\n",
       " 'gasp': 9336,\n",
       " 'terrible': 21802,\n",
       " 'tracks': 22288,\n",
       " 'crossed': 5022,\n",
       " 'river': 18600,\n",
       " 'grade': 9697,\n",
       " 'veered': 23592,\n",
       " 'region': 17942,\n",
       " 'increasingly': 11223,\n",
       " 'rural': 18819,\n",
       " 'innsmouth': 11511,\n",
       " 'abhorrent': 35,\n",
       " 'fishy': 8592,\n",
       " 'odour': 14968,\n",
       " 'overflowed': 15302,\n",
       " 'ardent': 1131,\n",
       " 'affections': 436,\n",
       " 'friendship': 9078,\n",
       " 'devoted': 5947,\n",
       " 'wondrous': 24487,\n",
       " 'world': 24519,\n",
       " 'minded': 13834,\n",
       " 'teach': 21651,\n",
       " 'imagination': 10911,\n",
       " 'start': 20659,\n",
       " 'replaced': 18161,\n",
       " 'tissue': 22126,\n",
       " 'wrapping': 24561,\n",
       " 'portrait': 16566,\n",
       " 'shield': 19635,\n",
       " 'sordidness': 20289,\n",
       " 'peculiar': 15770,\n",
       " 'condition': 4298,\n",
       " 'affairs': 426,\n",
       " 'court': 4853,\n",
       " 'intrigues': 11790,\n",
       " 'involved': 11867,\n",
       " 'render': 18104,\n",
       " 'instant': 11604,\n",
       " 'availability': 1566,\n",
       " 'document': 6498,\n",
       " 'susceptibility': 21355,\n",
       " 'moment': 14011,\n",
       " 'nearly': 14467,\n",
       " 'equal': 7599,\n",
       " 'importance': 11040,\n",
       " 'wilbur': 24340,\n",
       " 'growth': 9874,\n",
       " 'phenomenal': 16076,\n",
       " 'months': 14063,\n",
       " 'birth': 2221,\n",
       " 'attained': 1448,\n",
       " 'size': 19932,\n",
       " 'muscular': 14283,\n",
       " 'usually': 23447,\n",
       " 'infants': 11375,\n",
       " 'year': 24656,\n",
       " 'age': 479,\n",
       " 'pausing': 15723,\n",
       " 'succeeded': 21099,\n",
       " 'difficulty': 6033,\n",
       " 'raising': 17537,\n",
       " 'revealed': 18400,\n",
       " 'aperture': 971,\n",
       " 'exhaling': 7915,\n",
       " 'noxious': 14776,\n",
       " 'fumes': 9167,\n",
       " 'caused': 3251,\n",
       " 'torch': 22210,\n",
       " 'sputter': 20553,\n",
       " 'disclosing': 6178,\n",
       " 'unsteady': 23290,\n",
       " 'glare': 9526,\n",
       " 'flight': 8691,\n",
       " 'stone': 20811,\n",
       " 'mud': 14224,\n",
       " 'water': 24080,\n",
       " 'sky': 19970,\n",
       " 'rain': 17528,\n",
       " 'wipin': 24408,\n",
       " 'aout': 962,\n",
       " 'abaout': 8,\n",
       " 'fast': 8286,\n",
       " 'beginnin': 1991,\n",
       " 'glen': 9545,\n",
       " 'maouth': 13366,\n",
       " 'whar': 24218,\n",
       " 'trees': 22437,\n",
       " 'moved': 14206,\n",
       " 'awful': 1627,\n",
       " 'prints': 16904,\n",
       " 'big': 2188,\n",
       " 'bar': 1767,\n",
       " 'ls': 13064,\n",
       " 'seen': 19356,\n",
       " 'monday': 14022,\n",
       " 'visits': 23838,\n",
       " 'merrival': 13706,\n",
       " 'frequent': 9055,\n",
       " 'ceased': 3282,\n",
       " 'supposed': 21282,\n",
       " 'underduk': 22879,\n",
       " 'suffered': 21124,\n",
       " 'impertinence': 11011,\n",
       " 'pass': 15635,\n",
       " 'impunity': 11110,\n",
       " 'need': 14495,\n",
       " 'tell': 21694,\n",
       " 'sceptical': 19116,\n",
       " 'topic': 22199,\n",
       " 'immortality': 10957,\n",
       " 'compared': 4135,\n",
       " 'chief': 3538,\n",
       " 'superiority': 21244,\n",
       " 'consisted': 4452,\n",
       " 'soon': 20270,\n",
       " 'persuaded': 15988,\n",
       " 'inferior': 11384,\n",
       " 'chiefest': 3539,\n",
       " 'potentates': 16618,\n",
       " 'newcomers': 14575,\n",
       " 'grew': 9805,\n",
       " 'dr': 6628,\n",
       " 'johnson': 12074,\n",
       " 'beheld': 2008,\n",
       " 'pursy': 17331,\n",
       " 'ill': 10878,\n",
       " 'drest': 6702,\n",
       " 'slovenly': 20062,\n",
       " 'presently': 16802,\n",
       " 'murmur': 14275,\n",
       " 'fell': 8404,\n",
       " 'gently': 9411,\n",
       " 'ear': 6899,\n",
       " 'moments': 14016,\n",
       " 'afterward': 474,\n",
       " 'turned': 22640,\n",
       " 'road': 18609,\n",
       " 'somewhat': 20251,\n",
       " 'abruptly': 68,\n",
       " 'building': 2790,\n",
       " 'lay': 12553,\n",
       " 'foot': 8829,\n",
       " 'declivity': 5463,\n",
       " 'just': 12169,\n",
       " 'ellison': 7162,\n",
       " 'continuous': 4581,\n",
       " 'profusion': 17009,\n",
       " 'good': 9643,\n",
       " 'gifts': 9475,\n",
       " 'lavished': 12540,\n",
       " 'fortune': 8955,\n",
       " 'continued': 4576,\n",
       " 'plane': 16298,\n",
       " 'elipse': 7145,\n",
       " 'progress': 17015,\n",
       " 'eastward': 6932,\n",
       " 'useless': 23436,\n",
       " 'provide': 17158,\n",
       " 'things': 21907,\n",
       " 'abundant': 101,\n",
       " 'provision': 17169,\n",
       " 'town': 22271,\n",
       " 'fly': 8772,\n",
       " 'quickly': 17432,\n",
       " 'snow': 20146,\n",
       " 'sledges': 20008,\n",
       " 'motion': 14154,\n",
       " 'pleasant': 16358,\n",
       " 'opinion': 15096,\n",
       " 'agreeable': 516,\n",
       " 'english': 7406,\n",
       " 'stagecoach': 20602,\n",
       " 'pointed': 16442,\n",
       " 'spot': 20515,\n",
       " 'disappeared': 6132,\n",
       " 'track': 22285,\n",
       " 'boats': 2394,\n",
       " 'nets': 14553,\n",
       " 'cast': 3197,\n",
       " 'vain': 23496,\n",
       " 'indistinct': 11295,\n",
       " 'recollections': 17785,\n",
       " 'storm': 20835,\n",
       " 'reached': 17653,\n",
       " 'boat': 2392,\n",
       " 'rate': 17612,\n",
       " 'know': 12332,\n",
       " 'peals': 15755,\n",
       " 'thunder': 22018,\n",
       " 'tones': 22185,\n",
       " 'utters': 23467,\n",
       " 'wildest': 24347,\n",
       " 'moods': 14071,\n",
       " 'courtyard': 4863,\n",
       " 'hoped': 10582,\n",
       " 'chance': 3391,\n",
       " 'away': 1621,\n",
       " 'spreading': 20526,\n",
       " 'general': 9379,\n",
       " 'alarm': 565,\n",
       " 'mein': 13617,\n",
       " 'gott': 9668,\n",
       " 'vor': 23902,\n",
       " 'shicken': 19634,\n",
       " 'oh': 15004,\n",
       " 'replied': 18168,\n",
       " 'alarmed': 566,\n",
       " 'chicken': 3534,\n",
       " 'perpetual': 15942,\n",
       " 'fear': 8348,\n",
       " 'jaundiced': 12007,\n",
       " 'complexion': 4181,\n",
       " 'shrivelled': 19741,\n",
       " 'person': 15974,\n",
       " 'sun': 21192,\n",
       " 'atmosphere': 1422,\n",
       " 'evening': 7755,\n",
       " 'star': 20647,\n",
       " 'longer': 12976,\n",
       " 'shone': 19678,\n",
       " 'companionless': 4125,\n",
       " 'clouds': 3865,\n",
       " 'sunk': 21206,\n",
       " 'horizon': 10596,\n",
       " 'descended': 5784,\n",
       " 'swiftly': 21433,\n",
       " 'western': 24204,\n",
       " 'noises': 14673,\n",
       " 'day': 5347,\n",
       " 'came': 2992,\n",
       " 'new': 14570,\n",
       " 'horror': 10613,\n",
       " 'gone': 9641,\n",
       " 'state': 20671,\n",
       " 'rooms': 18680,\n",
       " 'sufficiently': 21134,\n",
       " 'roomy': 18681,\n",
       " 'berths': 2107,\n",
       " 'getting': 9444,\n",
       " 'ancient': 814,\n",
       " 'roofs': 18675,\n",
       " 'chimney': 3569,\n",
       " 'pots': 16623,\n",
       " 'outside': 15269,\n",
       " 'queer': 17402,\n",
       " 'bull': 2803,\n",
       " 'eye': 8109,\n",
       " 'window': 24381,\n",
       " 'panes': 15499,\n",
       " 'marched': 13377,\n",
       " 'parts': 15628,\n",
       " 'southern': 20332,\n",
       " 'quartered': 17390,\n",
       " 'deserted': 5801,\n",
       " 'villages': 23766,\n",
       " 'sent': 19424,\n",
       " 'island': 11940,\n",
       " 'season': 19285,\n",
       " 'winter': 24403,\n",
       " 'revived': 18441,\n",
       " 'energy': 7385,\n",
       " 'passes': 15645,\n",
       " 'country': 4834,\n",
       " 'defended': 5526,\n",
       " 'increase': 11219,\n",
       " 'numbers': 14795,\n",
       " 'prohibited': 17021,\n",
       " 'dampness': 5272,\n",
       " 'unpleasant': 23189,\n",
       " 'ample': 764,\n",
       " 'space': 20346,\n",
       " 'car': 3101,\n",
       " 'enabled': 7288,\n",
       " 'lie': 12740,\n",
       " 'cloaks': 3833,\n",
       " 'blankets': 2277,\n",
       " 'dared': 5301,\n",
       " 'conquered': 4414,\n",
       " 'till': 22071,\n",
       " 'sold': 20213,\n",
       " 'death': 5383,\n",
       " 'sole': 20217,\n",
       " 'thou': 21944,\n",
       " 'shouldst': 19705,\n",
       " 'follow': 8808,\n",
       " 'war': 24025,\n",
       " 'plague': 16283,\n",
       " 'unite': 23081,\n",
       " 'thy': 22034,\n",
       " 'destruction': 5877,\n",
       " 'raymond': 17647,\n",
       " 'safety': 18882,\n",
       " 'thee': 21863,\n",
       " 'heavy': 10276,\n",
       " 'listened': 12845,\n",
       " 'changes': 3401,\n",
       " 'delirium': 5607,\n",
       " 'bed': 1946,\n",
       " 'violence': 23791,\n",
       " 'decreased': 5475,\n",
       " 'clammy': 3722,\n",
       " 'dew': 5960,\n",
       " 'stood': 20815,\n",
       " 'brow': 2722,\n",
       " 'paleness': 15459,\n",
       " 'crimson': 4991,\n",
       " 'fever': 8464,\n",
       " 'placed': 16276,\n",
       " 'interior': 11703,\n",
       " 'house': 10647,\n",
       " 'apparently': 1002,\n",
       " 'details': 5887,\n",
       " 'constantly': 4482,\n",
       " 'changing': 3403,\n",
       " 'faces': 8133,\n",
       " 'furniture': 9201,\n",
       " 'room': 18677,\n",
       " 'doors': 6571,\n",
       " 'windows': 24385,\n",
       " 'flux': 8771,\n",
       " 'presumably': 16824,\n",
       " 'mobile': 13962,\n",
       " 'gentleman': 9404,\n",
       " 'clothed': 3856,\n",
       " 'head': 10207,\n",
       " 'richly': 18506,\n",
       " 'embroidered': 7228,\n",
       " 'silk': 19845,\n",
       " 'velvet': 23615,\n",
       " 'pall': 15463,\n",
       " 'wrapped': 24559,\n",
       " 'negligently': 14509,\n",
       " 'form': 8916,\n",
       " 'fashion': 8280,\n",
       " 'spanish': 20358,\n",
       " 'cloak': 3831,\n",
       " 'pigeons': 16171,\n",
       " 'appeared': 1012,\n",
       " 'distressed': 6430,\n",
       " 'extreme': 8088,\n",
       " 'struggled': 20965,\n",
       " 'escape': 7660,\n",
       " 'cat': 3212,\n",
       " 'mewed': 13757,\n",
       " 'piteously': 16252,\n",
       " 'tongue': 22187,\n",
       " 'hanging': 10062,\n",
       " 'mouth': 14201,\n",
       " 'staggered': 20605,\n",
       " 'fro': 9099,\n",
       " 'influence': 11416,\n",
       " 'poison': 16448,\n",
       " 'panted': 15511,\n",
       " 'gasped': 9337,\n",
       " 'breath': 2607,\n",
       " 'design': 5811,\n",
       " 'tormentors': 22218,\n",
       " 'unrelenting': 23232,\n",
       " 'demoniac': 5657,\n",
       " 'shrank': 19721,\n",
       " 'glowing': 9588,\n",
       " 'metal': 13731,\n",
       " 'centre': 3324,\n",
       " 'cell': 3301,\n",
       " 'gained': 9246,\n",
       " 'feet': 8395,\n",
       " 'looking': 12989,\n",
       " 'dizzily': 6483,\n",
       " 'struck': 20961,\n",
       " 'breakers': 2598,\n",
       " 'terrific': 21804,\n",
       " 'whirlpool': 24274,\n",
       " 'foaming': 8778,\n",
       " 'engulfed': 7417,\n",
       " 'morning': 14114,\n",
       " 'delivered': 5610,\n",
       " 'letters': 12693,\n",
       " 'introduction': 11796,\n",
       " 'visit': 23827,\n",
       " 'principal': 16893,\n",
       " 'professors': 16988,\n",
       " 'drawing': 6666,\n",
       " 'vivid': 23855,\n",
       " 'colours': 4008,\n",
       " 'splendour': 20491,\n",
       " 'kingdom': 12274,\n",
       " 'opposition': 15112,\n",
       " 'commercial': 4083,\n",
       " 'republicanism': 18207,\n",
       " 'celebrated': 3294,\n",
       " 'magazine': 13193,\n",
       " 'sustain': 21371,\n",
       " 'evidently': 7780,\n",
       " 'tremendous': 22449,\n",
       " 'expenses': 7981,\n",
       " 'understand': 22896,\n",
       " 'week': 24164,\n",
       " 'visibly': 23821,\n",
       " 'faded': 8156,\n",
       " 'discernible': 6163,\n",
       " 'naked': 14374,\n",
       " 'stranger': 20875,\n",
       " 'learned': 12591,\n",
       " 'words': 24505,\n",
       " 'lesson': 12682,\n",
       " 'understood': 22899,\n",
       " 'profited': 16996,\n",
       " 'people': 15847,\n",
       " 'coming': 4055,\n",
       " 'struggle': 20964,\n",
       " 'degree': 5567,\n",
       " 'decisive': 5445,\n",
       " 'case': 3183,\n",
       " 'siege': 19804,\n",
       " 'constantinople': 4480,\n",
       " 'greeks': 9789,\n",
       " 'cavity': 3275,\n",
       " 'detected': 5892,\n",
       " 'sounding': 20318,\n",
       " 'lieutenant': 12746,\n",
       " 'instance': 11601,\n",
       " 'wonderful': 24481,\n",
       " 'courage': 4844,\n",
       " 'enterprise': 7497,\n",
       " 'madly': 13182,\n",
       " 'desirous': 5823,\n",
       " 'glory': 9579,\n",
       " 'word': 24502,\n",
       " 'phrase': 16111,\n",
       " 'characteristically': 3426,\n",
       " 'advancement': 363,\n",
       " 'profession': 16983,\n",
       " 'hours': 10646,\n",
       " 'machine': 13167,\n",
       " 'near': 14462,\n",
       " 'table': 21520,\n",
       " 'generate': 9384,\n",
       " 'waves': 24100,\n",
       " 'acting': 243,\n",
       " 'unrecognised': 23224,\n",
       " 'sense': 19412,\n",
       " 'organs': 15158,\n",
       " 'exist': 7944,\n",
       " 'atrophied': 1433,\n",
       " 'rudimentary': 18771,\n",
       " 'vestiges': 23694,\n",
       " 'everybody': 7772,\n",
       " 'got': 9666,\n",
       " 'idee': 10824,\n",
       " 'dyin': 6885,\n",
       " 'excep': 7841,\n",
       " 'canoe': 3040,\n",
       " 'wars': 24054,\n",
       " 'islanders': 11943,\n",
       " 'sacrifices': 18864,\n",
       " 'daown': 5296,\n",
       " 'snake': 20124,\n",
       " 'bite': 2231,\n",
       " 'sharp': 19585,\n",
       " 'gallopin': 9272,\n",
       " 'ailments': 539,\n",
       " 'somethin': 20249,\n",
       " 'afore': 462,\n",
       " 'cud': 5094,\n",
       " 'simply': 19873,\n",
       " 'forrad': 8931,\n",
       " 'change': 3395,\n",
       " 'wa': 23936,\n",
       " 'bit': 2230,\n",
       " 'horrible': 10604,\n",
       " 'arter': 1227,\n",
       " 'lips': 12833,\n",
       " 'marble': 13373,\n",
       " 'pallor': 15470,\n",
       " 'absolutely': 76,\n",
       " 'needless': 14499,\n",
       " 'ahead': 526,\n",
       " 'sparse': 20372,\n",
       " 'grass': 9736,\n",
       " 'scrub': 19228,\n",
       " 'blueberry': 2365,\n",
       " 'bushes': 2864,\n",
       " 'rock': 18641,\n",
       " 'crag': 4908,\n",
       " 'peak': 15751,\n",
       " 'dreaded': 6673,\n",
       " 'grey': 9806,\n",
       " 'cottage': 4794,\n",
       " 'loved': 13040,\n",
       " 'limit': 12793,\n",
       " 'desires': 5821,\n",
       " 'serene': 19466,\n",
       " 'unable': 22734,\n",
       " 'rest': 18314,\n",
       " 'resolved': 18277,\n",
       " 'poor': 16512,\n",
       " 'william': 24356,\n",
       " 'murdered': 14266,\n",
       " 'thing': 21906,\n",
       " 'observed': 14886,\n",
       " 'rem': 18044,\n",
       " 'threw': 21979,\n",
       " 'greatly': 9779,\n",
       " 'shade': 19533,\n",
       " 'cornelius': 4729,\n",
       " 'agrippa': 523,\n",
       " 'albertus': 580,\n",
       " 'magnus': 13218,\n",
       " 'paracelsus': 15525,\n",
       " 'lords': 13011,\n",
       " 'fatality': 8299,\n",
       " 'overthrow': 15352,\n",
       " 'disinclined': 6267,\n",
       " ...}"
      ]
     },
     "execution_count": 49,
     "metadata": {},
     "output_type": "execute_result"
    }
   ],
   "source": [
    "cv.vocabulary_"
   ]
  },
  {
   "cell_type": "code",
   "execution_count": 50,
   "metadata": {},
   "outputs": [
    {
     "data": {
      "text/plain": [
       "24764"
      ]
     },
     "execution_count": 50,
     "metadata": {},
     "output_type": "execute_result"
    }
   ],
   "source": [
    "len(cv.vocabulary_)"
   ]
  },
  {
   "cell_type": "code",
   "execution_count": 51,
   "metadata": {
    "scrolled": true
   },
   "outputs": [
    {
     "data": {
      "text/plain": [
       "CountVectorizer(analyzer='word', binary=False, decode_error='strict',\n",
       "                dtype=<class 'numpy.int64'>, encoding='utf-8', input='content',\n",
       "                lowercase=True, max_df=1.0, max_features=None, min_df=1,\n",
       "                ngram_range=(1, 1), preprocessor=None, stop_words='english',\n",
       "                strip_accents=None, token_pattern='(?u)\\\\b\\\\w\\\\w+\\\\b',\n",
       "                tokenizer=None, vocabulary=None)"
      ]
     },
     "execution_count": 51,
     "metadata": {},
     "output_type": "execute_result"
    }
   ],
   "source": [
    "cv.fit(horror_data.stem_words)"
   ]
  },
  {
   "cell_type": "code",
   "execution_count": 52,
   "metadata": {},
   "outputs": [],
   "source": [
    "out = cv.transform(horror_data.stem_words)"
   ]
  },
  {
   "cell_type": "code",
   "execution_count": 53,
   "metadata": {},
   "outputs": [
    {
     "data": {
      "text/plain": [
       "15355"
      ]
     },
     "execution_count": 53,
     "metadata": {},
     "output_type": "execute_result"
    }
   ],
   "source": [
    "len(cv.vocabulary_)"
   ]
  },
  {
   "cell_type": "code",
   "execution_count": 54,
   "metadata": {},
   "outputs": [],
   "source": [
    "from sklearn.neighbors import NearestNeighbors"
   ]
  },
  {
   "cell_type": "code",
   "execution_count": 55,
   "metadata": {},
   "outputs": [],
   "source": [
    "nn = NearestNeighbors(metric='cosine')"
   ]
  },
  {
   "cell_type": "code",
   "execution_count": 56,
   "metadata": {},
   "outputs": [
    {
     "data": {
      "text/plain": [
       "NearestNeighbors(algorithm='auto', leaf_size=30, metric='cosine',\n",
       "                 metric_params=None, n_jobs=None, n_neighbors=5, p=2,\n",
       "                 radius=1.0)"
      ]
     },
     "execution_count": 56,
     "metadata": {},
     "output_type": "execute_result"
    }
   ],
   "source": [
    "nn.fit(out)"
   ]
  },
  {
   "cell_type": "code",
   "execution_count": 57,
   "metadata": {},
   "outputs": [
    {
     "data": {
      "text/plain": [
       "(array([[1.11022302e-16, 4.57917835e-01, 4.79516561e-01, 4.96637990e-01,\n",
       "         4.98449609e-01]]),\n",
       " array([[    4, 15457,  7409, 18122, 13440]], dtype=int64))"
      ]
     },
     "execution_count": 57,
     "metadata": {},
     "output_type": "execute_result"
    }
   ],
   "source": [
    "nn.kneighbors(out[4:5])"
   ]
  },
  {
   "cell_type": "code",
   "execution_count": 58,
   "metadata": {},
   "outputs": [
    {
     "data": {
      "text/plain": [
       "'This process, however, afforded me no means of ascertaining the dimensions of my dungeon; as I might make its circuit, and return to the point whence I set out, without being aware of the fact; so perfectly uniform seemed the wall.'"
      ]
     },
     "execution_count": 58,
     "metadata": {},
     "output_type": "execute_result"
    }
   ],
   "source": [
    "horror_data[:1].text[0]"
   ]
  },
  {
   "cell_type": "code",
   "execution_count": 59,
   "metadata": {},
   "outputs": [
    {
     "data": {
      "text/plain": [
       "'Finding nothing else, not even gold, the Superintendent abandoned his attempts; but a perplexed look occasionally steals over his countenance as he sits thinking at his desk.'"
      ]
     },
     "execution_count": 59,
     "metadata": {},
     "output_type": "execute_result"
    }
   ],
   "source": [
    "horror_data.loc[4].text"
   ]
  },
  {
   "cell_type": "code",
   "execution_count": 60,
   "metadata": {},
   "outputs": [
    {
     "data": {
      "text/plain": [
       "'His countenance was rough but intelligent his ample brow and quick grey eyes seemed to look out, over his own plans, and the opposition of his enemies.'"
      ]
     },
     "execution_count": 60,
     "metadata": {},
     "output_type": "execute_result"
    }
   ],
   "source": [
    "horror_data.loc[15457].text"
   ]
  },
  {
   "cell_type": "code",
   "execution_count": 61,
   "metadata": {},
   "outputs": [
    {
     "data": {
      "text/plain": [
       "'The smile of triumph shone on his countenance; determined to pursue his object to the uttermost, his manner and expression seem ominous of the accomplishment of his wishes.'"
      ]
     },
     "execution_count": 61,
     "metadata": {},
     "output_type": "execute_result"
    }
   ],
   "source": [
    "horror_data.loc[18122].text"
   ]
  },
  {
   "cell_type": "code",
   "execution_count": null,
   "metadata": {},
   "outputs": [],
   "source": []
  },
  {
   "cell_type": "code",
   "execution_count": null,
   "metadata": {},
   "outputs": [],
   "source": []
  },
  {
   "cell_type": "code",
   "execution_count": null,
   "metadata": {},
   "outputs": [],
   "source": [
    "#convert list into dict\n",
    "lst=[1,'a',2,'b',3,'c']\n",
    "res_dct = {lst[i]: lst[i + 1] for i in range(0, len(lst), 2)} \n",
    "print(res_dct)"
   ]
  },
  {
   "cell_type": "code",
   "execution_count": null,
   "metadata": {},
   "outputs": [],
   "source": []
  }
 ],
 "metadata": {
  "kernelspec": {
   "display_name": "Python 3",
   "language": "python",
   "name": "python3"
  },
  "language_info": {
   "codemirror_mode": {
    "name": "ipython",
    "version": 3
   },
   "file_extension": ".py",
   "mimetype": "text/x-python",
   "name": "python",
   "nbconvert_exporter": "python",
   "pygments_lexer": "ipython3",
   "version": "3.7.4"
  },
  "varInspector": {
   "cols": {
    "lenName": 16,
    "lenType": 16,
    "lenVar": 40
   },
   "kernels_config": {
    "python": {
     "delete_cmd_postfix": "",
     "delete_cmd_prefix": "del ",
     "library": "var_list.py",
     "varRefreshCmd": "print(var_dic_list())"
    },
    "r": {
     "delete_cmd_postfix": ") ",
     "delete_cmd_prefix": "rm(",
     "library": "var_list.r",
     "varRefreshCmd": "cat(var_dic_list()) "
    }
   },
   "types_to_exclude": [
    "module",
    "function",
    "builtin_function_or_method",
    "instance",
    "_Feature"
   ],
   "window_display": false
  }
 },
 "nbformat": 4,
 "nbformat_minor": 2
}
