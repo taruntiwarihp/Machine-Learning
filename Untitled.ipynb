{
 "cells": [
  {
   "cell_type": "code",
   "execution_count": 1,
   "id": "structural-arrival",
   "metadata": {
    "ExecuteTime": {
     "end_time": "2021-06-16T05:14:47.202346Z",
     "start_time": "2021-06-16T05:14:44.552061Z"
    }
   },
   "outputs": [],
   "source": [
    "import pandas as pd\n",
    "import numpy as np\n",
    "from sklearn.ensemble import RandomForestClassifier\n",
    "from sklearn.svm import SVC\n",
    "from sklearn.linear_model import SGDClassifier\n",
    "from sklearn.metrics import confusion_matrix, classification_report\n",
    "from sklearn.preprocessing import StandardScaler, LabelEncoder\n",
    "from sklearn.model_selection import train_test_split, GridSearchCV, cross_val_score"
   ]
  },
  {
   "cell_type": "code",
   "execution_count": 14,
   "id": "broadband-persian",
   "metadata": {
    "ExecuteTime": {
     "end_time": "2021-06-16T05:35:04.135003Z",
     "start_time": "2021-06-16T05:35:02.659136Z"
    }
   },
   "outputs": [],
   "source": [
    "data = pd.read_csv(\"Downloads/SpaData.csv\",header=0, index_col=1, parse_dates=True, squeeze=True)"
   ]
  },
  {
   "cell_type": "code",
   "execution_count": 15,
   "id": "played-hartford",
   "metadata": {
    "ExecuteTime": {
     "end_time": "2021-06-16T05:35:04.199638Z",
     "start_time": "2021-06-16T05:35:04.138375Z"
    }
   },
   "outputs": [
    {
     "data": {
      "text/html": [
       "<div>\n",
       "<style scoped>\n",
       "    .dataframe tbody tr th:only-of-type {\n",
       "        vertical-align: middle;\n",
       "    }\n",
       "\n",
       "    .dataframe tbody tr th {\n",
       "        vertical-align: top;\n",
       "    }\n",
       "\n",
       "    .dataframe thead th {\n",
       "        text-align: right;\n",
       "    }\n",
       "</style>\n",
       "<table border=\"1\" class=\"dataframe\">\n",
       "  <thead>\n",
       "    <tr style=\"text-align: right;\">\n",
       "      <th></th>\n",
       "      <th>ID</th>\n",
       "      <th>Temperature</th>\n",
       "      <th>RelativeHumidity</th>\n",
       "      <th>Light</th>\n",
       "      <th>OxygenLevels</th>\n",
       "      <th>HumidityRatio</th>\n",
       "      <th>GTOccupancy</th>\n",
       "    </tr>\n",
       "    <tr>\n",
       "      <th>TimeStamp</th>\n",
       "      <th></th>\n",
       "      <th></th>\n",
       "      <th></th>\n",
       "      <th></th>\n",
       "      <th></th>\n",
       "      <th></th>\n",
       "      <th></th>\n",
       "    </tr>\n",
       "  </thead>\n",
       "  <tbody>\n",
       "    <tr>\n",
       "      <th>2015-06-02 08:51:00</th>\n",
       "      <td>2342</td>\n",
       "      <td>20.840</td>\n",
       "      <td>19.745000</td>\n",
       "      <td>433.0</td>\n",
       "      <td>629.75</td>\n",
       "      <td>0.003000</td>\n",
       "      <td>1</td>\n",
       "    </tr>\n",
       "    <tr>\n",
       "      <th>2015-09-02 04:49:00</th>\n",
       "      <td>6419</td>\n",
       "      <td>19.290</td>\n",
       "      <td>26.890000</td>\n",
       "      <td>0.0</td>\n",
       "      <td>466.00</td>\n",
       "      <td>0.003716</td>\n",
       "      <td>0</td>\n",
       "    </tr>\n",
       "    <tr>\n",
       "      <th>2015-07-02 01:20:00</th>\n",
       "      <td>3330</td>\n",
       "      <td>20.000</td>\n",
       "      <td>18.700000</td>\n",
       "      <td>0.0</td>\n",
       "      <td>435.50</td>\n",
       "      <td>0.002696</td>\n",
       "      <td>0</td>\n",
       "    </tr>\n",
       "    <tr>\n",
       "      <th>2015-09-02 17:38:00</th>\n",
       "      <td>7188</td>\n",
       "      <td>22.200</td>\n",
       "      <td>38.433333</td>\n",
       "      <td>429.5</td>\n",
       "      <td>1943.50</td>\n",
       "      <td>0.006381</td>\n",
       "      <td>1</td>\n",
       "    </tr>\n",
       "    <tr>\n",
       "      <th>2015-10-02 01:25:00</th>\n",
       "      <td>7655</td>\n",
       "      <td>20.245</td>\n",
       "      <td>32.900000</td>\n",
       "      <td>0.0</td>\n",
       "      <td>469.00</td>\n",
       "      <td>0.004833</td>\n",
       "      <td>0</td>\n",
       "    </tr>\n",
       "  </tbody>\n",
       "</table>\n",
       "</div>"
      ],
      "text/plain": [
       "                       ID  Temperature  RelativeHumidity  Light  OxygenLevels  \\\n",
       "TimeStamp                                                                       \n",
       "2015-06-02 08:51:00  2342       20.840         19.745000  433.0        629.75   \n",
       "2015-09-02 04:49:00  6419       19.290         26.890000    0.0        466.00   \n",
       "2015-07-02 01:20:00  3330       20.000         18.700000    0.0        435.50   \n",
       "2015-09-02 17:38:00  7188       22.200         38.433333  429.5       1943.50   \n",
       "2015-10-02 01:25:00  7655       20.245         32.900000    0.0        469.00   \n",
       "\n",
       "                     HumidityRatio  GTOccupancy  \n",
       "TimeStamp                                        \n",
       "2015-06-02 08:51:00       0.003000            1  \n",
       "2015-09-02 04:49:00       0.003716            0  \n",
       "2015-07-02 01:20:00       0.002696            0  \n",
       "2015-09-02 17:38:00       0.006381            1  \n",
       "2015-10-02 01:25:00       0.004833            0  "
      ]
     },
     "execution_count": 15,
     "metadata": {},
     "output_type": "execute_result"
    }
   ],
   "source": [
    "data.head()"
   ]
  },
  {
   "cell_type": "code",
   "execution_count": 16,
   "id": "overall-serve",
   "metadata": {
    "ExecuteTime": {
     "end_time": "2021-06-16T05:35:10.994940Z",
     "start_time": "2021-06-16T05:35:10.977269Z"
    }
   },
   "outputs": [
    {
     "data": {
      "text/plain": [
       "0    5125\n",
       "1    1389\n",
       "Name: GTOccupancy, dtype: int64"
      ]
     },
     "execution_count": 16,
     "metadata": {},
     "output_type": "execute_result"
    }
   ],
   "source": [
    "data['GTOccupancy'].value_counts()"
   ]
  },
  {
   "cell_type": "code",
   "execution_count": 7,
   "id": "nonprofit-vaccine",
   "metadata": {
    "ExecuteTime": {
     "end_time": "2021-06-16T05:24:59.030466Z",
     "start_time": "2021-06-16T05:24:59.019980Z"
    }
   },
   "outputs": [
    {
     "data": {
      "text/plain": [
       "(6514, 8)"
      ]
     },
     "execution_count": 7,
     "metadata": {},
     "output_type": "execute_result"
    }
   ],
   "source": [
    "data.shape"
   ]
  },
  {
   "cell_type": "code",
   "execution_count": 17,
   "id": "corresponding-comparative",
   "metadata": {
    "ExecuteTime": {
     "end_time": "2021-06-16T05:36:47.478866Z",
     "start_time": "2021-06-16T05:36:47.459890Z"
    }
   },
   "outputs": [],
   "source": [
    "values = data.values\n",
    "X, y = values[:, :-1], values[:, -1]"
   ]
  },
  {
   "cell_type": "code",
   "execution_count": 18,
   "id": "adult-contract",
   "metadata": {
    "ExecuteTime": {
     "end_time": "2021-06-16T05:36:52.263852Z",
     "start_time": "2021-06-16T05:36:52.249769Z"
    }
   },
   "outputs": [],
   "source": [
    "X_train, X_test, y_train, y_test = train_test_split(\n",
    "             X, y, test_size = 0.2, random_state=42)"
   ]
  },
  {
   "cell_type": "code",
   "execution_count": 19,
   "id": "dimensional-funeral",
   "metadata": {
    "ExecuteTime": {
     "end_time": "2021-06-16T05:37:32.035755Z",
     "start_time": "2021-06-16T05:37:28.810127Z"
    }
   },
   "outputs": [],
   "source": [
    "from sklearn.neighbors import KNeighborsClassifier\n",
    "from sklearn.model_selection import train_test_split\n",
    "from sklearn.datasets import load_iris\n",
    "import numpy as np\n",
    "import matplotlib.pyplot as plt"
   ]
  },
  {
   "cell_type": "code",
   "execution_count": 24,
   "id": "raising-timber",
   "metadata": {
    "ExecuteTime": {
     "end_time": "2021-06-16T07:06:34.525275Z",
     "start_time": "2021-06-16T07:05:17.260909Z"
    }
   },
   "outputs": [
    {
     "data": {
      "image/png": "[encoded data removed]",
      "text/plain": [
       "<Figure size 432x288 with 1 Axes>"
      ]
     },
     "metadata": {
      "needs_background": "light"
     },
     "output_type": "display_data"
    }
   ],
   "source": [
    "neighbors = np.arange(1, 100)\n",
    "train_accuracy = np.empty(len(neighbors))\n",
    "test_accuracy = np.empty(len(neighbors))\n",
    "  \n",
    "# Loop over K values\n",
    "for i, k in enumerate(neighbors):\n",
    "    knn = KNeighborsClassifier(n_neighbors=k)\n",
    "    knn.fit(X_train, y_train)\n",
    "      \n",
    "    # Compute traning and test data accuracy\n",
    "    train_accuracy[i] = knn.score(X_train, y_train)\n",
    "    test_accuracy[i] = knn.score(X_test, y_test)\n",
    "  \n",
    "# Generate plot\n",
    "plt.plot(neighbors, test_accuracy, label = 'Testing dataset Accuracy')\n",
    "plt.plot(neighbors, train_accuracy, label = 'Training dataset Accuracy')\n",
    "  \n",
    "plt.legend()\n",
    "plt.xlabel('n_neighbors')\n",
    "plt.ylabel('Accuracy')\n",
    "plt.show()"
   ]
  },
  {
   "cell_type": "code",
   "execution_count": 25,
   "id": "coastal-ghost",
   "metadata": {
    "ExecuteTime": {
     "end_time": "2021-06-16T07:12:05.857421Z",
     "start_time": "2021-06-16T07:12:05.844129Z"
    }
   },
   "outputs": [
    {
     "data": {
      "text/plain": [
       "array([1.        , 0.99597006, 0.99597006, 0.99462675, 0.99501055,\n",
       "       0.99462675, 0.99481865, 0.99462675, 0.99405105, 0.99405105,\n",
       "       0.99309154, 0.99328344, 0.99289964, 0.99309154, 0.99289964,\n",
       "       0.99155632, 0.99174822, 0.99194013, 0.99155632, 0.99174822,\n",
       "       0.99174822, 0.99194013, 0.99174822, 0.99155632, 0.99194013,\n",
       "       0.99155632, 0.99136442, 0.99078872, 0.99117252, 0.99117252,\n",
       "       0.99117252, 0.99040491, 0.99078872, 0.99021301, 0.99021301,\n",
       "       0.99021301, 0.99021301, 0.99021301, 0.99059681, 0.99040491,\n",
       "       0.99059681, 0.99040491, 0.99040491, 0.99002111, 0.98982921,\n",
       "       0.98982921, 0.9886778 , 0.9886778 , 0.9886778 , 0.9886778 ,\n",
       "       0.9886778 , 0.9886778 , 0.9886778 , 0.9886778 , 0.9886778 ,\n",
       "       0.9886778 , 0.9886778 , 0.9886778 , 0.9886778 , 0.9886778 ,\n",
       "       0.9886778 , 0.9886778 , 0.9886778 , 0.9890616 , 0.9890616 ,\n",
       "       0.98810209, 0.98829399, 0.98810209, 0.98810209, 0.98138553,\n",
       "       0.98138553, 0.98138553, 0.98138553, 0.98119363, 0.98119363,\n",
       "       0.98100173, 0.98100173, 0.98100173, 0.98080983, 0.98023412,\n",
       "       0.98004222, 0.98004222, 0.97985032, 0.97985032, 0.97965841,\n",
       "       0.97946651, 0.97908271, 0.97908271, 0.97908271, 0.97908271,\n",
       "       0.97869891, 0.97869891, 0.97869891, 0.97869891, 0.9783151 ,\n",
       "       0.9783151 , 0.9781232 , 0.9781232 , 0.9775475 ])"
      ]
     },
     "execution_count": 25,
     "metadata": {},
     "output_type": "execute_result"
    }
   ],
   "source": [
    "train_accuracy"
   ]
  },
  {
   "cell_type": "code",
   "execution_count": 26,
   "id": "funky-clearing",
   "metadata": {
    "ExecuteTime": {
     "end_time": "2021-06-16T07:12:13.622072Z",
     "start_time": "2021-06-16T07:12:13.612406Z"
    }
   },
   "outputs": [
    {
     "data": {
      "text/plain": [
       "array([0.99155794, 0.99155794, 0.98772064, 0.98925556, 0.98618573,\n",
       "       0.98541827, 0.98618573, 0.98541827, 0.98618573, 0.98618573,\n",
       "       0.98541827, 0.98541827, 0.98541827, 0.98541827, 0.98541827,\n",
       "       0.98234843, 0.98234843, 0.98234843, 0.98311589, 0.98311589,\n",
       "       0.98311589, 0.98311589, 0.98234843, 0.98234843, 0.98311589,\n",
       "       0.98234843, 0.98234843, 0.98158097, 0.98234843, 0.98234843,\n",
       "       0.98234843, 0.98081351, 0.98081351, 0.98081351, 0.98081351,\n",
       "       0.98081351, 0.98081351, 0.98081351, 0.98004605, 0.98081351,\n",
       "       0.98081351, 0.98081351, 0.98081351, 0.98081351, 0.98081351,\n",
       "       0.98081351, 0.98004605, 0.98004605, 0.98004605, 0.98004605,\n",
       "       0.98004605, 0.98004605, 0.98004605, 0.98004605, 0.98004605,\n",
       "       0.98004605, 0.98004605, 0.98004605, 0.98004605, 0.98004605,\n",
       "       0.98004605, 0.98004605, 0.98004605, 0.98081351, 0.98081351,\n",
       "       0.97774367, 0.97774367, 0.97774367, 0.97774367, 0.97390637,\n",
       "       0.97390637, 0.97390637, 0.97390637, 0.97390637, 0.97390637,\n",
       "       0.97390637, 0.97390637, 0.97390637, 0.97390637, 0.97390637,\n",
       "       0.97390637, 0.97313891, 0.97313891, 0.97313891, 0.97313891,\n",
       "       0.97313891, 0.97313891, 0.97313891, 0.97313891, 0.97313891,\n",
       "       0.97313891, 0.97237145, 0.97237145, 0.97237145, 0.97237145,\n",
       "       0.97237145, 0.97160399, 0.97160399, 0.97160399])"
      ]
     },
     "execution_count": 26,
     "metadata": {},
     "output_type": "execute_result"
    }
   ],
   "source": [
    "test_accuracy"
   ]
  },
  {
   "cell_type": "code",
   "execution_count": 27,
   "id": "certain-termination",
   "metadata": {
    "ExecuteTime": {
     "end_time": "2021-06-16T11:39:23.181928Z",
     "start_time": "2021-06-16T11:39:23.065353Z"
    }
   },
   "outputs": [],
   "source": [
    "data = pd.read_csv(\"Downloads/wine_train.csv\")"
   ]
  },
  {
   "cell_type": "code",
   "execution_count": 28,
   "id": "posted-positive",
   "metadata": {
    "ExecuteTime": {
     "end_time": "2021-06-16T11:39:39.595820Z",
     "start_time": "2021-06-16T11:39:39.568770Z"
    }
   },
   "outputs": [],
   "source": [
    "bins = (2,5,6,9)\n",
    "group_names = ['bad','normal','good']\n",
    "data['quality'] = pd.cut(data['quality'], bins = bins, labels = group_names)"
   ]
  },
  {
   "cell_type": "code",
   "execution_count": 29,
   "id": "artistic-syracuse",
   "metadata": {
    "ExecuteTime": {
     "end_time": "2021-06-16T11:39:52.235935Z",
     "start_time": "2021-06-16T11:39:52.226816Z"
    }
   },
   "outputs": [],
   "source": [
    "X = data.drop('quality', axis = 1)\n",
    "y = data['quality']"
   ]
  },
  {
   "cell_type": "code",
   "execution_count": 30,
   "id": "usual-glory",
   "metadata": {
    "ExecuteTime": {
     "end_time": "2021-06-16T11:39:59.458888Z",
     "start_time": "2021-06-16T11:39:59.441528Z"
    }
   },
   "outputs": [],
   "source": [
    "X_train, X_test, y_train, y_test = train_test_split(X, y, test_size = 0.2, random_state = 42)"
   ]
  },
  {
   "cell_type": "code",
   "execution_count": 31,
   "id": "optimum-barcelona",
   "metadata": {
    "ExecuteTime": {
     "end_time": "2021-06-16T11:40:07.529958Z",
     "start_time": "2021-06-16T11:40:07.524073Z"
    }
   },
   "outputs": [],
   "source": [
    "sc = StandardScaler()"
   ]
  },
  {
   "cell_type": "code",
   "execution_count": 32,
   "id": "specific-defendant",
   "metadata": {
    "ExecuteTime": {
     "end_time": "2021-06-16T11:40:14.949485Z",
     "start_time": "2021-06-16T11:40:14.915891Z"
    }
   },
   "outputs": [],
   "source": [
    "X_train = sc.fit_transform(X_train)\n",
    "X_test = sc.fit_transform(X_test)"
   ]
  },
  {
   "cell_type": "code",
   "execution_count": 33,
   "id": "dirty-guyana",
   "metadata": {
    "ExecuteTime": {
     "end_time": "2021-06-16T12:31:23.762352Z",
     "start_time": "2021-06-16T12:31:23.754557Z"
    }
   },
   "outputs": [],
   "source": [
    "param_grid = { \n",
    "    'n_estimators': [200,400,500,550,600,650,700,800,1000],\n",
    "    'max_depth' : [10, 20, 30, 40, 50, 60,70, 80, 90, 100, 110,None]\n",
    "}"
   ]
  },
  {
   "cell_type": "code",
   "execution_count": 35,
   "id": "breeding-chicken",
   "metadata": {
    "ExecuteTime": {
     "end_time": "2021-06-16T12:31:49.171987Z",
     "start_time": "2021-06-16T12:31:49.164494Z"
    }
   },
   "outputs": [],
   "source": [
    "rfc=RandomForestClassifier(random_state=42)"
   ]
  },
  {
   "cell_type": "code",
   "execution_count": 36,
   "id": "collected-johnston",
   "metadata": {
    "ExecuteTime": {
     "end_time": "2021-06-16T13:21:00.226378Z",
     "start_time": "2021-06-16T12:31:49.339393Z"
    }
   },
   "outputs": [
    {
     "data": {
      "text/plain": [
       "GridSearchCV(cv=5, estimator=RandomForestClassifier(random_state=42),\n",
       "             param_grid={'max_depth': [10, 20, 30, 40, 50, 60, 70, 80, 90, 100,\n",
       "                                       110, None],\n",
       "                         'n_estimators': [200, 400, 500, 550, 600, 650, 700,\n",
       "                                          800, 1000]})"
      ]
     },
     "execution_count": 36,
     "metadata": {},
     "output_type": "execute_result"
    }
   ],
   "source": [
    "CV_rfc = GridSearchCV(estimator=rfc, param_grid=param_grid, cv= 5)\n",
    "CV_rfc.fit(X_train, y_train)"
   ]
  },
  {
   "cell_type": "code",
   "execution_count": 37,
   "id": "exotic-compromise",
   "metadata": {
    "ExecuteTime": {
     "end_time": "2021-06-16T14:34:05.059458Z",
     "start_time": "2021-06-16T14:34:05.052495Z"
    }
   },
   "outputs": [
    {
     "data": {
      "text/plain": [
       "{'max_depth': 20, 'n_estimators': 400}"
      ]
     },
     "execution_count": 37,
     "metadata": {},
     "output_type": "execute_result"
    }
   ],
   "source": [
    "CV_rfc.best_params_"
   ]
  },
  {
   "cell_type": "code",
   "execution_count": 100,
   "id": "finnish-feature",
   "metadata": {
    "ExecuteTime": {
     "end_time": "2021-06-16T14:40:51.314036Z",
     "start_time": "2021-06-16T14:40:48.490937Z"
    }
   },
   "outputs": [
    {
     "name": "stdout",
     "output_type": "stream",
     "text": [
      "Accuracy for Random Forest on CV data:  0.6938775510204082\n"
     ]
    }
   ],
   "source": [
    "rfc1=RandomForestClassifier(random_state=42, n_estimators= 325,max_depth=95)\n",
    "rfc1.fit(X_train, y_train)\n",
    "pred=rfc1.predict(X_test)\n",
    "print(\"Accuracy for Random Forest on CV data: \",accuracy_score(y_test,pred))"
   ]
  },
  {
   "cell_type": "code",
   "execution_count": 81,
   "id": "multiple-square",
   "metadata": {
    "ExecuteTime": {
     "end_time": "2021-06-16T14:38:11.001136Z",
     "start_time": "2021-06-16T14:38:10.988679Z"
    }
   },
   "outputs": [
    {
     "name": "stdout",
     "output_type": "stream",
     "text": [
      "Accuracy for Random Forest on CV data:  0.689795918367347\n"
     ]
    }
   ],
   "source": [
    "from sklearn.metrics import accuracy_score\n"
   ]
  },
  {
   "cell_type": "code",
   "execution_count": 102,
   "id": "french-spiritual",
   "metadata": {
    "ExecuteTime": {
     "end_time": "2021-06-16T14:54:52.888591Z",
     "start_time": "2021-06-16T14:54:52.881919Z"
    }
   },
   "outputs": [],
   "source": [
    "import pandas as pd\n",
    "from sklearn.ensemble import RandomForestClassifier\n",
    "from sklearn.svm import SVC\n",
    "from sklearn.linear_model import SGDClassifier\n",
    "from sklearn.metrics import confusion_matrix, classification_report\n",
    "from sklearn.preprocessing import StandardScaler, LabelEncoder\n",
    "from sklearn.model_selection import train_test_split, GridSearchCV, cross_val_score"
   ]
  },
  {
   "cell_type": "code",
   "execution_count": 104,
   "id": "israeli-ambassador",
   "metadata": {
    "ExecuteTime": {
     "end_time": "2021-06-16T14:55:14.750846Z",
     "start_time": "2021-06-16T14:55:14.746597Z"
    }
   },
   "outputs": [],
   "source": [
    "svc = SVC()"
   ]
  },
  {
   "cell_type": "code",
   "execution_count": 105,
   "id": "lesser-design",
   "metadata": {
    "ExecuteTime": {
     "end_time": "2021-06-16T14:55:15.261927Z",
     "start_time": "2021-06-16T14:55:15.254198Z"
    }
   },
   "outputs": [],
   "source": [
    "#Finding best parameters for our SVC model\n",
    "param = {\n",
    "    'C': [0.1,0.8,0.9,1,1.1,1.2,1.3,1.4],\n",
    "    'kernel':['linear', 'rbf'],\n",
    "    'gamma' :[0.1,0.8,0.9,1,1.1,1.2,1.3,1.4]\n",
    "}\n",
    "grid_svc = GridSearchCV(svc, param_grid=param, scoring='accuracy', cv=10)"
   ]
  },
  {
   "cell_type": "code",
   "execution_count": 106,
   "id": "indirect-chambers",
   "metadata": {
    "ExecuteTime": {
     "end_time": "2021-06-16T15:15:23.677823Z",
     "start_time": "2021-06-16T14:55:20.232718Z"
    }
   },
   "outputs": [
    {
     "data": {
      "text/plain": [
       "GridSearchCV(cv=10, estimator=SVC(),\n",
       "             param_grid={'C': [0.1, 0.8, 0.9, 1, 1.1, 1.2, 1.3, 1.4],\n",
       "                         'gamma': [0.1, 0.8, 0.9, 1, 1.1, 1.2, 1.3, 1.4],\n",
       "                         'kernel': ['linear', 'rbf']},\n",
       "             scoring='accuracy')"
      ]
     },
     "execution_count": 106,
     "metadata": {},
     "output_type": "execute_result"
    }
   ],
   "source": [
    "grid_svc.fit(X_train, y_train)"
   ]
  },
  {
   "cell_type": "code",
   "execution_count": 107,
   "id": "palestinian-refund",
   "metadata": {
    "ExecuteTime": {
     "end_time": "2021-06-16T15:15:23.691125Z",
     "start_time": "2021-06-16T15:15:23.682818Z"
    }
   },
   "outputs": [
    {
     "data": {
      "text/plain": [
       "{'C': 1.1, 'gamma': 0.8, 'kernel': 'rbf'}"
      ]
     },
     "execution_count": 107,
     "metadata": {},
     "output_type": "execute_result"
    }
   ],
   "source": [
    "#Best parameters for our svc model\n",
    "grid_svc.best_params_"
   ]
  },
  {
   "cell_type": "code",
   "execution_count": 108,
   "id": "seeing-referral",
   "metadata": {
    "ExecuteTime": {
     "end_time": "2021-06-16T15:19:32.432672Z",
     "start_time": "2021-06-16T15:19:30.678834Z"
    }
   },
   "outputs": [
    {
     "name": "stdout",
     "output_type": "stream",
     "text": [
      "              precision    recall  f1-score   support\n",
      "\n",
      "         bad       0.75      0.61      0.67       246\n",
      "        good       0.80      0.48      0.60       168\n",
      "      normal       0.59      0.80      0.68       321\n",
      "\n",
      "    accuracy                           0.66       735\n",
      "   macro avg       0.71      0.63      0.65       735\n",
      "weighted avg       0.69      0.66      0.66       735\n",
      "\n"
     ]
    }
   ],
   "source": [
    "#Let's run our SVC again with the best parameters.\n",
    "svc2 = SVC(C = 1.1, gamma =  0.8, kernel= 'rbf')\n",
    "svc2.fit(X_train, y_train)\n",
    "pred_svc2 = svc2.predict(X_test)\n",
    "print(classification_report(y_test, pred_svc2))"
   ]
  },
  {
   "cell_type": "code",
   "execution_count": 109,
   "id": "south-springfield",
   "metadata": {
    "ExecuteTime": {
     "end_time": "2021-06-16T15:19:55.774546Z",
     "start_time": "2021-06-16T15:19:55.763657Z"
    }
   },
   "outputs": [
    {
     "name": "stdout",
     "output_type": "stream",
     "text": [
      "Accuracy for Random Forest on CV data:  0.6625850340136055\n"
     ]
    }
   ],
   "source": [
    "print(\"Accuracy for Random Forest on CV data: \",accuracy_score(y_test,pred_svc2))"
   ]
  },
  {
   "cell_type": "code",
   "execution_count": null,
   "id": "chemical-facing",
   "metadata": {},
   "outputs": [],
   "source": []
  }
 ],
 "metadata": {
  "kernelspec": {
   "display_name": "Python 3",
   "language": "python",
   "name": "python3"
  },
  "language_info": {
   "codemirror_mode": {
    "name": "ipython",
    "version": 3
   },
   "file_extension": ".py",
   "mimetype": "text/x-python",
   "name": "python",
   "nbconvert_exporter": "python",
   "pygments_lexer": "ipython3",
   "version": "3.8.5"
  }
 },
 "nbformat": 4,
 "nbformat_minor": 5
}
