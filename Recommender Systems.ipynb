{
 "cells": [
  {
   "cell_type": "markdown",
   "metadata": {},
   "source": [
    "## Recommender System\n",
    "<b>Recommender systems</b> are an important class of <b>machine learning </b>algorithms that offer \"relevant\" suggestions to users. Categorized as either collaborative filtering or a content-based system, check out how these approaches work along with implementations to follow from example code."
   ]
  },
  {
   "cell_type": "markdown",
   "metadata": {},
   "source": [
    "### Objective \n",
    "1. What is recommender Systems\n",
    "2. Types of recommender Systems\n",
    "3. Using basic recommender Systems from mlxtend for online retail data"
   ]
  },
  {
   "cell_type": "markdown",
   "metadata": {},
   "source": [
    "### 1. Recommender System\n",
    "* This System suggest user to buy, connect, sell watch.\n",
    "* Lot of distribution channel makes money using it."
   ]
  },
  {
   "cell_type": "markdown",
   "metadata": {},
   "source": [
    "### 2. Types of recommender Systems\n",
    "* Content Based Filtering - Recommendations are based on metadata collected from a user's histroy & interaction based on your previous watched movies, system will recommend you new movies. Used earlier days. Not much in production.\n",
    "* Collaborative Filtering - Collecting Information from interactions from many other uses to derive suggestions for you. This is what is used in production\n",
    "* Hybrid Filtering - Combining both content based filtering & collaborative filtering"
   ]
  },
  {
   "cell_type": "code",
   "execution_count": 1,
   "metadata": {},
   "outputs": [],
   "source": [
    "import pandas as pd"
   ]
  },
  {
   "cell_type": "code",
   "execution_count": 8,
   "metadata": {},
   "outputs": [],
   "source": [
    "articles_df = pd.read_csv('shared_articles.csv')"
   ]
  },
  {
   "cell_type": "code",
   "execution_count": 9,
   "metadata": {},
   "outputs": [
    {
     "name": "stdout",
     "output_type": "stream",
     "text": [
      "<class 'pandas.core.frame.DataFrame'>\n",
      "RangeIndex: 3122 entries, 0 to 3121\n",
      "Data columns (total 13 columns):\n",
      "timestamp          3122 non-null int64\n",
      "eventType          3122 non-null object\n",
      "contentId          3122 non-null int64\n",
      "authorPersonId     3122 non-null int64\n",
      "authorSessionId    3122 non-null int64\n",
      "authorUserAgent    680 non-null object\n",
      "authorRegion       680 non-null object\n",
      "authorCountry      680 non-null object\n",
      "contentType        3122 non-null object\n",
      "url                3122 non-null object\n",
      "title              3122 non-null object\n",
      "text               3122 non-null object\n",
      "lang               3122 non-null object\n",
      "dtypes: int64(4), object(9)\n",
      "memory usage: 317.2+ KB\n"
     ]
    }
   ],
   "source": [
    "articles_df.info()"
   ]
  },
  {
   "cell_type": "code",
   "execution_count": 4,
   "metadata": {},
   "outputs": [
    {
     "data": {
      "text/html": [
       "<div>\n",
       "<style scoped>\n",
       "    .dataframe tbody tr th:only-of-type {\n",
       "        vertical-align: middle;\n",
       "    }\n",
       "\n",
       "    .dataframe tbody tr th {\n",
       "        vertical-align: top;\n",
       "    }\n",
       "\n",
       "    .dataframe thead th {\n",
       "        text-align: right;\n",
       "    }\n",
       "</style>\n",
       "<table border=\"1\" class=\"dataframe\">\n",
       "  <thead>\n",
       "    <tr style=\"text-align: right;\">\n",
       "      <th></th>\n",
       "      <th>timestamp</th>\n",
       "      <th>eventType</th>\n",
       "      <th>contentId</th>\n",
       "      <th>authorPersonId</th>\n",
       "      <th>authorSessionId</th>\n",
       "      <th>authorUserAgent</th>\n",
       "      <th>authorRegion</th>\n",
       "      <th>authorCountry</th>\n",
       "      <th>contentType</th>\n",
       "      <th>url</th>\n",
       "      <th>title</th>\n",
       "      <th>text</th>\n",
       "      <th>lang</th>\n",
       "    </tr>\n",
       "  </thead>\n",
       "  <tbody>\n",
       "    <tr>\n",
       "      <td>0</td>\n",
       "      <td>1459192779</td>\n",
       "      <td>CONTENT REMOVED</td>\n",
       "      <td>-6451309518266745024</td>\n",
       "      <td>4340306774493623681</td>\n",
       "      <td>8940341205206233829</td>\n",
       "      <td>NaN</td>\n",
       "      <td>NaN</td>\n",
       "      <td>NaN</td>\n",
       "      <td>HTML</td>\n",
       "      <td>http://www.nytimes.com/2016/03/28/business/dea...</td>\n",
       "      <td>Ethereum, a Virtual Currency, Enables Transact...</td>\n",
       "      <td>All of this work is still very early. The firs...</td>\n",
       "      <td>en</td>\n",
       "    </tr>\n",
       "    <tr>\n",
       "      <td>1</td>\n",
       "      <td>1459193988</td>\n",
       "      <td>CONTENT SHARED</td>\n",
       "      <td>-4110354420726924665</td>\n",
       "      <td>4340306774493623681</td>\n",
       "      <td>8940341205206233829</td>\n",
       "      <td>NaN</td>\n",
       "      <td>NaN</td>\n",
       "      <td>NaN</td>\n",
       "      <td>HTML</td>\n",
       "      <td>http://www.nytimes.com/2016/03/28/business/dea...</td>\n",
       "      <td>Ethereum, a Virtual Currency, Enables Transact...</td>\n",
       "      <td>All of this work is still very early. The firs...</td>\n",
       "      <td>en</td>\n",
       "    </tr>\n",
       "    <tr>\n",
       "      <td>2</td>\n",
       "      <td>1459194146</td>\n",
       "      <td>CONTENT SHARED</td>\n",
       "      <td>-7292285110016212249</td>\n",
       "      <td>4340306774493623681</td>\n",
       "      <td>8940341205206233829</td>\n",
       "      <td>NaN</td>\n",
       "      <td>NaN</td>\n",
       "      <td>NaN</td>\n",
       "      <td>HTML</td>\n",
       "      <td>http://cointelegraph.com/news/bitcoin-future-w...</td>\n",
       "      <td>Bitcoin Future: When GBPcoin of Branson Wins O...</td>\n",
       "      <td>The alarm clock wakes me at 8:00 with stream o...</td>\n",
       "      <td>en</td>\n",
       "    </tr>\n",
       "    <tr>\n",
       "      <td>3</td>\n",
       "      <td>1459194474</td>\n",
       "      <td>CONTENT SHARED</td>\n",
       "      <td>-6151852268067518688</td>\n",
       "      <td>3891637997717104548</td>\n",
       "      <td>-1457532940883382585</td>\n",
       "      <td>NaN</td>\n",
       "      <td>NaN</td>\n",
       "      <td>NaN</td>\n",
       "      <td>HTML</td>\n",
       "      <td>https://cloudplatform.googleblog.com/2016/03/G...</td>\n",
       "      <td>Google Data Center 360° Tour</td>\n",
       "      <td>We're excited to share the Google Data Center ...</td>\n",
       "      <td>en</td>\n",
       "    </tr>\n",
       "    <tr>\n",
       "      <td>4</td>\n",
       "      <td>1459194497</td>\n",
       "      <td>CONTENT SHARED</td>\n",
       "      <td>2448026894306402386</td>\n",
       "      <td>4340306774493623681</td>\n",
       "      <td>8940341205206233829</td>\n",
       "      <td>NaN</td>\n",
       "      <td>NaN</td>\n",
       "      <td>NaN</td>\n",
       "      <td>HTML</td>\n",
       "      <td>https://bitcoinmagazine.com/articles/ibm-wants...</td>\n",
       "      <td>IBM Wants to \"Evolve the Internet\" With Blockc...</td>\n",
       "      <td>The Aite Group projects the blockchain market ...</td>\n",
       "      <td>en</td>\n",
       "    </tr>\n",
       "  </tbody>\n",
       "</table>\n",
       "</div>"
      ],
      "text/plain": [
       "    timestamp        eventType            contentId       authorPersonId  \\\n",
       "0  1459192779  CONTENT REMOVED -6451309518266745024  4340306774493623681   \n",
       "1  1459193988   CONTENT SHARED -4110354420726924665  4340306774493623681   \n",
       "2  1459194146   CONTENT SHARED -7292285110016212249  4340306774493623681   \n",
       "3  1459194474   CONTENT SHARED -6151852268067518688  3891637997717104548   \n",
       "4  1459194497   CONTENT SHARED  2448026894306402386  4340306774493623681   \n",
       "\n",
       "       authorSessionId authorUserAgent authorRegion authorCountry contentType  \\\n",
       "0  8940341205206233829             NaN          NaN           NaN        HTML   \n",
       "1  8940341205206233829             NaN          NaN           NaN        HTML   \n",
       "2  8940341205206233829             NaN          NaN           NaN        HTML   \n",
       "3 -1457532940883382585             NaN          NaN           NaN        HTML   \n",
       "4  8940341205206233829             NaN          NaN           NaN        HTML   \n",
       "\n",
       "                                                 url  \\\n",
       "0  http://www.nytimes.com/2016/03/28/business/dea...   \n",
       "1  http://www.nytimes.com/2016/03/28/business/dea...   \n",
       "2  http://cointelegraph.com/news/bitcoin-future-w...   \n",
       "3  https://cloudplatform.googleblog.com/2016/03/G...   \n",
       "4  https://bitcoinmagazine.com/articles/ibm-wants...   \n",
       "\n",
       "                                               title  \\\n",
       "0  Ethereum, a Virtual Currency, Enables Transact...   \n",
       "1  Ethereum, a Virtual Currency, Enables Transact...   \n",
       "2  Bitcoin Future: When GBPcoin of Branson Wins O...   \n",
       "3                       Google Data Center 360° Tour   \n",
       "4  IBM Wants to \"Evolve the Internet\" With Blockc...   \n",
       "\n",
       "                                                text lang  \n",
       "0  All of this work is still very early. The firs...   en  \n",
       "1  All of this work is still very early. The firs...   en  \n",
       "2  The alarm clock wakes me at 8:00 with stream o...   en  \n",
       "3  We're excited to share the Google Data Center ...   en  \n",
       "4  The Aite Group projects the blockchain market ...   en  "
      ]
     },
     "execution_count": 4,
     "metadata": {},
     "output_type": "execute_result"
    }
   ],
   "source": [
    "articles_df.head()"
   ]
  },
  {
   "cell_type": "code",
   "execution_count": 5,
   "metadata": {},
   "outputs": [
    {
     "data": {
      "text/plain": [
       "CONTENT SHARED     3047\n",
       "CONTENT REMOVED      75\n",
       "Name: eventType, dtype: int64"
      ]
     },
     "execution_count": 5,
     "metadata": {},
     "output_type": "execute_result"
    }
   ],
   "source": [
    "articles_df.eventType.value_counts()"
   ]
  },
  {
   "cell_type": "code",
   "execution_count": 6,
   "metadata": {},
   "outputs": [],
   "source": [
    "# so now we select 'CONTENT SHARED' data\n",
    "articles_df = articles_df[articles_df.eventType == 'CONTENT SHARED']"
   ]
  },
  {
   "cell_type": "code",
   "execution_count": 7,
   "metadata": {},
   "outputs": [
    {
     "name": "stdout",
     "output_type": "stream",
     "text": [
      "<class 'pandas.core.frame.DataFrame'>\n",
      "Int64Index: 3047 entries, 1 to 3121\n",
      "Data columns (total 13 columns):\n",
      "timestamp          3047 non-null int64\n",
      "eventType          3047 non-null object\n",
      "contentId          3047 non-null int64\n",
      "authorPersonId     3047 non-null int64\n",
      "authorSessionId    3047 non-null int64\n",
      "authorUserAgent    669 non-null object\n",
      "authorRegion       669 non-null object\n",
      "authorCountry      669 non-null object\n",
      "contentType        3047 non-null object\n",
      "url                3047 non-null object\n",
      "title              3047 non-null object\n",
      "text               3047 non-null object\n",
      "lang               3047 non-null object\n",
      "dtypes: int64(4), object(9)\n",
      "memory usage: 333.3+ KB\n"
     ]
    }
   ],
   "source": [
    "articles_df.info()"
   ]
  },
  {
   "cell_type": "code",
   "execution_count": 11,
   "metadata": {},
   "outputs": [
    {
     "data": {
      "text/html": [
       "<div>\n",
       "<style scoped>\n",
       "    .dataframe tbody tr th:only-of-type {\n",
       "        vertical-align: middle;\n",
       "    }\n",
       "\n",
       "    .dataframe tbody tr th {\n",
       "        vertical-align: top;\n",
       "    }\n",
       "\n",
       "    .dataframe thead th {\n",
       "        text-align: right;\n",
       "    }\n",
       "</style>\n",
       "<table border=\"1\" class=\"dataframe\">\n",
       "  <thead>\n",
       "    <tr style=\"text-align: right;\">\n",
       "      <th></th>\n",
       "      <th>timestamp</th>\n",
       "      <th>eventType</th>\n",
       "      <th>contentId</th>\n",
       "      <th>authorPersonId</th>\n",
       "      <th>authorSessionId</th>\n",
       "      <th>authorUserAgent</th>\n",
       "      <th>authorRegion</th>\n",
       "      <th>authorCountry</th>\n",
       "      <th>contentType</th>\n",
       "      <th>url</th>\n",
       "      <th>title</th>\n",
       "      <th>text</th>\n",
       "      <th>lang</th>\n",
       "    </tr>\n",
       "  </thead>\n",
       "  <tbody>\n",
       "    <tr>\n",
       "      <td>2246</td>\n",
       "      <td>1472752143</td>\n",
       "      <td>CONTENT SHARED</td>\n",
       "      <td>4241385837165861843</td>\n",
       "      <td>-1479311724257856983</td>\n",
       "      <td>2228015062196318632</td>\n",
       "      <td>NaN</td>\n",
       "      <td>NaN</td>\n",
       "      <td>NaN</td>\n",
       "      <td>HTML</td>\n",
       "      <td>https://unionmetrics.zendesk.com/hc/en-us/arti...</td>\n",
       "      <td>Understanding the Twitter topic Tracker</td>\n",
       "      <td>By default, an Twitter topic Tracker will show...</td>\n",
       "      <td>en</td>\n",
       "    </tr>\n",
       "    <tr>\n",
       "      <td>553</td>\n",
       "      <td>1461416764</td>\n",
       "      <td>CONTENT SHARED</td>\n",
       "      <td>-535029905294961110</td>\n",
       "      <td>-1032019229384696495</td>\n",
       "      <td>8050852261508857085</td>\n",
       "      <td>NaN</td>\n",
       "      <td>NaN</td>\n",
       "      <td>NaN</td>\n",
       "      <td>HTML</td>\n",
       "      <td>http://motherboard.vice.com/read/why-humans-do...</td>\n",
       "      <td>Why a Universal Language Will Never Be a Thing</td>\n",
       "      <td>One of the cooler experiences I've had happene...</td>\n",
       "      <td>en</td>\n",
       "    </tr>\n",
       "    <tr>\n",
       "      <td>2659</td>\n",
       "      <td>1477494625</td>\n",
       "      <td>CONTENT SHARED</td>\n",
       "      <td>-5637143900506554933</td>\n",
       "      <td>-1443636648652872475</td>\n",
       "      <td>-5650650301365919459</td>\n",
       "      <td>Android - Native Mobile App</td>\n",
       "      <td>SP</td>\n",
       "      <td>BR</td>\n",
       "      <td>HTML</td>\n",
       "      <td>https://www.wired.com/2016/10/ai-pioneer-yoshu...</td>\n",
       "      <td>AI Pioneer Yoshua Bengio Is Launching Element....</td>\n",
       "      <td>Yoshua Bengio, one of the leading figures behi...</td>\n",
       "      <td>en</td>\n",
       "    </tr>\n",
       "    <tr>\n",
       "      <td>578</td>\n",
       "      <td>1461596645</td>\n",
       "      <td>CONTENT SHARED</td>\n",
       "      <td>-7613994611628693820</td>\n",
       "      <td>5660542693104786364</td>\n",
       "      <td>-7492116888809801796</td>\n",
       "      <td>NaN</td>\n",
       "      <td>NaN</td>\n",
       "      <td>NaN</td>\n",
       "      <td>HTML</td>\n",
       "      <td>http://www.valor.com.br/financas/4535213/cmn-r...</td>\n",
       "      <td>CMN regulamenta abertura de conta de depósito ...</td>\n",
       "      <td>O Conselho Monetário Nacional (CMN) aprovou re...</td>\n",
       "      <td>pt</td>\n",
       "    </tr>\n",
       "    <tr>\n",
       "      <td>2071</td>\n",
       "      <td>1471292229</td>\n",
       "      <td>CONTENT SHARED</td>\n",
       "      <td>6650072898902843826</td>\n",
       "      <td>3609194402293569455</td>\n",
       "      <td>-5783341880416637871</td>\n",
       "      <td>NaN</td>\n",
       "      <td>NaN</td>\n",
       "      <td>NaN</td>\n",
       "      <td>HTML</td>\n",
       "      <td>https://www.thinkwithgoogle.com/case-studies/a...</td>\n",
       "      <td>Amex Canada Discovers 68% More Mobile-Driven C...</td>\n",
       "      <td>What if you discovered one of your media chann...</td>\n",
       "      <td>en</td>\n",
       "    </tr>\n",
       "    <tr>\n",
       "      <td>2619</td>\n",
       "      <td>1477052144</td>\n",
       "      <td>CONTENT SHARED</td>\n",
       "      <td>1851975995406778464</td>\n",
       "      <td>-5527145562136413747</td>\n",
       "      <td>-4137383865691554748</td>\n",
       "      <td>Mozilla/5.0 (Macintosh; Intel Mac OS X 10_10_5...</td>\n",
       "      <td>RJ</td>\n",
       "      <td>BR</td>\n",
       "      <td>HTML</td>\n",
       "      <td>http://picnicbrasil.com/programacao</td>\n",
       "      <td>PICNIC</td>\n",
       "      <td>Redesenhar o crescimento, repensar o lugar em ...</td>\n",
       "      <td>pt</td>\n",
       "    </tr>\n",
       "    <tr>\n",
       "      <td>1795</td>\n",
       "      <td>1468545174</td>\n",
       "      <td>CONTENT SHARED</td>\n",
       "      <td>-2211174111335280246</td>\n",
       "      <td>-1616903969205976623</td>\n",
       "      <td>6439430300980685505</td>\n",
       "      <td>NaN</td>\n",
       "      <td>NaN</td>\n",
       "      <td>NaN</td>\n",
       "      <td>HTML</td>\n",
       "      <td>http://www.mobiletime.com.br/28/06/2016/aeropo...</td>\n",
       "      <td>MOBILE TIME - Aeroporto do Galeão é o primeiro...</td>\n",
       "      <td>Aeroporto do Galeão é o primeiro da América La...</td>\n",
       "      <td>pt</td>\n",
       "    </tr>\n",
       "    <tr>\n",
       "      <td>2869</td>\n",
       "      <td>1481676932</td>\n",
       "      <td>CONTENT SHARED</td>\n",
       "      <td>8526042588044002101</td>\n",
       "      <td>-8020832670974472349</td>\n",
       "      <td>-265133471069694993</td>\n",
       "      <td>Mozilla/5.0 (X11; Linux x86_64) AppleWebKit/53...</td>\n",
       "      <td>SP</td>\n",
       "      <td>BR</td>\n",
       "      <td>HTML</td>\n",
       "      <td>https://blog.heptio.com/cloud-native-part-1-de...</td>\n",
       "      <td>Cloud Native Part 1: Definition</td>\n",
       "      <td>As Craig and I start our journey toward buildi...</td>\n",
       "      <td>en</td>\n",
       "    </tr>\n",
       "    <tr>\n",
       "      <td>600</td>\n",
       "      <td>1461698179</td>\n",
       "      <td>CONTENT SHARED</td>\n",
       "      <td>6044362651232258738</td>\n",
       "      <td>6013226412048763966</td>\n",
       "      <td>4613953821207157764</td>\n",
       "      <td>NaN</td>\n",
       "      <td>NaN</td>\n",
       "      <td>NaN</td>\n",
       "      <td>HTML</td>\n",
       "      <td>http://vocesa.uol.com.br/noticias/acervo/cinco...</td>\n",
       "      <td>Cinco competências comportamentais para você s...</td>\n",
       "      <td>escritório | Crédito: pixabay Por que algumas ...</td>\n",
       "      <td>pt</td>\n",
       "    </tr>\n",
       "    <tr>\n",
       "      <td>1713</td>\n",
       "      <td>1468013559</td>\n",
       "      <td>CONTENT SHARED</td>\n",
       "      <td>-7627277742224639768</td>\n",
       "      <td>-5527145562136413747</td>\n",
       "      <td>994193917185601078</td>\n",
       "      <td>NaN</td>\n",
       "      <td>NaN</td>\n",
       "      <td>NaN</td>\n",
       "      <td>HTML</td>\n",
       "      <td>http://papodehomem.com.br/pequeno-guia-para-en...</td>\n",
       "      <td>Pequeno guia para entender as línguas de sinais</td>\n",
       "      <td>Foi quando passei algum tempo fora do Brasil (...</td>\n",
       "      <td>pt</td>\n",
       "    </tr>\n",
       "  </tbody>\n",
       "</table>\n",
       "</div>"
      ],
      "text/plain": [
       "       timestamp       eventType            contentId       authorPersonId  \\\n",
       "2246  1472752143  CONTENT SHARED  4241385837165861843 -1479311724257856983   \n",
       "553   1461416764  CONTENT SHARED  -535029905294961110 -1032019229384696495   \n",
       "2659  1477494625  CONTENT SHARED -5637143900506554933 -1443636648652872475   \n",
       "578   1461596645  CONTENT SHARED -7613994611628693820  5660542693104786364   \n",
       "2071  1471292229  CONTENT SHARED  6650072898902843826  3609194402293569455   \n",
       "2619  1477052144  CONTENT SHARED  1851975995406778464 -5527145562136413747   \n",
       "1795  1468545174  CONTENT SHARED -2211174111335280246 -1616903969205976623   \n",
       "2869  1481676932  CONTENT SHARED  8526042588044002101 -8020832670974472349   \n",
       "600   1461698179  CONTENT SHARED  6044362651232258738  6013226412048763966   \n",
       "1713  1468013559  CONTENT SHARED -7627277742224639768 -5527145562136413747   \n",
       "\n",
       "          authorSessionId                                    authorUserAgent  \\\n",
       "2246  2228015062196318632                                                NaN   \n",
       "553   8050852261508857085                                                NaN   \n",
       "2659 -5650650301365919459                        Android - Native Mobile App   \n",
       "578  -7492116888809801796                                                NaN   \n",
       "2071 -5783341880416637871                                                NaN   \n",
       "2619 -4137383865691554748  Mozilla/5.0 (Macintosh; Intel Mac OS X 10_10_5...   \n",
       "1795  6439430300980685505                                                NaN   \n",
       "2869  -265133471069694993  Mozilla/5.0 (X11; Linux x86_64) AppleWebKit/53...   \n",
       "600   4613953821207157764                                                NaN   \n",
       "1713   994193917185601078                                                NaN   \n",
       "\n",
       "     authorRegion authorCountry contentType  \\\n",
       "2246          NaN           NaN        HTML   \n",
       "553           NaN           NaN        HTML   \n",
       "2659           SP            BR        HTML   \n",
       "578           NaN           NaN        HTML   \n",
       "2071          NaN           NaN        HTML   \n",
       "2619           RJ            BR        HTML   \n",
       "1795          NaN           NaN        HTML   \n",
       "2869           SP            BR        HTML   \n",
       "600           NaN           NaN        HTML   \n",
       "1713          NaN           NaN        HTML   \n",
       "\n",
       "                                                    url  \\\n",
       "2246  https://unionmetrics.zendesk.com/hc/en-us/arti...   \n",
       "553   http://motherboard.vice.com/read/why-humans-do...   \n",
       "2659  https://www.wired.com/2016/10/ai-pioneer-yoshu...   \n",
       "578   http://www.valor.com.br/financas/4535213/cmn-r...   \n",
       "2071  https://www.thinkwithgoogle.com/case-studies/a...   \n",
       "2619                http://picnicbrasil.com/programacao   \n",
       "1795  http://www.mobiletime.com.br/28/06/2016/aeropo...   \n",
       "2869  https://blog.heptio.com/cloud-native-part-1-de...   \n",
       "600   http://vocesa.uol.com.br/noticias/acervo/cinco...   \n",
       "1713  http://papodehomem.com.br/pequeno-guia-para-en...   \n",
       "\n",
       "                                                  title  \\\n",
       "2246            Understanding the Twitter topic Tracker   \n",
       "553      Why a Universal Language Will Never Be a Thing   \n",
       "2659  AI Pioneer Yoshua Bengio Is Launching Element....   \n",
       "578   CMN regulamenta abertura de conta de depósito ...   \n",
       "2071  Amex Canada Discovers 68% More Mobile-Driven C...   \n",
       "2619                                             PICNIC   \n",
       "1795  MOBILE TIME - Aeroporto do Galeão é o primeiro...   \n",
       "2869                    Cloud Native Part 1: Definition   \n",
       "600   Cinco competências comportamentais para você s...   \n",
       "1713    Pequeno guia para entender as línguas de sinais   \n",
       "\n",
       "                                                   text lang  \n",
       "2246  By default, an Twitter topic Tracker will show...   en  \n",
       "553   One of the cooler experiences I've had happene...   en  \n",
       "2659  Yoshua Bengio, one of the leading figures behi...   en  \n",
       "578   O Conselho Monetário Nacional (CMN) aprovou re...   pt  \n",
       "2071  What if you discovered one of your media chann...   en  \n",
       "2619  Redesenhar o crescimento, repensar o lugar em ...   pt  \n",
       "1795  Aeroporto do Galeão é o primeiro da América La...   pt  \n",
       "2869  As Craig and I start our journey toward buildi...   en  \n",
       "600   escritório | Crédito: pixabay Por que algumas ...   pt  \n",
       "1713  Foi quando passei algum tempo fora do Brasil (...   pt  "
      ]
     },
     "execution_count": 11,
     "metadata": {},
     "output_type": "execute_result"
    }
   ],
   "source": [
    "articles_df.sample(10)"
   ]
  },
  {
   "cell_type": "code",
   "execution_count": 12,
   "metadata": {},
   "outputs": [],
   "source": [
    "interaction_df = pd.read_csv('users_interactions.csv')"
   ]
  },
  {
   "cell_type": "code",
   "execution_count": 13,
   "metadata": {},
   "outputs": [
    {
     "name": "stdout",
     "output_type": "stream",
     "text": [
      "<class 'pandas.core.frame.DataFrame'>\n",
      "RangeIndex: 72312 entries, 0 to 72311\n",
      "Data columns (total 8 columns):\n",
      "timestamp      72312 non-null int64\n",
      "eventType      72312 non-null object\n",
      "contentId      72312 non-null int64\n",
      "personId       72312 non-null int64\n",
      "sessionId      72312 non-null int64\n",
      "userAgent      56918 non-null object\n",
      "userRegion     56907 non-null object\n",
      "userCountry    56918 non-null object\n",
      "dtypes: int64(4), object(4)\n",
      "memory usage: 4.4+ MB\n"
     ]
    }
   ],
   "source": [
    "interaction_df.info()"
   ]
  },
  {
   "cell_type": "code",
   "execution_count": 14,
   "metadata": {},
   "outputs": [
    {
     "data": {
      "text/plain": [
       "array(['VIEW', 'FOLLOW', 'BOOKMARK', 'LIKE', 'COMMENT CREATED'],\n",
       "      dtype=object)"
      ]
     },
     "execution_count": 14,
     "metadata": {},
     "output_type": "execute_result"
    }
   ],
   "source": [
    "interaction_df.eventType.unique()"
   ]
  },
  {
   "cell_type": "code",
   "execution_count": 15,
   "metadata": {},
   "outputs": [],
   "source": [
    "event_type_strength = {\n",
    "    'VIEW' : 1,\n",
    "    'LIKE' : 2,\n",
    "    'BOOKMARK' : 3,\n",
    "    'FOLLOW' : 4,\n",
    "    'COMMENT CREATED' : 5\n",
    "}"
   ]
  },
  {
   "cell_type": "code",
   "execution_count": 16,
   "metadata": {},
   "outputs": [],
   "source": [
    "interaction_df['event_type_strength'] = interaction_df.eventType.map(event_type_strength)"
   ]
  },
  {
   "cell_type": "markdown",
   "metadata": {},
   "source": [
    "* Recommender System classic problem is cold-start issue. If you join a new platform, the platform don't really know what tp recommand\n",
    "* Thus, we only want recommendation system to kick in after user has done some activity. So, we will consider user with more than 5 activity "
   ]
  },
  {
   "cell_type": "code",
   "execution_count": 20,
   "metadata": {},
   "outputs": [],
   "source": [
    "user_interaction_count = interaction_df.groupby(['personId','contentId']).size().groupby('personId').size()"
   ]
  },
  {
   "cell_type": "code",
   "execution_count": 21,
   "metadata": {},
   "outputs": [
    {
     "data": {
      "text/plain": [
       "personId\n",
       "-9223121837663643404    43\n",
       "-9212075797126931087     5\n",
       "-9207251133131336884     7\n",
       "-9199575329909162940    11\n",
       "-9196668942822132778     7\n",
       "                        ..\n",
       " 9165571805999894845     5\n",
       " 9187866633451383747    17\n",
       " 9191849144618614467    12\n",
       " 9199170757466086545    14\n",
       " 9210530975708218054    63\n",
       "Length: 1895, dtype: int64"
      ]
     },
     "execution_count": 21,
     "metadata": {},
     "output_type": "execute_result"
    }
   ],
   "source": [
    "user_interaction_count "
   ]
  },
  {
   "cell_type": "code",
   "execution_count": 22,
   "metadata": {},
   "outputs": [],
   "source": [
    "user_with_enough_interaction = user_interaction_count[user_interaction_count >= 5]"
   ]
  },
  {
   "cell_type": "markdown",
   "metadata": {},
   "source": [
    "###  Understanding from the above commands\n",
    "* user_interaction_count tells how much interactions each user is doig\n",
    "* user_with_enough_interaction is users with more than 5 interactions\n",
    "* We are doing this to avoid cold start problems "
   ]
  },
  {
   "cell_type": "code",
   "execution_count": 23,
   "metadata": {},
   "outputs": [],
   "source": [
    "user_with_enough_interaction_df = pd.DataFrame(user_with_enough_interaction).reset_index()[['personId']]"
   ]
  },
  {
   "cell_type": "code",
   "execution_count": 25,
   "metadata": {},
   "outputs": [
    {
     "data": {
      "text/html": [
       "<div>\n",
       "<style scoped>\n",
       "    .dataframe tbody tr th:only-of-type {\n",
       "        vertical-align: middle;\n",
       "    }\n",
       "\n",
       "    .dataframe tbody tr th {\n",
       "        vertical-align: top;\n",
       "    }\n",
       "\n",
       "    .dataframe thead th {\n",
       "        text-align: right;\n",
       "    }\n",
       "</style>\n",
       "<table border=\"1\" class=\"dataframe\">\n",
       "  <thead>\n",
       "    <tr style=\"text-align: right;\">\n",
       "      <th></th>\n",
       "      <th>personId</th>\n",
       "    </tr>\n",
       "  </thead>\n",
       "  <tbody>\n",
       "    <tr>\n",
       "      <td>0</td>\n",
       "      <td>-9223121837663643404</td>\n",
       "    </tr>\n",
       "    <tr>\n",
       "      <td>1</td>\n",
       "      <td>-9212075797126931087</td>\n",
       "    </tr>\n",
       "    <tr>\n",
       "      <td>2</td>\n",
       "      <td>-9207251133131336884</td>\n",
       "    </tr>\n",
       "    <tr>\n",
       "      <td>3</td>\n",
       "      <td>-9199575329909162940</td>\n",
       "    </tr>\n",
       "    <tr>\n",
       "      <td>4</td>\n",
       "      <td>-9196668942822132778</td>\n",
       "    </tr>\n",
       "    <tr>\n",
       "      <td>...</td>\n",
       "      <td>...</td>\n",
       "    </tr>\n",
       "    <tr>\n",
       "      <td>1135</td>\n",
       "      <td>9165571805999894845</td>\n",
       "    </tr>\n",
       "    <tr>\n",
       "      <td>1136</td>\n",
       "      <td>9187866633451383747</td>\n",
       "    </tr>\n",
       "    <tr>\n",
       "      <td>1137</td>\n",
       "      <td>9191849144618614467</td>\n",
       "    </tr>\n",
       "    <tr>\n",
       "      <td>1138</td>\n",
       "      <td>9199170757466086545</td>\n",
       "    </tr>\n",
       "    <tr>\n",
       "      <td>1139</td>\n",
       "      <td>9210530975708218054</td>\n",
       "    </tr>\n",
       "  </tbody>\n",
       "</table>\n",
       "<p>1140 rows × 1 columns</p>\n",
       "</div>"
      ],
      "text/plain": [
       "                 personId\n",
       "0    -9223121837663643404\n",
       "1    -9212075797126931087\n",
       "2    -9207251133131336884\n",
       "3    -9199575329909162940\n",
       "4    -9196668942822132778\n",
       "...                   ...\n",
       "1135  9165571805999894845\n",
       "1136  9187866633451383747\n",
       "1137  9191849144618614467\n",
       "1138  9199170757466086545\n",
       "1139  9210530975708218054\n",
       "\n",
       "[1140 rows x 1 columns]"
      ]
     },
     "execution_count": 25,
     "metadata": {},
     "output_type": "execute_result"
    }
   ],
   "source": [
    "user_with_enough_interaction_df"
   ]
  },
  {
   "cell_type": "code",
   "execution_count": 24,
   "metadata": {
    "scrolled": true
   },
   "outputs": [
    {
     "name": "stdout",
     "output_type": "stream",
     "text": [
      "<class 'pandas.core.frame.DataFrame'>\n",
      "RangeIndex: 72312 entries, 0 to 72311\n",
      "Data columns (total 9 columns):\n",
      "timestamp              72312 non-null int64\n",
      "eventType              72312 non-null object\n",
      "contentId              72312 non-null int64\n",
      "personId               72312 non-null int64\n",
      "sessionId              72312 non-null int64\n",
      "userAgent              56918 non-null object\n",
      "userRegion             56907 non-null object\n",
      "userCountry            56918 non-null object\n",
      "event_type_strength    72312 non-null int64\n",
      "dtypes: int64(5), object(4)\n",
      "memory usage: 5.0+ MB\n"
     ]
    }
   ],
   "source": [
    "interaction_df.info()"
   ]
  },
  {
   "cell_type": "code",
   "execution_count": 27,
   "metadata": {},
   "outputs": [],
   "source": [
    "interactions_from_chosen_users = interaction_df.merge(user_with_enough_interaction_df, how='right', left_on='personId', right_on='personId')"
   ]
  },
  {
   "cell_type": "code",
   "execution_count": 29,
   "metadata": {},
   "outputs": [
    {
     "name": "stdout",
     "output_type": "stream",
     "text": [
      "<class 'pandas.core.frame.DataFrame'>\n",
      "Int64Index: 69868 entries, 0 to 69867\n",
      "Data columns (total 9 columns):\n",
      "timestamp              69868 non-null int64\n",
      "eventType              69868 non-null object\n",
      "contentId              69868 non-null int64\n",
      "personId               69868 non-null int64\n",
      "sessionId              69868 non-null int64\n",
      "userAgent              54877 non-null object\n",
      "userRegion             54867 non-null object\n",
      "userCountry            54877 non-null object\n",
      "event_type_strength    69868 non-null int64\n",
      "dtypes: int64(5), object(4)\n",
      "memory usage: 5.3+ MB\n"
     ]
    }
   ],
   "source": [
    "interactions_from_chosen_users.info()"
   ]
  },
  {
   "cell_type": "code",
   "execution_count": 32,
   "metadata": {},
   "outputs": [
    {
     "data": {
      "text/plain": [
       "0       -8845298781299428018\n",
       "1       -1032019229384696495\n",
       "2       -1130272294246983140\n",
       "3         344280948527967603\n",
       "4        -445337111692715325\n",
       "                ...         \n",
       "72307   -9016528795238256703\n",
       "72308     102305705598210278\n",
       "72309   -9196668942822132778\n",
       "72310   -9016528795238256703\n",
       "72311    5713241217519616260\n",
       "Name: personId, Length: 72312, dtype: int64"
      ]
     },
     "execution_count": 32,
     "metadata": {},
     "output_type": "execute_result"
    }
   ],
   "source": [
    "interaction_df.personId"
   ]
  },
  {
   "cell_type": "code",
   "execution_count": 30,
   "metadata": {},
   "outputs": [
    {
     "data": {
      "text/plain": [
       "0       -8845298781299428018\n",
       "1       -8845298781299428018\n",
       "2       -8845298781299428018\n",
       "3       -8845298781299428018\n",
       "4       -8845298781299428018\n",
       "                ...         \n",
       "69863   -9063420486253202900\n",
       "69864   -9063420486253202900\n",
       "69865   -9063420486253202900\n",
       "69866   -9063420486253202900\n",
       "69867   -9063420486253202900\n",
       "Name: personId, Length: 69868, dtype: int64"
      ]
     },
     "execution_count": 30,
     "metadata": {},
     "output_type": "execute_result"
    }
   ],
   "source": [
    "interactions_from_chosen_users.personId # as you can se column is now merge      "
   ]
  },
  {
   "cell_type": "code",
   "execution_count": 36,
   "metadata": {},
   "outputs": [],
   "source": [
    "interaction_full_df = pd.DataFrame(interactions_from_chosen_users.groupby(['personId','contentId'])['event_type_strength'].sum().reset_index())"
   ]
  },
  {
   "cell_type": "code",
   "execution_count": 37,
   "metadata": {},
   "outputs": [
    {
     "data": {
      "text/html": [
       "<div>\n",
       "<style scoped>\n",
       "    .dataframe tbody tr th:only-of-type {\n",
       "        vertical-align: middle;\n",
       "    }\n",
       "\n",
       "    .dataframe tbody tr th {\n",
       "        vertical-align: top;\n",
       "    }\n",
       "\n",
       "    .dataframe thead th {\n",
       "        text-align: right;\n",
       "    }\n",
       "</style>\n",
       "<table border=\"1\" class=\"dataframe\">\n",
       "  <thead>\n",
       "    <tr style=\"text-align: right;\">\n",
       "      <th></th>\n",
       "      <th>personId</th>\n",
       "      <th>contentId</th>\n",
       "      <th>event_type_strength</th>\n",
       "    </tr>\n",
       "  </thead>\n",
       "  <tbody>\n",
       "    <tr>\n",
       "      <td>0</td>\n",
       "      <td>-9223121837663643404</td>\n",
       "      <td>-8949113594875411859</td>\n",
       "      <td>1</td>\n",
       "    </tr>\n",
       "    <tr>\n",
       "      <td>1</td>\n",
       "      <td>-9223121837663643404</td>\n",
       "      <td>-8377626164558006982</td>\n",
       "      <td>1</td>\n",
       "    </tr>\n",
       "    <tr>\n",
       "      <td>2</td>\n",
       "      <td>-9223121837663643404</td>\n",
       "      <td>-8208801367848627943</td>\n",
       "      <td>1</td>\n",
       "    </tr>\n",
       "    <tr>\n",
       "      <td>3</td>\n",
       "      <td>-9223121837663643404</td>\n",
       "      <td>-8187220755213888616</td>\n",
       "      <td>1</td>\n",
       "    </tr>\n",
       "    <tr>\n",
       "      <td>4</td>\n",
       "      <td>-9223121837663643404</td>\n",
       "      <td>-7423191370472335463</td>\n",
       "      <td>8</td>\n",
       "    </tr>\n",
       "    <tr>\n",
       "      <td>...</td>\n",
       "      <td>...</td>\n",
       "      <td>...</td>\n",
       "      <td>...</td>\n",
       "    </tr>\n",
       "    <tr>\n",
       "      <td>39101</td>\n",
       "      <td>9210530975708218054</td>\n",
       "      <td>8477804012624580461</td>\n",
       "      <td>10</td>\n",
       "    </tr>\n",
       "    <tr>\n",
       "      <td>39102</td>\n",
       "      <td>9210530975708218054</td>\n",
       "      <td>8526042588044002101</td>\n",
       "      <td>1</td>\n",
       "    </tr>\n",
       "    <tr>\n",
       "      <td>39103</td>\n",
       "      <td>9210530975708218054</td>\n",
       "      <td>8856169137131817223</td>\n",
       "      <td>1</td>\n",
       "    </tr>\n",
       "    <tr>\n",
       "      <td>39104</td>\n",
       "      <td>9210530975708218054</td>\n",
       "      <td>8869347744613364434</td>\n",
       "      <td>1</td>\n",
       "    </tr>\n",
       "    <tr>\n",
       "      <td>39105</td>\n",
       "      <td>9210530975708218054</td>\n",
       "      <td>9209886322932807692</td>\n",
       "      <td>1</td>\n",
       "    </tr>\n",
       "  </tbody>\n",
       "</table>\n",
       "<p>39106 rows × 3 columns</p>\n",
       "</div>"
      ],
      "text/plain": [
       "                  personId            contentId  event_type_strength\n",
       "0     -9223121837663643404 -8949113594875411859                    1\n",
       "1     -9223121837663643404 -8377626164558006982                    1\n",
       "2     -9223121837663643404 -8208801367848627943                    1\n",
       "3     -9223121837663643404 -8187220755213888616                    1\n",
       "4     -9223121837663643404 -7423191370472335463                    8\n",
       "...                    ...                  ...                  ...\n",
       "39101  9210530975708218054  8477804012624580461                   10\n",
       "39102  9210530975708218054  8526042588044002101                    1\n",
       "39103  9210530975708218054  8856169137131817223                    1\n",
       "39104  9210530975708218054  8869347744613364434                    1\n",
       "39105  9210530975708218054  9209886322932807692                    1\n",
       "\n",
       "[39106 rows x 3 columns]"
      ]
     },
     "execution_count": 37,
     "metadata": {},
     "output_type": "execute_result"
    }
   ],
   "source": [
    "interaction_full_df"
   ]
  },
  {
   "cell_type": "code",
   "execution_count": 38,
   "metadata": {},
   "outputs": [],
   "source": [
    "df = interaction_full_df[interaction_full_df.personId == -9223121837663643404]"
   ]
  },
  {
   "cell_type": "code",
   "execution_count": 40,
   "metadata": {},
   "outputs": [
    {
     "data": {
      "text/html": [
       "<div>\n",
       "<style scoped>\n",
       "    .dataframe tbody tr th:only-of-type {\n",
       "        vertical-align: middle;\n",
       "    }\n",
       "\n",
       "    .dataframe tbody tr th {\n",
       "        vertical-align: top;\n",
       "    }\n",
       "\n",
       "    .dataframe thead th {\n",
       "        text-align: right;\n",
       "    }\n",
       "</style>\n",
       "<table border=\"1\" class=\"dataframe\">\n",
       "  <thead>\n",
       "    <tr style=\"text-align: right;\">\n",
       "      <th></th>\n",
       "      <th>personId</th>\n",
       "      <th>contentId</th>\n",
       "      <th>event_type_strength</th>\n",
       "    </tr>\n",
       "  </thead>\n",
       "  <tbody>\n",
       "    <tr>\n",
       "      <td>0</td>\n",
       "      <td>-9223121837663643404</td>\n",
       "      <td>-8949113594875411859</td>\n",
       "      <td>1</td>\n",
       "    </tr>\n",
       "    <tr>\n",
       "      <td>1</td>\n",
       "      <td>-9223121837663643404</td>\n",
       "      <td>-8377626164558006982</td>\n",
       "      <td>1</td>\n",
       "    </tr>\n",
       "    <tr>\n",
       "      <td>2</td>\n",
       "      <td>-9223121837663643404</td>\n",
       "      <td>-8208801367848627943</td>\n",
       "      <td>1</td>\n",
       "    </tr>\n",
       "    <tr>\n",
       "      <td>3</td>\n",
       "      <td>-9223121837663643404</td>\n",
       "      <td>-8187220755213888616</td>\n",
       "      <td>1</td>\n",
       "    </tr>\n",
       "    <tr>\n",
       "      <td>4</td>\n",
       "      <td>-9223121837663643404</td>\n",
       "      <td>-7423191370472335463</td>\n",
       "      <td>8</td>\n",
       "    </tr>\n",
       "  </tbody>\n",
       "</table>\n",
       "</div>"
      ],
      "text/plain": [
       "              personId            contentId  event_type_strength\n",
       "0 -9223121837663643404 -8949113594875411859                    1\n",
       "1 -9223121837663643404 -8377626164558006982                    1\n",
       "2 -9223121837663643404 -8208801367848627943                    1\n",
       "3 -9223121837663643404 -8187220755213888616                    1\n",
       "4 -9223121837663643404 -7423191370472335463                    8"
      ]
     },
     "execution_count": 40,
     "metadata": {},
     "output_type": "execute_result"
    }
   ],
   "source": [
    "df.head()"
   ]
  },
  {
   "cell_type": "code",
   "execution_count": 41,
   "metadata": {},
   "outputs": [
    {
     "data": {
      "text/html": [
       "<div>\n",
       "<style scoped>\n",
       "    .dataframe tbody tr th:only-of-type {\n",
       "        vertical-align: middle;\n",
       "    }\n",
       "\n",
       "    .dataframe tbody tr th {\n",
       "        vertical-align: top;\n",
       "    }\n",
       "\n",
       "    .dataframe thead th {\n",
       "        text-align: right;\n",
       "    }\n",
       "</style>\n",
       "<table border=\"1\" class=\"dataframe\">\n",
       "  <thead>\n",
       "    <tr style=\"text-align: right;\">\n",
       "      <th></th>\n",
       "      <th>personId</th>\n",
       "      <th>contentId</th>\n",
       "      <th>event_type_strength</th>\n",
       "    </tr>\n",
       "  </thead>\n",
       "  <tbody>\n",
       "    <tr>\n",
       "      <td>4</td>\n",
       "      <td>-9223121837663643404</td>\n",
       "      <td>-7423191370472335463</td>\n",
       "      <td>8</td>\n",
       "    </tr>\n",
       "    <tr>\n",
       "      <td>40</td>\n",
       "      <td>-9223121837663643404</td>\n",
       "      <td>8302949268716967655</td>\n",
       "      <td>4</td>\n",
       "    </tr>\n",
       "    <tr>\n",
       "      <td>22</td>\n",
       "      <td>-9223121837663643404</td>\n",
       "      <td>-447851796385928420</td>\n",
       "      <td>3</td>\n",
       "    </tr>\n",
       "    <tr>\n",
       "      <td>21</td>\n",
       "      <td>-9223121837663643404</td>\n",
       "      <td>-559964548932224920</td>\n",
       "      <td>2</td>\n",
       "    </tr>\n",
       "    <tr>\n",
       "      <td>10</td>\n",
       "      <td>-9223121837663643404</td>\n",
       "      <td>-6545872007932025533</td>\n",
       "      <td>2</td>\n",
       "    </tr>\n",
       "  </tbody>\n",
       "</table>\n",
       "</div>"
      ],
      "text/plain": [
       "               personId            contentId  event_type_strength\n",
       "4  -9223121837663643404 -7423191370472335463                    8\n",
       "40 -9223121837663643404  8302949268716967655                    4\n",
       "22 -9223121837663643404  -447851796385928420                    3\n",
       "21 -9223121837663643404  -559964548932224920                    2\n",
       "10 -9223121837663643404 -6545872007932025533                    2"
      ]
     },
     "execution_count": 41,
     "metadata": {},
     "output_type": "execute_result"
    }
   ],
   "source": [
    "df.sort_values(by='event_type_strength',ascending=False)[:5]"
   ]
  },
  {
   "cell_type": "code",
   "execution_count": 42,
   "metadata": {},
   "outputs": [],
   "source": [
    "### Based on this data we wil do content based filtering "
   ]
  },
  {
   "cell_type": "code",
   "execution_count": 43,
   "metadata": {},
   "outputs": [],
   "source": [
    "# We will use cosine similarity here\n",
    "class ContentBasesdRecommenderSystem:\n",
    "    pass"
   ]
  },
  {
   "cell_type": "code",
   "execution_count": 44,
   "metadata": {},
   "outputs": [],
   "source": [
    "class CollaborativeRecommenderSystem:\n",
    "    pass"
   ]
  },
  {
   "cell_type": "code",
   "execution_count": null,
   "metadata": {},
   "outputs": [],
   "source": []
  }
 ],
 "metadata": {
  "kernelspec": {
   "display_name": "Python 3",
   "language": "python",
   "name": "python3"
  },
  "language_info": {
   "codemirror_mode": {
    "name": "ipython",
    "version": 3
   },
   "file_extension": ".py",
   "mimetype": "text/x-python",
   "name": "python",
   "nbconvert_exporter": "python",
   "pygments_lexer": "ipython3",
   "version": "3.7.4"
  },
  "varInspector": {
   "cols": {
    "lenName": 16,
    "lenType": 16,
    "lenVar": 40
   },
   "kernels_config": {
    "python": {
     "delete_cmd_postfix": "",
     "delete_cmd_prefix": "del ",
     "library": "var_list.py",
     "varRefreshCmd": "print(var_dic_list())"
    },
    "r": {
     "delete_cmd_postfix": ") ",
     "delete_cmd_prefix": "rm(",
     "library": "var_list.r",
     "varRefreshCmd": "cat(var_dic_list()) "
    }
   },
   "types_to_exclude": [
    "module",
    "function",
    "builtin_function_or_method",
    "instance",
    "_Feature"
   ],
   "window_display": false
  }
 },
 "nbformat": 4,
 "nbformat_minor": 2
}
