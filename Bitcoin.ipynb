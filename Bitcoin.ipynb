{
  "nbformat": 4,
  "nbformat_minor": 0,
  "metadata": {
    "colab": {
      "name": "Linear Regression.ipynb",
      "provenance": [],
      "collapsed_sections": []
    },
    "kernelspec": {
      "name": "python3",
      "display_name": "Python 3"
    },
    "language_info": {
      "name": "python"
    }
  },
  "cells": [
    {
      "cell_type": "code",
      "metadata": {
        "id": "oCPqzR6KqFRN"
      },
      "source": [
        "!pip install pyspark\n",
        "!pip install elephas"
      ],
      "execution_count": null,
      "outputs": []
    },
    {
      "cell_type": "code",
      "metadata": {
        "id": "jiCLGkDGp1Tk"
      },
      "source": [
        "import warnings\n",
        "warnings.filterwarnings('ignore')\n",
        "import pandas as pd\n",
        "import pyspark as spark\n",
        "import matplotlib.pyplot as plt\n",
        "import numpy as np\n",
        "from sklearn.metrics import mean_squared_error\n",
        "from pyspark import SparkContext\n",
        "sc = SparkContext()\n",
        "sql = spark.SQLContext(sc)\n",
        "from pyspark.sql.types import *\n",
        "from sklearn.preprocessing import MinMaxScaler\n",
        "from elephas.utils.rdd_utils import to_simple_rdd"
      ],
      "execution_count": 3,
      "outputs": []
    },
    {
      "cell_type": "code",
      "metadata": {
        "id": "PVe6bfqWqNpI"
      },
      "source": [
        "def series_to_supervised(data, n_in=1, n_out=1, dropnan=True):\n",
        "    n_vars = 1 if type(data) is list else data.shape[1]\n",
        "    df = pd.DataFrame(data)\n",
        "\n",
        "    cols, names = list(), list()\n",
        "    # input sequence (t-n, ... t-1)\n",
        "    for i in range(n_in, 0, -1):\n",
        "        cols.append(df.shift(i))\n",
        "        names += [('var%d(t-%d)' % (j+1, i)) for j in range(n_vars)]\n",
        "    # forecast sequence (t, t+1, ... t+n)\n",
        "    for i in range(0, n_out):\n",
        "        cols.append(df.shift(-i))\n",
        "        if i == 0:\n",
        "            names += [('var%d(t)' % (j+1)) for j in range(n_vars)]\n",
        "        else:\n",
        "            names += [('var%d(t+%d)' % (j+1, i)) for j in range(n_vars)]\n",
        "    # put it all together\n",
        "    agg = pd.concat(cols, axis=1)\n",
        "    agg.columns = names\n",
        "    # drop rows with NaN values\n",
        "    if dropnan:\n",
        "        agg.dropna(inplace=True)\n",
        "    return agg"
      ],
      "execution_count": 4,
      "outputs": []
    },
    {
      "cell_type": "code",
      "metadata": {
        "colab": {
          "base_uri": "https://localhost:8080/",
          "height": 235
        },
        "id": "Og7iWvTHtp-9",
        "outputId": "d7a74ec3-a684-4440-ef69-7b31fd016877"
      },
      "source": [
        "df = pd.read_csv(\"final_12m_18j.csv\",parse_dates=True,index_col=\"Datetime\")\n",
        "df.columns = ['Negative','Neutral','Positive','Compound','Price']\n",
        "df.head()"
      ],
      "execution_count": 5,
      "outputs": [
        {
          "output_type": "execute_result",
          "data": {
            "text/html": [
              "<div>\n",
              "<style scoped>\n",
              "    .dataframe tbody tr th:only-of-type {\n",
              "        vertical-align: middle;\n",
              "    }\n",
              "\n",
              "    .dataframe tbody tr th {\n",
              "        vertical-align: top;\n",
              "    }\n",
              "\n",
              "    .dataframe thead th {\n",
              "        text-align: right;\n",
              "    }\n",
              "</style>\n",
              "<table border=\"1\" class=\"dataframe\">\n",
              "  <thead>\n",
              "    <tr style=\"text-align: right;\">\n",
              "      <th></th>\n",
              "      <th>Negative</th>\n",
              "      <th>Neutral</th>\n",
              "      <th>Positive</th>\n",
              "      <th>Compound</th>\n",
              "      <th>Price</th>\n",
              "    </tr>\n",
              "    <tr>\n",
              "      <th>Datetime</th>\n",
              "      <th></th>\n",
              "      <th></th>\n",
              "      <th></th>\n",
              "      <th></th>\n",
              "      <th></th>\n",
              "    </tr>\n",
              "  </thead>\n",
              "  <tbody>\n",
              "    <tr>\n",
              "      <th>2021-05-11 16:00:00</th>\n",
              "      <td>0.034933</td>\n",
              "      <td>0.896525</td>\n",
              "      <td>0.068540</td>\n",
              "      <td>0.078395</td>\n",
              "      <td>4051.436523</td>\n",
              "    </tr>\n",
              "    <tr>\n",
              "      <th>2021-05-11 16:15:00</th>\n",
              "      <td>0.035318</td>\n",
              "      <td>0.891431</td>\n",
              "      <td>0.073250</td>\n",
              "      <td>0.091189</td>\n",
              "      <td>4052.093994</td>\n",
              "    </tr>\n",
              "    <tr>\n",
              "      <th>2021-05-11 16:30:00</th>\n",
              "      <td>0.031698</td>\n",
              "      <td>0.900070</td>\n",
              "      <td>0.068225</td>\n",
              "      <td>0.087727</td>\n",
              "      <td>4025.809326</td>\n",
              "    </tr>\n",
              "    <tr>\n",
              "      <th>2021-05-11 16:45:00</th>\n",
              "      <td>0.025198</td>\n",
              "      <td>0.908028</td>\n",
              "      <td>0.066769</td>\n",
              "      <td>0.098010</td>\n",
              "      <td>4012.297852</td>\n",
              "    </tr>\n",
              "    <tr>\n",
              "      <th>2021-05-11 17:00:00</th>\n",
              "      <td>0.033684</td>\n",
              "      <td>0.896645</td>\n",
              "      <td>0.069674</td>\n",
              "      <td>0.086334</td>\n",
              "      <td>4023.643311</td>\n",
              "    </tr>\n",
              "  </tbody>\n",
              "</table>\n",
              "</div>"
            ],
            "text/plain": [
              "                     Negative   Neutral  Positive  Compound        Price\n",
              "Datetime                                                                \n",
              "2021-05-11 16:00:00  0.034933  0.896525  0.068540  0.078395  4051.436523\n",
              "2021-05-11 16:15:00  0.035318  0.891431  0.073250  0.091189  4052.093994\n",
              "2021-05-11 16:30:00  0.031698  0.900070  0.068225  0.087727  4025.809326\n",
              "2021-05-11 16:45:00  0.025198  0.908028  0.066769  0.098010  4012.297852\n",
              "2021-05-11 17:00:00  0.033684  0.896645  0.069674  0.086334  4023.643311"
            ]
          },
          "metadata": {
            "tags": []
          },
          "execution_count": 5
        }
      ]
    },
    {
      "cell_type": "code",
      "metadata": {
        "colab": {
          "base_uri": "https://localhost:8080/",
          "height": 235
        },
        "id": "VSUMqs88l4DH",
        "outputId": "c6e60382-9add-4b71-bfc6-4fbec1ca7499"
      },
      "source": [
        "# df.set_index('DateTime',inplace=True)  #making DateTime as index. Because we are doing Time series Analysis\n",
        "cols = df.columns.tolist()\n",
        "cols = cols[-1:] + cols[:-1]   #just making the price as the first column\n",
        "df = df[cols]\n",
        "df.head()"
      ],
      "execution_count": 6,
      "outputs": [
        {
          "output_type": "execute_result",
          "data": {
            "text/html": [
              "<div>\n",
              "<style scoped>\n",
              "    .dataframe tbody tr th:only-of-type {\n",
              "        vertical-align: middle;\n",
              "    }\n",
              "\n",
              "    .dataframe tbody tr th {\n",
              "        vertical-align: top;\n",
              "    }\n",
              "\n",
              "    .dataframe thead th {\n",
              "        text-align: right;\n",
              "    }\n",
              "</style>\n",
              "<table border=\"1\" class=\"dataframe\">\n",
              "  <thead>\n",
              "    <tr style=\"text-align: right;\">\n",
              "      <th></th>\n",
              "      <th>Price</th>\n",
              "      <th>Negative</th>\n",
              "      <th>Neutral</th>\n",
              "      <th>Positive</th>\n",
              "      <th>Compound</th>\n",
              "    </tr>\n",
              "    <tr>\n",
              "      <th>Datetime</th>\n",
              "      <th></th>\n",
              "      <th></th>\n",
              "      <th></th>\n",
              "      <th></th>\n",
              "      <th></th>\n",
              "    </tr>\n",
              "  </thead>\n",
              "  <tbody>\n",
              "    <tr>\n",
              "      <th>2021-05-11 16:00:00</th>\n",
              "      <td>4051.436523</td>\n",
              "      <td>0.034933</td>\n",
              "      <td>0.896525</td>\n",
              "      <td>0.068540</td>\n",
              "      <td>0.078395</td>\n",
              "    </tr>\n",
              "    <tr>\n",
              "      <th>2021-05-11 16:15:00</th>\n",
              "      <td>4052.093994</td>\n",
              "      <td>0.035318</td>\n",
              "      <td>0.891431</td>\n",
              "      <td>0.073250</td>\n",
              "      <td>0.091189</td>\n",
              "    </tr>\n",
              "    <tr>\n",
              "      <th>2021-05-11 16:30:00</th>\n",
              "      <td>4025.809326</td>\n",
              "      <td>0.031698</td>\n",
              "      <td>0.900070</td>\n",
              "      <td>0.068225</td>\n",
              "      <td>0.087727</td>\n",
              "    </tr>\n",
              "    <tr>\n",
              "      <th>2021-05-11 16:45:00</th>\n",
              "      <td>4012.297852</td>\n",
              "      <td>0.025198</td>\n",
              "      <td>0.908028</td>\n",
              "      <td>0.066769</td>\n",
              "      <td>0.098010</td>\n",
              "    </tr>\n",
              "    <tr>\n",
              "      <th>2021-05-11 17:00:00</th>\n",
              "      <td>4023.643311</td>\n",
              "      <td>0.033684</td>\n",
              "      <td>0.896645</td>\n",
              "      <td>0.069674</td>\n",
              "      <td>0.086334</td>\n",
              "    </tr>\n",
              "  </tbody>\n",
              "</table>\n",
              "</div>"
            ],
            "text/plain": [
              "                           Price  Negative   Neutral  Positive  Compound\n",
              "Datetime                                                                \n",
              "2021-05-11 16:00:00  4051.436523  0.034933  0.896525  0.068540  0.078395\n",
              "2021-05-11 16:15:00  4052.093994  0.035318  0.891431  0.073250  0.091189\n",
              "2021-05-11 16:30:00  4025.809326  0.031698  0.900070  0.068225  0.087727\n",
              "2021-05-11 16:45:00  4012.297852  0.025198  0.908028  0.066769  0.098010\n",
              "2021-05-11 17:00:00  4023.643311  0.033684  0.896645  0.069674  0.086334"
            ]
          },
          "metadata": {
            "tags": []
          },
          "execution_count": 6
        }
      ]
    },
    {
      "cell_type": "code",
      "metadata": {
        "colab": {
          "base_uri": "https://localhost:8080/",
          "height": 265
        },
        "id": "1fg_6Thyt4o3",
        "outputId": "61ea028c-13f9-41a1-a098-a06bc14b4cd5"
      },
      "source": [
        "values = df.values\n",
        "# specify columns to plot\n",
        "groups = [1,2,3,4]\n",
        "i = 1\n",
        "# plot each column\n",
        "plt.figure()\n",
        "for group in groups:\n",
        "    plt.subplot(len(groups), 1, i)\n",
        "    plt.plot(values[:, group])\n",
        "    plt.title(df.columns[group], y=0.5, loc='right')\n",
        "    i += 1\n",
        "plt.show()"
      ],
      "execution_count": 7,
      "outputs": [
        {
          "output_type": "display_data",
          "data": {
            "image/png": "[encoded data removed]",
            "text/plain": [
              "<Figure size 432x288 with 4 Axes>"
            ]
          },
          "metadata": {
            "tags": [],
            "needs_background": "light"
          }
        }
      ]
    },
    {
      "cell_type": "code",
      "metadata": {
        "colab": {
          "base_uri": "https://localhost:8080/",
          "height": 241
        },
        "id": "r1NJ_8oOt8DH",
        "outputId": "457d130f-d1cb-49da-c442-f571a13958b3"
      },
      "source": [
        "scaler = MinMaxScaler(feature_range=(0, 1)) #scaling values from 0 to 1\n",
        "scaled = scaler.fit_transform(df.values)\n",
        "\n",
        "n_hours = 3\n",
        "n_features = 5              \n",
        "n_obs = n_hours*n_features\n",
        "\n",
        "reframed = series_to_supervised(scaled, n_hours, 1)  #t-3,t-2,t-1 values of all the columns. you can change n_hours for this\n",
        "reframed.head()"
      ],
      "execution_count": 8,
      "outputs": [
        {
          "output_type": "execute_result",
          "data": {
            "text/html": [
              "<div>\n",
              "<style scoped>\n",
              "    .dataframe tbody tr th:only-of-type {\n",
              "        vertical-align: middle;\n",
              "    }\n",
              "\n",
              "    .dataframe tbody tr th {\n",
              "        vertical-align: top;\n",
              "    }\n",
              "\n",
              "    .dataframe thead th {\n",
              "        text-align: right;\n",
              "    }\n",
              "</style>\n",
              "<table border=\"1\" class=\"dataframe\">\n",
              "  <thead>\n",
              "    <tr style=\"text-align: right;\">\n",
              "      <th></th>\n",
              "      <th>var1(t-3)</th>\n",
              "      <th>var2(t-3)</th>\n",
              "      <th>var3(t-3)</th>\n",
              "      <th>var4(t-3)</th>\n",
              "      <th>var5(t-3)</th>\n",
              "      <th>var1(t-2)</th>\n",
              "      <th>var2(t-2)</th>\n",
              "      <th>var3(t-2)</th>\n",
              "      <th>var4(t-2)</th>\n",
              "      <th>var5(t-2)</th>\n",
              "      <th>var1(t-1)</th>\n",
              "      <th>var2(t-1)</th>\n",
              "      <th>var3(t-1)</th>\n",
              "      <th>var4(t-1)</th>\n",
              "      <th>var5(t-1)</th>\n",
              "      <th>var1(t)</th>\n",
              "      <th>var2(t)</th>\n",
              "      <th>var3(t)</th>\n",
              "      <th>var4(t)</th>\n",
              "      <th>var5(t)</th>\n",
              "    </tr>\n",
              "  </thead>\n",
              "  <tbody>\n",
              "    <tr>\n",
              "      <th>3</th>\n",
              "      <td>0.928272</td>\n",
              "      <td>0.349900</td>\n",
              "      <td>0.737697</td>\n",
              "      <td>0.148161</td>\n",
              "      <td>0.240381</td>\n",
              "      <td>0.928536</td>\n",
              "      <td>0.358200</td>\n",
              "      <td>0.681606</td>\n",
              "      <td>0.197597</td>\n",
              "      <td>0.275955</td>\n",
              "      <td>0.917988</td>\n",
              "      <td>0.280050</td>\n",
              "      <td>0.776726</td>\n",
              "      <td>0.144849</td>\n",
              "      <td>0.266328</td>\n",
              "      <td>0.912567</td>\n",
              "      <td>0.139735</td>\n",
              "      <td>0.864348</td>\n",
              "      <td>0.129567</td>\n",
              "      <td>0.294918</td>\n",
              "    </tr>\n",
              "    <tr>\n",
              "      <th>4</th>\n",
              "      <td>0.928536</td>\n",
              "      <td>0.358200</td>\n",
              "      <td>0.681606</td>\n",
              "      <td>0.197597</td>\n",
              "      <td>0.275955</td>\n",
              "      <td>0.917988</td>\n",
              "      <td>0.280050</td>\n",
              "      <td>0.776726</td>\n",
              "      <td>0.144849</td>\n",
              "      <td>0.266328</td>\n",
              "      <td>0.912567</td>\n",
              "      <td>0.139735</td>\n",
              "      <td>0.864348</td>\n",
              "      <td>0.129567</td>\n",
              "      <td>0.294918</td>\n",
              "      <td>0.917119</td>\n",
              "      <td>0.322923</td>\n",
              "      <td>0.739008</td>\n",
              "      <td>0.160065</td>\n",
              "      <td>0.262453</td>\n",
              "    </tr>\n",
              "    <tr>\n",
              "      <th>5</th>\n",
              "      <td>0.917988</td>\n",
              "      <td>0.280050</td>\n",
              "      <td>0.776726</td>\n",
              "      <td>0.144849</td>\n",
              "      <td>0.266328</td>\n",
              "      <td>0.912567</td>\n",
              "      <td>0.139735</td>\n",
              "      <td>0.864348</td>\n",
              "      <td>0.129567</td>\n",
              "      <td>0.294918</td>\n",
              "      <td>0.917119</td>\n",
              "      <td>0.322923</td>\n",
              "      <td>0.739008</td>\n",
              "      <td>0.160065</td>\n",
              "      <td>0.262453</td>\n",
              "      <td>0.920237</td>\n",
              "      <td>0.248839</td>\n",
              "      <td>0.784176</td>\n",
              "      <td>0.152988</td>\n",
              "      <td>0.282990</td>\n",
              "    </tr>\n",
              "    <tr>\n",
              "      <th>6</th>\n",
              "      <td>0.912567</td>\n",
              "      <td>0.139735</td>\n",
              "      <td>0.864348</td>\n",
              "      <td>0.129567</td>\n",
              "      <td>0.294918</td>\n",
              "      <td>0.917119</td>\n",
              "      <td>0.322923</td>\n",
              "      <td>0.739008</td>\n",
              "      <td>0.160065</td>\n",
              "      <td>0.262453</td>\n",
              "      <td>0.920237</td>\n",
              "      <td>0.248839</td>\n",
              "      <td>0.784176</td>\n",
              "      <td>0.152988</td>\n",
              "      <td>0.282990</td>\n",
              "      <td>0.922674</td>\n",
              "      <td>0.181679</td>\n",
              "      <td>0.820174</td>\n",
              "      <td>0.151382</td>\n",
              "      <td>0.321452</td>\n",
              "    </tr>\n",
              "    <tr>\n",
              "      <th>7</th>\n",
              "      <td>0.917119</td>\n",
              "      <td>0.322923</td>\n",
              "      <td>0.739008</td>\n",
              "      <td>0.160065</td>\n",
              "      <td>0.262453</td>\n",
              "      <td>0.920237</td>\n",
              "      <td>0.248839</td>\n",
              "      <td>0.784176</td>\n",
              "      <td>0.152988</td>\n",
              "      <td>0.282990</td>\n",
              "      <td>0.922674</td>\n",
              "      <td>0.181679</td>\n",
              "      <td>0.820174</td>\n",
              "      <td>0.151382</td>\n",
              "      <td>0.321452</td>\n",
              "      <td>0.923789</td>\n",
              "      <td>0.141323</td>\n",
              "      <td>0.812793</td>\n",
              "      <td>0.177970</td>\n",
              "      <td>0.327153</td>\n",
              "    </tr>\n",
              "  </tbody>\n",
              "</table>\n",
              "</div>"
            ],
            "text/plain": [
              "   var1(t-3)  var2(t-3)  var3(t-3)  ...   var3(t)   var4(t)   var5(t)\n",
              "3   0.928272   0.349900   0.737697  ...  0.864348  0.129567  0.294918\n",
              "4   0.928536   0.358200   0.681606  ...  0.739008  0.160065  0.262453\n",
              "5   0.917988   0.280050   0.776726  ...  0.784176  0.152988  0.282990\n",
              "6   0.912567   0.139735   0.864348  ...  0.820174  0.151382  0.321452\n",
              "7   0.917119   0.322923   0.739008  ...  0.812793  0.177970  0.327153\n",
              "\n",
              "[5 rows x 20 columns]"
            ]
          },
          "metadata": {
            "tags": []
          },
          "execution_count": 8
        }
      ]
    },
    {
      "cell_type": "code",
      "metadata": {
        "colab": {
          "base_uri": "https://localhost:8080/",
          "height": 221
        },
        "id": "HXlJKQZCuAzO",
        "outputId": "b0252c07-7d66-4857-eb43-3a5a98d7a0ec"
      },
      "source": [
        "reframed = reframed.drop(reframed.columns[-4:], axis=1)  #dropping all the present values except present price\n",
        "reframed.head()  #Note: here last column is present price which is our target variable"
      ],
      "execution_count": 9,
      "outputs": [
        {
          "output_type": "execute_result",
          "data": {
            "text/html": [
              "<div>\n",
              "<style scoped>\n",
              "    .dataframe tbody tr th:only-of-type {\n",
              "        vertical-align: middle;\n",
              "    }\n",
              "\n",
              "    .dataframe tbody tr th {\n",
              "        vertical-align: top;\n",
              "    }\n",
              "\n",
              "    .dataframe thead th {\n",
              "        text-align: right;\n",
              "    }\n",
              "</style>\n",
              "<table border=\"1\" class=\"dataframe\">\n",
              "  <thead>\n",
              "    <tr style=\"text-align: right;\">\n",
              "      <th></th>\n",
              "      <th>var1(t-3)</th>\n",
              "      <th>var2(t-3)</th>\n",
              "      <th>var3(t-3)</th>\n",
              "      <th>var4(t-3)</th>\n",
              "      <th>var5(t-3)</th>\n",
              "      <th>var1(t-2)</th>\n",
              "      <th>var2(t-2)</th>\n",
              "      <th>var3(t-2)</th>\n",
              "      <th>var4(t-2)</th>\n",
              "      <th>var5(t-2)</th>\n",
              "      <th>var1(t-1)</th>\n",
              "      <th>var2(t-1)</th>\n",
              "      <th>var3(t-1)</th>\n",
              "      <th>var4(t-1)</th>\n",
              "      <th>var5(t-1)</th>\n",
              "      <th>var1(t)</th>\n",
              "    </tr>\n",
              "  </thead>\n",
              "  <tbody>\n",
              "    <tr>\n",
              "      <th>3</th>\n",
              "      <td>0.928272</td>\n",
              "      <td>0.349900</td>\n",
              "      <td>0.737697</td>\n",
              "      <td>0.148161</td>\n",
              "      <td>0.240381</td>\n",
              "      <td>0.928536</td>\n",
              "      <td>0.358200</td>\n",
              "      <td>0.681606</td>\n",
              "      <td>0.197597</td>\n",
              "      <td>0.275955</td>\n",
              "      <td>0.917988</td>\n",
              "      <td>0.280050</td>\n",
              "      <td>0.776726</td>\n",
              "      <td>0.144849</td>\n",
              "      <td>0.266328</td>\n",
              "      <td>0.912567</td>\n",
              "    </tr>\n",
              "    <tr>\n",
              "      <th>4</th>\n",
              "      <td>0.928536</td>\n",
              "      <td>0.358200</td>\n",
              "      <td>0.681606</td>\n",
              "      <td>0.197597</td>\n",
              "      <td>0.275955</td>\n",
              "      <td>0.917988</td>\n",
              "      <td>0.280050</td>\n",
              "      <td>0.776726</td>\n",
              "      <td>0.144849</td>\n",
              "      <td>0.266328</td>\n",
              "      <td>0.912567</td>\n",
              "      <td>0.139735</td>\n",
              "      <td>0.864348</td>\n",
              "      <td>0.129567</td>\n",
              "      <td>0.294918</td>\n",
              "      <td>0.917119</td>\n",
              "    </tr>\n",
              "    <tr>\n",
              "      <th>5</th>\n",
              "      <td>0.917988</td>\n",
              "      <td>0.280050</td>\n",
              "      <td>0.776726</td>\n",
              "      <td>0.144849</td>\n",
              "      <td>0.266328</td>\n",
              "      <td>0.912567</td>\n",
              "      <td>0.139735</td>\n",
              "      <td>0.864348</td>\n",
              "      <td>0.129567</td>\n",
              "      <td>0.294918</td>\n",
              "      <td>0.917119</td>\n",
              "      <td>0.322923</td>\n",
              "      <td>0.739008</td>\n",
              "      <td>0.160065</td>\n",
              "      <td>0.262453</td>\n",
              "      <td>0.920237</td>\n",
              "    </tr>\n",
              "    <tr>\n",
              "      <th>6</th>\n",
              "      <td>0.912567</td>\n",
              "      <td>0.139735</td>\n",
              "      <td>0.864348</td>\n",
              "      <td>0.129567</td>\n",
              "      <td>0.294918</td>\n",
              "      <td>0.917119</td>\n",
              "      <td>0.322923</td>\n",
              "      <td>0.739008</td>\n",
              "      <td>0.160065</td>\n",
              "      <td>0.262453</td>\n",
              "      <td>0.920237</td>\n",
              "      <td>0.248839</td>\n",
              "      <td>0.784176</td>\n",
              "      <td>0.152988</td>\n",
              "      <td>0.282990</td>\n",
              "      <td>0.922674</td>\n",
              "    </tr>\n",
              "    <tr>\n",
              "      <th>7</th>\n",
              "      <td>0.917119</td>\n",
              "      <td>0.322923</td>\n",
              "      <td>0.739008</td>\n",
              "      <td>0.160065</td>\n",
              "      <td>0.262453</td>\n",
              "      <td>0.920237</td>\n",
              "      <td>0.248839</td>\n",
              "      <td>0.784176</td>\n",
              "      <td>0.152988</td>\n",
              "      <td>0.282990</td>\n",
              "      <td>0.922674</td>\n",
              "      <td>0.181679</td>\n",
              "      <td>0.820174</td>\n",
              "      <td>0.151382</td>\n",
              "      <td>0.321452</td>\n",
              "      <td>0.923789</td>\n",
              "    </tr>\n",
              "  </tbody>\n",
              "</table>\n",
              "</div>"
            ],
            "text/plain": [
              "   var1(t-3)  var2(t-3)  var3(t-3)  ...  var4(t-1)  var5(t-1)   var1(t)\n",
              "3   0.928272   0.349900   0.737697  ...   0.144849   0.266328  0.912567\n",
              "4   0.928536   0.358200   0.681606  ...   0.129567   0.294918  0.917119\n",
              "5   0.917988   0.280050   0.776726  ...   0.160065   0.262453  0.920237\n",
              "6   0.912567   0.139735   0.864348  ...   0.152988   0.282990  0.922674\n",
              "7   0.917119   0.322923   0.739008  ...   0.151382   0.321452  0.923789\n",
              "\n",
              "[5 rows x 16 columns]"
            ]
          },
          "metadata": {
            "tags": []
          },
          "execution_count": 9
        }
      ]
    },
    {
      "cell_type": "code",
      "metadata": {
        "colab": {
          "base_uri": "https://localhost:8080/",
          "height": 221
        },
        "id": "K2ArqJRluDdh",
        "outputId": "3eaec562-df0a-4142-815a-b880843ccabf"
      },
      "source": [
        "cols = reframed.columns.tolist()\n",
        "cols = cols[-1:] + cols[:-1]   #just making the price as the first column\n",
        "reframed = reframed[cols]\n",
        "reframed.head()"
      ],
      "execution_count": 10,
      "outputs": [
        {
          "output_type": "execute_result",
          "data": {
            "text/html": [
              "<div>\n",
              "<style scoped>\n",
              "    .dataframe tbody tr th:only-of-type {\n",
              "        vertical-align: middle;\n",
              "    }\n",
              "\n",
              "    .dataframe tbody tr th {\n",
              "        vertical-align: top;\n",
              "    }\n",
              "\n",
              "    .dataframe thead th {\n",
              "        text-align: right;\n",
              "    }\n",
              "</style>\n",
              "<table border=\"1\" class=\"dataframe\">\n",
              "  <thead>\n",
              "    <tr style=\"text-align: right;\">\n",
              "      <th></th>\n",
              "      <th>var1(t)</th>\n",
              "      <th>var1(t-3)</th>\n",
              "      <th>var2(t-3)</th>\n",
              "      <th>var3(t-3)</th>\n",
              "      <th>var4(t-3)</th>\n",
              "      <th>var5(t-3)</th>\n",
              "      <th>var1(t-2)</th>\n",
              "      <th>var2(t-2)</th>\n",
              "      <th>var3(t-2)</th>\n",
              "      <th>var4(t-2)</th>\n",
              "      <th>var5(t-2)</th>\n",
              "      <th>var1(t-1)</th>\n",
              "      <th>var2(t-1)</th>\n",
              "      <th>var3(t-1)</th>\n",
              "      <th>var4(t-1)</th>\n",
              "      <th>var5(t-1)</th>\n",
              "    </tr>\n",
              "  </thead>\n",
              "  <tbody>\n",
              "    <tr>\n",
              "      <th>3</th>\n",
              "      <td>0.912567</td>\n",
              "      <td>0.928272</td>\n",
              "      <td>0.349900</td>\n",
              "      <td>0.737697</td>\n",
              "      <td>0.148161</td>\n",
              "      <td>0.240381</td>\n",
              "      <td>0.928536</td>\n",
              "      <td>0.358200</td>\n",
              "      <td>0.681606</td>\n",
              "      <td>0.197597</td>\n",
              "      <td>0.275955</td>\n",
              "      <td>0.917988</td>\n",
              "      <td>0.280050</td>\n",
              "      <td>0.776726</td>\n",
              "      <td>0.144849</td>\n",
              "      <td>0.266328</td>\n",
              "    </tr>\n",
              "    <tr>\n",
              "      <th>4</th>\n",
              "      <td>0.917119</td>\n",
              "      <td>0.928536</td>\n",
              "      <td>0.358200</td>\n",
              "      <td>0.681606</td>\n",
              "      <td>0.197597</td>\n",
              "      <td>0.275955</td>\n",
              "      <td>0.917988</td>\n",
              "      <td>0.280050</td>\n",
              "      <td>0.776726</td>\n",
              "      <td>0.144849</td>\n",
              "      <td>0.266328</td>\n",
              "      <td>0.912567</td>\n",
              "      <td>0.139735</td>\n",
              "      <td>0.864348</td>\n",
              "      <td>0.129567</td>\n",
              "      <td>0.294918</td>\n",
              "    </tr>\n",
              "    <tr>\n",
              "      <th>5</th>\n",
              "      <td>0.920237</td>\n",
              "      <td>0.917988</td>\n",
              "      <td>0.280050</td>\n",
              "      <td>0.776726</td>\n",
              "      <td>0.144849</td>\n",
              "      <td>0.266328</td>\n",
              "      <td>0.912567</td>\n",
              "      <td>0.139735</td>\n",
              "      <td>0.864348</td>\n",
              "      <td>0.129567</td>\n",
              "      <td>0.294918</td>\n",
              "      <td>0.917119</td>\n",
              "      <td>0.322923</td>\n",
              "      <td>0.739008</td>\n",
              "      <td>0.160065</td>\n",
              "      <td>0.262453</td>\n",
              "    </tr>\n",
              "    <tr>\n",
              "      <th>6</th>\n",
              "      <td>0.922674</td>\n",
              "      <td>0.912567</td>\n",
              "      <td>0.139735</td>\n",
              "      <td>0.864348</td>\n",
              "      <td>0.129567</td>\n",
              "      <td>0.294918</td>\n",
              "      <td>0.917119</td>\n",
              "      <td>0.322923</td>\n",
              "      <td>0.739008</td>\n",
              "      <td>0.160065</td>\n",
              "      <td>0.262453</td>\n",
              "      <td>0.920237</td>\n",
              "      <td>0.248839</td>\n",
              "      <td>0.784176</td>\n",
              "      <td>0.152988</td>\n",
              "      <td>0.282990</td>\n",
              "    </tr>\n",
              "    <tr>\n",
              "      <th>7</th>\n",
              "      <td>0.923789</td>\n",
              "      <td>0.917119</td>\n",
              "      <td>0.322923</td>\n",
              "      <td>0.739008</td>\n",
              "      <td>0.160065</td>\n",
              "      <td>0.262453</td>\n",
              "      <td>0.920237</td>\n",
              "      <td>0.248839</td>\n",
              "      <td>0.784176</td>\n",
              "      <td>0.152988</td>\n",
              "      <td>0.282990</td>\n",
              "      <td>0.922674</td>\n",
              "      <td>0.181679</td>\n",
              "      <td>0.820174</td>\n",
              "      <td>0.151382</td>\n",
              "      <td>0.321452</td>\n",
              "    </tr>\n",
              "  </tbody>\n",
              "</table>\n",
              "</div>"
            ],
            "text/plain": [
              "    var1(t)  var1(t-3)  var2(t-3)  ...  var3(t-1)  var4(t-1)  var5(t-1)\n",
              "3  0.912567   0.928272   0.349900  ...   0.776726   0.144849   0.266328\n",
              "4  0.917119   0.928536   0.358200  ...   0.864348   0.129567   0.294918\n",
              "5  0.920237   0.917988   0.280050  ...   0.739008   0.160065   0.262453\n",
              "6  0.922674   0.912567   0.139735  ...   0.784176   0.152988   0.282990\n",
              "7  0.923789   0.917119   0.322923  ...   0.820174   0.151382   0.321452\n",
              "\n",
              "[5 rows x 16 columns]"
            ]
          },
          "metadata": {
            "tags": []
          },
          "execution_count": 10
        }
      ]
    },
    {
      "cell_type": "code",
      "metadata": {
        "colab": {
          "base_uri": "https://localhost:8080/"
        },
        "id": "9zRwUiseuFjq",
        "outputId": "cc8c9bdd-1d54-4960-8c21-8a9d34476f9b"
      },
      "source": [
        "from pyspark.ml.linalg import Vectors\n",
        "reg_DF =sql.createDataFrame(reframed)\n",
        "ad_df = reg_DF.rdd.map(lambda x: [Vectors.dense(x[1:]), x[0]]).toDF(['features', 'label'])\n",
        "ad_df.show(5)"
      ],
      "execution_count": 11,
      "outputs": [
        {
          "output_type": "stream",
          "text": [
            "+--------------------+------------------+\n",
            "|            features|             label|\n",
            "+--------------------+------------------+\n",
            "|[0.92827176663162...| 0.912566753822456|\n",
            "|[0.92853558730342...| 0.917119299281163|\n",
            "|[0.91798844717123...| 0.920237142703145|\n",
            "|[0.91256675382245...|0.9226744215565215|\n",
            "|[0.91711929928116...|0.9237886786896827|\n",
            "+--------------------+------------------+\n",
            "only showing top 5 rows\n",
            "\n"
          ],
          "name": "stdout"
        }
      ]
    },
    {
      "cell_type": "code",
      "metadata": {
        "id": "zHL74zJvN_l-"
      },
      "source": [
        "from pyspark.ml.regression import RandomForestRegressor"
      ],
      "execution_count": 12,
      "outputs": []
    },
    {
      "cell_type": "code",
      "metadata": {
        "id": "UGJqOAHAOVQf"
      },
      "source": [
        "rf = RandomForestRegressor(featuresCol = 'features', labelCol = 'label')"
      ],
      "execution_count": 13,
      "outputs": []
    },
    {
      "cell_type": "code",
      "metadata": {
        "id": "ba40RHRYOawr"
      },
      "source": [
        "rf = rf.fit(ad_df)"
      ],
      "execution_count": 14,
      "outputs": []
    },
    {
      "cell_type": "code",
      "metadata": {
        "colab": {
          "base_uri": "https://localhost:8080/"
        },
        "id": "AKKNvyE3OkxT",
        "outputId": "6eb6b4af-f96e-44d0-ea8a-f33aa86f6eb7"
      },
      "source": [
        "predictions = rf.transform(ad_df)\n",
        "someDF = predictions.select(\"prediction\", \"label\").show(5)"
      ],
      "execution_count": 15,
      "outputs": [
        {
          "output_type": "stream",
          "text": [
            "+------------------+------------------+\n",
            "|        prediction|             label|\n",
            "+------------------+------------------+\n",
            "|0.9067462897298773| 0.912566753822456|\n",
            "|0.9057720816651493| 0.917119299281163|\n",
            "|0.8859136875513458| 0.920237142703145|\n",
            "|0.9053969882407948|0.9226744215565215|\n",
            "|0.9104648642554002|0.9237886786896827|\n",
            "+------------------+------------------+\n",
            "only showing top 5 rows\n",
            "\n"
          ],
          "name": "stdout"
        }
      ]
    },
    {
      "cell_type": "code",
      "metadata": {
        "id": "S77RudOwubkO"
      },
      "source": [
        "predictions = predictions.toPandas().head()"
      ],
      "execution_count": 16,
      "outputs": []
    },
    {
      "cell_type": "code",
      "metadata": {
        "colab": {
          "base_uri": "https://localhost:8080/"
        },
        "id": "vK7l6ACL5W2d",
        "outputId": "cd167898-0e24-4a2f-d111-ccd74487cca3"
      },
      "source": [
        "print(predictions)"
      ],
      "execution_count": 17,
      "outputs": [
        {
          "output_type": "stream",
          "text": [
            "                                            features     label  prediction\n",
            "0  [0.9282717666316229, 0.3499004392394658, 0.737...  0.912567    0.906746\n",
            "1  [0.9285355873034249, 0.35820035119284765, 0.68...  0.917119    0.905772\n",
            "2  [0.9179884471712343, 0.2800496228620397, 0.776...  0.920237    0.885914\n",
            "3  [0.912566753822456, 0.13973516133606823, 0.864...  0.922674    0.905397\n",
            "4  [0.917119299281163, 0.32292305226603857, 0.739...  0.923789    0.910465\n"
          ],
          "name": "stdout"
        }
      ]
    },
    {
      "cell_type": "code",
      "metadata": {
        "colab": {
          "base_uri": "https://localhost:8080/",
          "height": 266
        },
        "id": "whZ3EMhnufg-",
        "outputId": "fc03dfee-8f6e-4781-fc4e-13bca5d43e65"
      },
      "source": [
        "plt.plot(predictions['label'])\n",
        "plt.plot(predictions['prediction'])\n",
        "plt.show()"
      ],
      "execution_count": 18,
      "outputs": [
        {
          "output_type": "display_data",
          "data": {
            "image/png": "[encoded data removed]",
            "text/plain": [
              "<Figure size 432x288 with 1 Axes>"
            ]
          },
          "metadata": {
            "tags": [],
            "needs_background": "light"
          }
        }
      ]
    },
    {
      "cell_type": "code",
      "metadata": {
        "id": "zHHSMWXFn-Ua"
      },
      "source": [
        "from sklearn.metrics import mean_absolute_error"
      ],
      "execution_count": 19,
      "outputs": []
    },
    {
      "cell_type": "code",
      "metadata": {
        "colab": {
          "base_uri": "https://localhost:8080/"
        },
        "id": "xRMn-vhWnnxF",
        "outputId": "58bb58b8-696d-496d-ee85-6a70c087b66c"
      },
      "source": [
        "mean_absolute_error(predictions['label'],predictions['prediction'])"
      ],
      "execution_count": 20,
      "outputs": [
        {
          "output_type": "execute_result",
          "data": {
            "text/plain": [
              "0.01641847692208016"
            ]
          },
          "metadata": {
            "tags": []
          },
          "execution_count": 20
        }
      ]
    },
    {
      "cell_type": "code",
      "metadata": {
        "id": "GuzkmdGSsHlk"
      },
      "source": [
        "def percentage_error(actual, predicted):\n",
        "    res = np.empty(actual.shape)\n",
        "    for j in range(actual.shape[0]):\n",
        "        if actual[j] != 0:\n",
        "            res[j] = (actual[j] - predicted[j]) / actual[j]\n",
        "        else:\n",
        "            res[j] = predicted[j] / np.mean(actual)\n",
        "    return res\n",
        "\n",
        "def mean_absolute_percentage_error(y_true, y_pred): \n",
        "    return np.mean(np.abs(percentage_error(np.asarray(y_true), np.asarray(y_pred)))) * 100"
      ],
      "execution_count": 21,
      "outputs": []
    },
    {
      "cell_type": "code",
      "metadata": {
        "colab": {
          "base_uri": "https://localhost:8080/"
        },
        "id": "qNCJe52MoaAn",
        "outputId": "260a9a55-1723-4ae0-e2a0-fe2ec5b0d404"
      },
      "source": [
        "mean_absolute_percentage_error(predictions['label'],predictions['prediction'])  # 3.5628748173204707. early "
      ],
      "execution_count": 22,
      "outputs": [
        {
          "output_type": "execute_result",
          "data": {
            "text/plain": [
              "1.7839536512050336"
            ]
          },
          "metadata": {
            "tags": []
          },
          "execution_count": 22
        }
      ]
    },
    {
      "cell_type": "code",
      "metadata": {
        "id": "Jr33XMzb6WbY"
      },
      "source": [
        "from pyspark.ml.regression import LinearRegression\n",
        "lr = LinearRegression(featuresCol = 'features', labelCol = 'label')"
      ],
      "execution_count": 23,
      "outputs": []
    },
    {
      "cell_type": "code",
      "metadata": {
        "colab": {
          "base_uri": "https://localhost:8080/"
        },
        "id": "g1s81G4mrkjo",
        "outputId": "d32f13dd-8bcf-4bc7-eda2-de0bc4950a49"
      },
      "source": [
        "lr_model = lr.fit(ad_df)\n",
        "predictions = lr_model.transform(ad_df)\n",
        "someDF = predictions.select(\"prediction\", \"label\").show(5)"
      ],
      "execution_count": 24,
      "outputs": [
        {
          "output_type": "stream",
          "text": [
            "+------------------+------------------+\n",
            "|        prediction|             label|\n",
            "+------------------+------------------+\n",
            "|0.9163436415799076| 0.912566753822456|\n",
            "|0.9106565921464493| 0.917119299281163|\n",
            "|0.9159394471861058| 0.920237142703145|\n",
            "|0.9180853324648346|0.9226744215565215|\n",
            "|0.9212068494180194|0.9237886786896827|\n",
            "+------------------+------------------+\n",
            "only showing top 5 rows\n",
            "\n"
          ],
          "name": "stdout"
        }
      ]
    },
    {
      "cell_type": "code",
      "metadata": {
        "id": "q_YxpugnrofL"
      },
      "source": [
        "predictions = predictions.toPandas().head()"
      ],
      "execution_count": 25,
      "outputs": []
    },
    {
      "cell_type": "code",
      "metadata": {
        "colab": {
          "base_uri": "https://localhost:8080/"
        },
        "id": "VcBslWvSrwL3",
        "outputId": "3e44ff1e-51d3-4c51-97b3-bbc8540bb562"
      },
      "source": [
        "print(predictions)"
      ],
      "execution_count": 26,
      "outputs": [
        {
          "output_type": "stream",
          "text": [
            "                                            features     label  prediction\n",
            "0  [0.9282717666316229, 0.3499004392394658, 0.737...  0.912567    0.916344\n",
            "1  [0.9285355873034249, 0.35820035119284765, 0.68...  0.917119    0.910657\n",
            "2  [0.9179884471712343, 0.2800496228620397, 0.776...  0.920237    0.915939\n",
            "3  [0.912566753822456, 0.13973516133606823, 0.864...  0.922674    0.918085\n",
            "4  [0.917119299281163, 0.32292305226603857, 0.739...  0.923789    0.921207\n"
          ],
          "name": "stdout"
        }
      ]
    },
    {
      "cell_type": "code",
      "metadata": {
        "colab": {
          "base_uri": "https://localhost:8080/",
          "height": 265
        },
        "id": "e_G6f52Sr1VE",
        "outputId": "7b87070e-f69f-4ed5-cd5c-6273485d92d1"
      },
      "source": [
        "plt.plot(predictions['label'])\n",
        "plt.plot(predictions['prediction'])\n",
        "plt.show()"
      ],
      "execution_count": 27,
      "outputs": [
        {
          "output_type": "display_data",
          "data": {
            "image/png": "[encoded data removed]",
            "text/plain": [
              "<Figure size 432x288 with 1 Axes>"
            ]
          },
          "metadata": {
            "tags": [],
            "needs_background": "light"
          }
        }
      ]
    },
    {
      "cell_type": "code",
      "metadata": {
        "colab": {
          "base_uri": "https://localhost:8080/"
        },
        "id": "WMOUtjbOr9Od",
        "outputId": "8a373df9-7b35-494b-e4dc-9280dbebe095"
      },
      "source": [
        "print(\"Coefficients: %s\" % str(lr_model.coefficients))\n",
        "print(\"Intercept: %s\" % str(lr_model.intercept))"
      ],
      "execution_count": 28,
      "outputs": [
        {
          "output_type": "stream",
          "text": [
            "Coefficients: [-0.05189396247595009,-0.2864292735195359,-0.5825791797032374,-0.6284548204567453,0.024073068533002367,0.07809678400569113,0.21496876032425247,0.43608380008531,0.4625131116179601,-0.010272180973172474,0.9701630766368654,0.4264336918846216,0.8380145636501909,0.8812504761748452,-0.006546840438722245]\n",
            "Intercept: -0.7403155051362302\n"
          ],
          "name": "stdout"
        }
      ]
    },
    {
      "cell_type": "code",
      "metadata": {
        "colab": {
          "base_uri": "https://localhost:8080/"
        },
        "id": "krD7CYhSsDt8",
        "outputId": "d61ad6a4-29cf-4249-9f5a-a119c14fd5b0"
      },
      "source": [
        "mean_absolute_error(predictions['label'],predictions['prediction'])"
      ],
      "execution_count": 29,
      "outputs": [
        {
          "output_type": "execute_result",
          "data": {
            "text/plain": [
              "0.004341641754510928"
            ]
          },
          "metadata": {
            "tags": []
          },
          "execution_count": 29
        }
      ]
    },
    {
      "cell_type": "code",
      "metadata": {
        "colab": {
          "base_uri": "https://localhost:8080/"
        },
        "id": "XwZyKHgDsIDm",
        "outputId": "eecb1702-6ef7-4a92-92fc-8ed080c40209"
      },
      "source": [
        "mean_absolute_percentage_error(predictions['label'],predictions['prediction'])"
      ],
      "execution_count": 30,
      "outputs": [
        {
          "output_type": "execute_result",
          "data": {
            "text/plain": [
              "0.4724842342903416"
            ]
          },
          "metadata": {
            "tags": []
          },
          "execution_count": 30
        }
      ]
    }
  ]
}