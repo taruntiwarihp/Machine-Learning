{
 "cells": [
  {
   "cell_type": "markdown",
   "id": "fc52b43d",
   "metadata": {},
   "source": [
    "QUESTION - 1\n",
    "\n",
    "Alice and Bob need to send secret messages to each other and are discussing ways to encode their\n",
    "messages:\n",
    "    \n",
    "Alice: “Let’s just use a very simple code: We’ll assign ‘A’ the code word 1, ‘B’ will be 2, and so\n",
    "on down to ‘Z’ being assigned 26.”\n",
    "\n",
    "Bob: “That’s a stupid code, Alice. Suppose I send you the word ‘BEAN’ encoded as 25114. You\n",
    "could decode that in many different ways!”\n",
    "\n",
    "Alice: “Sure you could, but what words would you get? Other than ‘BEAN’, you’d get ‘BEAAD’,\n",
    "‘YAAD’, ‘YAN’, ‘YKD’ and ‘BEKD’. I think you would be able to figure out the correct\n",
    "decoding. And why would you send me the word ‘BEAN’ anyway?”\n",
    "\n",
    "Bob: “OK, maybe that’s a bad example, but I bet you that if you got a string of length 5000 there\n",
    "would be tons of different decodings and with that many you would find at least two different ones\n",
    "that would make sense.”\n",
    "\n",
    "Alice: “How many different decodings?”\n",
    "    \n",
    "Bob: “Jillions!”\n",
    "    \n",
    "For some reason, Alice is still unconvinced by Bob’s argument, so she requires a program that will\n",
    "determine how many decodings there can be for a given string using her code.\n",
    "\n",
    "Input\n",
    "Input will consist of multiple input sets. Each set will consist of a single line of at most 5000 digits\n",
    "representing a valid encryption (for example, no line will begin with a 0). There will be no spaces\n",
    "between the digits. An input line of ‘0’ will terminate the input and should not be processed.\n",
    "\n",
    "Output\n",
    "For each input set, output the number of possible decodings for the input string. All answers will\n",
    "be within the range of a 64 bit signed integer.\n",
    "\n",
    "Example\n",
    "\n",
    "Input:\n",
    "\n",
    "25114\n",
    "\n",
    "1111111111\n",
    "\n",
    "3333333333\n",
    "\n",
    "0\n",
    "\n",
    "Output:\n",
    "\n",
    "6\n",
    "\n",
    "89\n",
    "\n",
    "1"
   ]
  },
  {
   "cell_type": "code",
   "execution_count": 1,
   "id": "cac4b59e",
   "metadata": {
    "ExecuteTime": {
     "end_time": "2021-08-04T12:18:50.791313Z",
     "start_time": "2021-08-04T12:17:59.321513Z"
    }
   },
   "outputs": [
    {
     "name": "stdout",
     "output_type": "stream",
     "text": [
      "25114\n",
      "6\n",
      "1111111111\n",
      "89\n",
      "3333333333\n",
      "1\n",
      "0\n"
     ]
    }
   ],
   "source": [
    "def num_ways_dp(s):\n",
    "    old = new = 1\n",
    "    for i in range(len(s)-1):\n",
    "        if int(s[i:i+2]) > 26: old = 0 \n",
    "        if int(s[i+1]) == '0': new = 0 \n",
    "        (old, new) = (new, old + new)\n",
    "    return new\n",
    "\n",
    "if __name__ == '__main__':\n",
    "    number = input()\n",
    "    while number != '0':\n",
    "        print(num_ways_dp(number))\n",
    "        number = input()"
   ]
  },
  {
   "cell_type": "markdown",
   "id": "35fe8938",
   "metadata": {},
   "source": [
    "QUESTION – 4\n",
    "\n",
    "In a billiard table with horizontal side a inches and vertical side b inches, a ball is launched from\n",
    "the middle of the table. After s > 0 seconds the ball returns to the point from which it was launched,\n",
    "after having made m bounces off the vertical sides and n bounces off the horizontal sides of the\n",
    "table. Find the launching angle A (measured from the horizontal), which will be between 0 and 90\n",
    "degrees inclusive, and the initial velocity of the ball.\n",
    "\n",
    "Assume that the collisions with a side are elastic (no energy loss), and thus the velocity component\n",
    "of the ball parallel to each side remains unchanged. Also, assume the ball has a radius of zero.\n",
    "Remember that, unlike pool tables, billiard tables have no pockets.\n",
    "\n",
    "Input\n",
    "Input consists of a sequence of lines, each containing five nonnegative integers separated by\n",
    "whitespace. The five numbers are: a, b, s, m, and n, respectively. All numbers are positive integers\n",
    "not greater than 10000.\n",
    "\n",
    "Input is terminated by a line containing five zeroes.\n",
    "\n",
    "Output\n",
    "For each input line except the last, output a line containing two real numbers (accurate to two\n",
    "decimal places) separated by a single space. The first number is the measure of the angle A in\n",
    "degrees and the second is the velocity of the ball measured in inches per second, according to the\n",
    "description above.\n",
    "\n",
    "Example\n",
    "\n",
    "Input:\n",
    "\n",
    "100 100 1 1 1\n",
    "\n",
    "200 100 5 3 4\n",
    "\n",
    "201 132 48 1900 156\n",
    "\n",
    "0 0 0 0 0\n",
    "\n",
    "Output:\n",
    "\n",
    "45.00 141.42\n",
    "\n",
    "33.69 144.22\n",
    "\n",
    "3.09 7967.81"
   ]
  },
  {
   "cell_type": "code",
   "execution_count": 2,
   "id": "a4110b56",
   "metadata": {
    "ExecuteTime": {
     "end_time": "2021-08-04T12:19:43.259903Z",
     "start_time": "2021-08-04T12:19:34.731791Z"
    }
   },
   "outputs": [
    {
     "name": "stdout",
     "output_type": "stream",
     "text": [
      "Enter two value: 100 100 1 1 1\n",
      "45.0 141.42\n"
     ]
    }
   ],
   "source": [
    "import math\n",
    "\n",
    "a, b, s, m, n = [int(x) for x in input(\"Enter two value: \").split()]\n",
    "angle = math.atan((b*n)/(a*m)) * 180 / math.pi\n",
    "velocity = math.sqrt(b*n*b*n+a*m*a*m) / s\n",
    "print(round(angle,2),round(velocity,2))"
   ]
  }
 ],
 "metadata": {
  "kernelspec": {
   "display_name": "Python 3",
   "language": "python",
   "name": "python3"
  },
  "language_info": {
   "codemirror_mode": {
    "name": "ipython",
    "version": 3
   },
   "file_extension": ".py",
   "mimetype": "text/x-python",
   "name": "python",
   "nbconvert_exporter": "python",
   "pygments_lexer": "ipython3",
   "version": "3.8.8"
  }
 },
 "nbformat": 4,
 "nbformat_minor": 5
}
