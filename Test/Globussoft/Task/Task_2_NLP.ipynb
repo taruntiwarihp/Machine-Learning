{
  "nbformat": 4,
  "nbformat_minor": 0,
  "metadata": {
    "colab": {
      "name": "Task 2 - NLP.ipynb",
      "provenance": [],
      "collapsed_sections": []
    },
    "kernelspec": {
      "name": "python3",
      "display_name": "Python 3"
    },
    "language_info": {
      "name": "python"
    }
  },
  "cells": [
    {
      "cell_type": "code",
      "metadata": {
        "colab": {
          "base_uri": "https://localhost:8080/"
        },
        "id": "EkwYQddWBpSL",
        "outputId": "2cc0929b-4bfe-4262-f8fd-0eb7bb51f803"
      },
      "source": [
        "from google.colab import drive\n",
        "drive.mount('/content/drive', force_remount=True)"
      ],
      "execution_count": 1,
      "outputs": [
        {
          "output_type": "stream",
          "text": [
            "Mounted at /content/drive\n"
          ],
          "name": "stdout"
        }
      ]
    },
    {
      "cell_type": "code",
      "metadata": {
        "id": "qd67JCaTB4EM"
      },
      "source": [
        "# !ls \"/content/drive/MyDrive/Colab Notebooks/\""
      ],
      "execution_count": 2,
      "outputs": []
    },
    {
      "cell_type": "code",
      "metadata": {
        "id": "njdcoEyJB_GA"
      },
      "source": [
        "# !unzip \"/content/drive/MyDrive/Colab Notebooks/out_DS_Qus 2.zip\" -d \"/content/drive/MyDrive/Colab Notebooks/\""
      ],
      "execution_count": 3,
      "outputs": []
    },
    {
      "cell_type": "code",
      "metadata": {
        "id": "mLYbSov4CKJR"
      },
      "source": [
        "PATH = \"/content/drive/MyDrive/Colab Notebooks/out.csv\""
      ],
      "execution_count": 4,
      "outputs": []
    },
    {
      "cell_type": "code",
      "metadata": {
        "colab": {
          "base_uri": "https://localhost:8080/"
        },
        "id": "VB9nc0apCUHl",
        "outputId": "bcc0d5cc-6754-40fb-bfbb-04916ffa6df9"
      },
      "source": [
        "import pandas as pd\n",
        "import numpy as np\n",
        "import nltk\n",
        "import re\n",
        "from nltk.corpus import stopwords\n",
        "from nltk.tokenize import sent_tokenize, word_tokenize\n",
        "from nltk.stem import WordNetLemmatizer\n",
        "from nltk.stem.porter import *\n",
        "from sklearn.feature_extraction.text import TfidfVectorizer\n",
        "\n",
        "nltk.download('stopwords')\n",
        "nltk.download('wordnet')\n",
        "\n",
        "from sklearn.cluster import KMeans \n",
        "from sklearn.decomposition import PCA\n",
        "from sklearn.preprocessing import normalize\n",
        "import matplotlib.pyplot as plt\n",
        "%matplotlib inline\n",
        "plt.style.use('fivethirtyeight')\n",
        "import pickle\n",
        "from sklearn import model_selection, naive_bayes, svm\n",
        "from sklearn.ensemble import RandomForestClassifier\n",
        "from sklearn.metrics import accuracy_score\n",
        "np.random.seed(500)\n",
        "\n",
        "import warnings\n",
        "warnings.filterwarnings(\"ignore\")"
      ],
      "execution_count": 5,
      "outputs": [
        {
          "output_type": "stream",
          "text": [
            "[nltk_data] Downloading package stopwords to /root/nltk_data...\n",
            "[nltk_data]   Unzipping corpora/stopwords.zip.\n",
            "[nltk_data] Downloading package wordnet to /root/nltk_data...\n",
            "[nltk_data]   Unzipping corpora/wordnet.zip.\n"
          ],
          "name": "stdout"
        }
      ]
    },
    {
      "cell_type": "code",
      "metadata": {
        "id": "bFDL19GxCgc5"
      },
      "source": [
        "data = pd.read_csv(PATH, nrows=80000) # Loading only 80k samples "
      ],
      "execution_count": 6,
      "outputs": []
    },
    {
      "cell_type": "code",
      "metadata": {
        "colab": {
          "base_uri": "https://localhost:8080/",
          "height": 288
        },
        "id": "ZYrw2xqLCkph",
        "outputId": "4afef2cb-7d21-4ab9-a23c-f8d9028783aa"
      },
      "source": [
        "data.head(2)"
      ],
      "execution_count": 7,
      "outputs": [
        {
          "output_type": "execute_result",
          "data": {
            "text/html": [
              "<div>\n",
              "<style scoped>\n",
              "    .dataframe tbody tr th:only-of-type {\n",
              "        vertical-align: middle;\n",
              "    }\n",
              "\n",
              "    .dataframe tbody tr th {\n",
              "        vertical-align: top;\n",
              "    }\n",
              "\n",
              "    .dataframe thead th {\n",
              "        text-align: right;\n",
              "    }\n",
              "</style>\n",
              "<table border=\"1\" class=\"dataframe\">\n",
              "  <thead>\n",
              "    <tr style=\"text-align: right;\">\n",
              "      <th></th>\n",
              "      <th>_id</th>\n",
              "      <th>Id</th>\n",
              "      <th>GroupId</th>\n",
              "      <th>GroupName</th>\n",
              "      <th>PostId</th>\n",
              "      <th>PostType</th>\n",
              "      <th>UserProfileId</th>\n",
              "      <th>ProfileName</th>\n",
              "      <th>ProfileImage</th>\n",
              "      <th>ProfileImageOriginal</th>\n",
              "      <th>Message</th>\n",
              "      <th>FeedText</th>\n",
              "      <th>FeedDescription</th>\n",
              "      <th>FeedTitle</th>\n",
              "      <th>postImgUrl</th>\n",
              "      <th>postImgUrlOriginal</th>\n",
              "      <th>videoTitle</th>\n",
              "      <th>VideoSiteRedirectionUrl</th>\n",
              "      <th>VideoDescription</th>\n",
              "      <th>PostRedirectionImg</th>\n",
              "      <th>websiteUrl</th>\n",
              "      <th>NoOfLike</th>\n",
              "      <th>NoOfComment</th>\n",
              "      <th>NoOfShare</th>\n",
              "      <th>DateTimeOfPost</th>\n",
              "      <th>connectionStatus</th>\n",
              "      <th>postUrl</th>\n",
              "      <th>DestinationURL</th>\n",
              "      <th>savePostDateTimeUtc</th>\n",
              "      <th>mediaPostUrlUpdated</th>\n",
              "      <th>CommentDetails</th>\n",
              "      <th>HashTag</th>\n",
              "    </tr>\n",
              "  </thead>\n",
              "  <tbody>\n",
              "    <tr>\n",
              "      <th>0</th>\n",
              "      <td>{\"$oid\":\"5b1aa7ee8bb55b300895a775\"}</td>\n",
              "      <td>5b1aa7ee8bb55b300895a774</td>\n",
              "      <td>{\"$numberLong\":\"1124374080936565\"}</td>\n",
              "      <td>Empower Your Online Success</td>\n",
              "      <td>{\"$numberLong\":\"2171117736262189\"}</td>\n",
              "      <td>IMAGE</td>\n",
              "      <td>1348490940</td>\n",
              "      <td>Shawn Lemoine</td>\n",
              "      <td>https://api.socioleadspro.com/api/Media/getpro...</td>\n",
              "      <td>https://scontent-lhr3-1.xx.fbcdn.net/v/t1.0-1/...</td>\n",
              "      <td>Youre about to GET LUCKY! Rise and shine. HAP...</td>\n",
              "      <td>Youre about to GET LUCKY! Rise and shine. HAPP...</td>\n",
              "      <td>NaN</td>\n",
              "      <td>NaN</td>\n",
              "      <td>https://api.socioleadspro.com/api/Media/get?id...</td>\n",
              "      <td>https://scontent-lhr3-1.xx.fbcdn.net/v/t1.0-0/...</td>\n",
              "      <td>NaN</td>\n",
              "      <td>NaN</td>\n",
              "      <td>NaN</td>\n",
              "      <td>NaN</td>\n",
              "      <td>NaN</td>\n",
              "      <td>0</td>\n",
              "      <td>0</td>\n",
              "      <td>0</td>\n",
              "      <td>1528458840</td>\n",
              "      <td>False</td>\n",
              "      <td>https://www.facebook.com/groups/11243740809365...</td>\n",
              "      <td>NaN</td>\n",
              "      <td>1528473583</td>\n",
              "      <td>True</td>\n",
              "      <td>NaN</td>\n",
              "      <td>NaN</td>\n",
              "    </tr>\n",
              "    <tr>\n",
              "      <th>1</th>\n",
              "      <td>{\"$oid\":\"5b1aa7ee8bb55b300895a777\"}</td>\n",
              "      <td>5b1aa7ee8bb55b300895a776</td>\n",
              "      <td>{\"$numberLong\":\"1124374080936565\"}</td>\n",
              "      <td>Empower Your Online Success</td>\n",
              "      <td>{\"$numberLong\":\"2170670772973552\"}</td>\n",
              "      <td>IMAGE</td>\n",
              "      <td>1348490940</td>\n",
              "      <td>Shawn Lemoine</td>\n",
              "      <td>https://api.socioleadspro.com/api/Media/getpro...</td>\n",
              "      <td>https://scontent-lhr3-1.xx.fbcdn.net/v/t1.0-1/...</td>\n",
              "      <td>Rest up, tomorrows a BIG DAY.\\r\\n You&amp;#039;re...</td>\n",
              "      <td>Rest up, tomorrows a BIG DAY.\\r\\n You&amp;#039;re ...</td>\n",
              "      <td>NaN</td>\n",
              "      <td>NaN</td>\n",
              "      <td>https://api.socioleadspro.com/api/Media/get?id...</td>\n",
              "      <td>https://scontent-lhr3-1.xx.fbcdn.net/v/t1.0-9/...</td>\n",
              "      <td>NaN</td>\n",
              "      <td>NaN</td>\n",
              "      <td>NaN</td>\n",
              "      <td>NaN</td>\n",
              "      <td>NaN</td>\n",
              "      <td>0</td>\n",
              "      <td>0</td>\n",
              "      <td>0</td>\n",
              "      <td>1528428573</td>\n",
              "      <td>False</td>\n",
              "      <td>https://www.facebook.com/groups/11243740809365...</td>\n",
              "      <td>NaN</td>\n",
              "      <td>1528473583</td>\n",
              "      <td>True</td>\n",
              "      <td>NaN</td>\n",
              "      <td>NaN</td>\n",
              "    </tr>\n",
              "  </tbody>\n",
              "</table>\n",
              "</div>"
            ],
            "text/plain": [
              "                                   _id  ... HashTag\n",
              "0  {\"$oid\":\"5b1aa7ee8bb55b300895a775\"}  ...     NaN\n",
              "1  {\"$oid\":\"5b1aa7ee8bb55b300895a777\"}  ...     NaN\n",
              "\n",
              "[2 rows x 32 columns]"
            ]
          },
          "metadata": {
            "tags": []
          },
          "execution_count": 7
        }
      ]
    },
    {
      "cell_type": "markdown",
      "metadata": {
        "id": "UWsG91GTxCHK"
      },
      "source": [
        "# Data PreProcessing"
      ]
    },
    {
      "cell_type": "markdown",
      "metadata": {
        "id": "2wEjumnvg6KI"
      },
      "source": [
        "#### Data Describe "
      ]
    },
    {
      "cell_type": "code",
      "metadata": {
        "colab": {
          "base_uri": "https://localhost:8080/"
        },
        "id": "cXUBzD95udzK",
        "outputId": "74047fd4-7eb7-476b-f7dd-99df9cfe3312"
      },
      "source": [
        "data.info()"
      ],
      "execution_count": 8,
      "outputs": [
        {
          "output_type": "stream",
          "text": [
            "<class 'pandas.core.frame.DataFrame'>\n",
            "RangeIndex: 80000 entries, 0 to 79999\n",
            "Data columns (total 32 columns):\n",
            " #   Column                   Non-Null Count  Dtype  \n",
            "---  ------                   --------------  -----  \n",
            " 0   _id                      80000 non-null  object \n",
            " 1   Id                       80000 non-null  object \n",
            " 2   GroupId                  80000 non-null  object \n",
            " 3   GroupName                80000 non-null  object \n",
            " 4   PostId                   80000 non-null  object \n",
            " 5   PostType                 80000 non-null  object \n",
            " 6   UserProfileId            80000 non-null  int64  \n",
            " 7   ProfileName              80000 non-null  object \n",
            " 8   ProfileImage             80000 non-null  object \n",
            " 9   ProfileImageOriginal     80000 non-null  object \n",
            " 10  Message                  80000 non-null  object \n",
            " 11  FeedText                 62720 non-null  object \n",
            " 12  FeedDescription          39418 non-null  object \n",
            " 13  FeedTitle                22666 non-null  object \n",
            " 14  postImgUrl               56588 non-null  object \n",
            " 15  postImgUrlOriginal       56588 non-null  object \n",
            " 16  videoTitle               0 non-null      float64\n",
            " 17  VideoSiteRedirectionUrl  0 non-null      float64\n",
            " 18  VideoDescription         0 non-null      float64\n",
            " 19  PostRedirectionImg       0 non-null      float64\n",
            " 20  websiteUrl               0 non-null      float64\n",
            " 21  NoOfLike                 80000 non-null  int64  \n",
            " 22  NoOfComment              80000 non-null  int64  \n",
            " 23  NoOfShare                80000 non-null  int64  \n",
            " 24  DateTimeOfPost           80000 non-null  int64  \n",
            " 25  connectionStatus         80000 non-null  bool   \n",
            " 26  postUrl                  80000 non-null  object \n",
            " 27  DestinationURL           21509 non-null  object \n",
            " 28  savePostDateTimeUtc      80000 non-null  int64  \n",
            " 29  mediaPostUrlUpdated      80000 non-null  bool   \n",
            " 30  CommentDetails           0 non-null      float64\n",
            " 31  HashTag                  0 non-null      float64\n",
            "dtypes: bool(2), float64(7), int64(6), object(17)\n",
            "memory usage: 18.5+ MB\n"
          ],
          "name": "stdout"
        }
      ]
    },
    {
      "cell_type": "code",
      "metadata": {
        "id": "mi8YnsQ4Clrg"
      },
      "source": [
        "# Droping Null columns\n",
        "data = data.drop(columns=['videoTitle','VideoSiteRedirectionUrl', 'VideoDescription', 'PostRedirectionImg','websiteUrl','CommentDetails','HashTag'])"
      ],
      "execution_count": 9,
      "outputs": []
    },
    {
      "cell_type": "code",
      "metadata": {
        "id": "c3O91j3RC0ea"
      },
      "source": [
        "data = data.dropna() # Droping null rows"
      ],
      "execution_count": 10,
      "outputs": []
    },
    {
      "cell_type": "code",
      "metadata": {
        "id": "bqsmesBFC3fq"
      },
      "source": [
        "# Taking Usefull columns only\n",
        "df = data[['Message','FeedText','FeedDescription','FeedTitle']] # taking text features only"
      ],
      "execution_count": 11,
      "outputs": []
    },
    {
      "cell_type": "code",
      "metadata": {
        "colab": {
          "base_uri": "https://localhost:8080/",
          "height": 112
        },
        "id": "mWD3JFVXDDaV",
        "outputId": "597fd496-68e3-4691-cf8c-6fd58aa7fba6"
      },
      "source": [
        "df.head(2)"
      ],
      "execution_count": 12,
      "outputs": [
        {
          "output_type": "execute_result",
          "data": {
            "text/html": [
              "<div>\n",
              "<style scoped>\n",
              "    .dataframe tbody tr th:only-of-type {\n",
              "        vertical-align: middle;\n",
              "    }\n",
              "\n",
              "    .dataframe tbody tr th {\n",
              "        vertical-align: top;\n",
              "    }\n",
              "\n",
              "    .dataframe thead th {\n",
              "        text-align: right;\n",
              "    }\n",
              "</style>\n",
              "<table border=\"1\" class=\"dataframe\">\n",
              "  <thead>\n",
              "    <tr style=\"text-align: right;\">\n",
              "      <th></th>\n",
              "      <th>Message</th>\n",
              "      <th>FeedText</th>\n",
              "      <th>FeedDescription</th>\n",
              "      <th>FeedTitle</th>\n",
              "    </tr>\n",
              "  </thead>\n",
              "  <tbody>\n",
              "    <tr>\n",
              "      <th>13390</th>\n",
              "      <td>https://start.s. Hope this video will be helpf...</td>\n",
              "      <td>Hope this video will be helpful for those who ...</td>\n",
              "      <td>RESTFulAPI/Web Services(User Registration APIs...</td>\n",
              "      <td>https://start.s.</td>\n",
              "    </tr>\n",
              "    <tr>\n",
              "      <th>13392</th>\n",
              "      <td>msaad1999 (Muhammad Saad ) -\\-\\-\\-\\-\\-\\-\\-\\-\\-...</td>\n",
              "      <td>-\\-\\-\\-\\-\\-\\-\\-\\-\\-\\-\\-\\-Check Out My Games (a...</td>\n",
              "      <td>msaad1999 has 2 repositories available. Follow...</td>\n",
              "      <td>msaad1999 (Muhammad Saad )</td>\n",
              "    </tr>\n",
              "  </tbody>\n",
              "</table>\n",
              "</div>"
            ],
            "text/plain": [
              "                                                 Message  ...                   FeedTitle\n",
              "13390  https://start.s. Hope this video will be helpf...  ...            https://start.s.\n",
              "13392  msaad1999 (Muhammad Saad ) -\\-\\-\\-\\-\\-\\-\\-\\-\\-...  ...  msaad1999 (Muhammad Saad )\n",
              "\n",
              "[2 rows x 4 columns]"
            ]
          },
          "metadata": {
            "tags": []
          },
          "execution_count": 12
        }
      ]
    },
    {
      "cell_type": "markdown",
      "metadata": {
        "id": "Ts96ValZgkUm"
      },
      "source": [
        " #### Text Cleaning and Filtering "
      ]
    },
    {
      "cell_type": "code",
      "metadata": {
        "id": "Ytyqbp5FEJyh"
      },
      "source": [
        "def pattern(text, pattern_regex):\n",
        "    \n",
        "    return \" \".join(re.findall(pattern_regex, text))"
      ],
      "execution_count": 13,
      "outputs": []
    },
    {
      "cell_type": "code",
      "metadata": {
        "id": "Gz8Rhe_kG-_y"
      },
      "source": [
        "# We are keeping cleaned text in a new column \n",
        "for i in range(len(df.columns)):\n",
        "  df[\"New_\"+df.columns[i]] = np.vectorize(pattern)(df[df.columns[i]], \"[a-zA-Z]+\")"
      ],
      "execution_count": 14,
      "outputs": []
    },
    {
      "cell_type": "code",
      "metadata": {
        "id": "K6Rh1zLUT1A2"
      },
      "source": [
        "df.drop(columns=df.columns[:4],inplace=True) # droping unwanted features"
      ],
      "execution_count": 15,
      "outputs": []
    },
    {
      "cell_type": "code",
      "metadata": {
        "id": "daJea35pnS7_"
      },
      "source": [
        "def remove_pattern(text, pattern_regex):\n",
        "    r = re.findall(pattern_regex, text)\n",
        "    for i in r:\n",
        "        text = re.sub(i, '', text)\n",
        "    \n",
        "    return text "
      ],
      "execution_count": 16,
      "outputs": []
    },
    {
      "cell_type": "code",
      "metadata": {
        "id": "l8JgmfxNnOVX"
      },
      "source": [
        "# We are keeping cleaned Text in a new column\n",
        "for i in range(len(df.columns)):\n",
        "  df[\"new_\"+df.columns[i][4:]] = np.vectorize(remove_pattern)(df[df.columns[i]], ' *https* | *www* | *com* ')"
      ],
      "execution_count": 17,
      "outputs": []
    },
    {
      "cell_type": "code",
      "metadata": {
        "id": "ySA5mGUDpc7l"
      },
      "source": [
        "df.drop(columns=df.columns[:4],inplace=True) # droping unwanted features"
      ],
      "execution_count": 18,
      "outputs": []
    },
    {
      "cell_type": "code",
      "metadata": {
        "colab": {
          "base_uri": "https://localhost:8080/"
        },
        "id": "wc3bOwiBTZan",
        "outputId": "c76defc5-83a8-4cb4-b71b-02bbbb81d885"
      },
      "source": [
        "df.shape"
      ],
      "execution_count": 19,
      "outputs": [
        {
          "output_type": "execute_result",
          "data": {
            "text/plain": [
              "(14180, 4)"
            ]
          },
          "metadata": {
            "tags": []
          },
          "execution_count": 19
        }
      ]
    },
    {
      "cell_type": "code",
      "metadata": {
        "id": "9-6NzINKIoox"
      },
      "source": [
        "df = df.drop_duplicates()"
      ],
      "execution_count": 20,
      "outputs": []
    },
    {
      "cell_type": "code",
      "metadata": {
        "colab": {
          "base_uri": "https://localhost:8080/"
        },
        "id": "w_rYOhdhTRAq",
        "outputId": "dc9e7d26-2bb2-49ff-d701-76fac7092102"
      },
      "source": [
        "df.shape"
      ],
      "execution_count": 21,
      "outputs": [
        {
          "output_type": "execute_result",
          "data": {
            "text/plain": [
              "(12540, 4)"
            ]
          },
          "metadata": {
            "tags": []
          },
          "execution_count": 21
        }
      ]
    },
    {
      "cell_type": "code",
      "metadata": {
        "id": "fsDtRd2GJRvC"
      },
      "source": [
        "df = df.reset_index(drop=True)"
      ],
      "execution_count": 22,
      "outputs": []
    },
    {
      "cell_type": "code",
      "metadata": {
        "colab": {
          "base_uri": "https://localhost:8080/"
        },
        "id": "H_4OJ-nBqXW0",
        "outputId": "27e34000-8c08-46ee-dd33-56e3d5ebdd7b"
      },
      "source": [
        "df.columns"
      ],
      "execution_count": 23,
      "outputs": [
        {
          "output_type": "execute_result",
          "data": {
            "text/plain": [
              "Index(['new_Message', 'new_FeedText', 'new_FeedDescription', 'new_FeedTitle'], dtype='object')"
            ]
          },
          "metadata": {
            "tags": []
          },
          "execution_count": 23
        }
      ]
    },
    {
      "cell_type": "markdown",
      "metadata": {
        "id": "lPeWPRRCgK9t"
      },
      "source": [
        "#### StopWords"
      ]
    },
    {
      "cell_type": "code",
      "metadata": {
        "id": "Y4lSOnjBaOwS"
      },
      "source": [
        "stopwords_set = set(stopwords.words('english'))\n",
        "cleaned_txt0, cleaned_txt1, cleaned_txt2, cleaned_txt3 = [], [], [], []\n",
        "\n",
        "for index, row in df.iterrows():\n",
        "    \n",
        "    # filerting out all the stopwords \n",
        "    words_without_stopwords_0 = [word for word in row.new_Message.split() if not word in stopwords_set and '#' not in word.lower()]\n",
        "    # finally creating txt list of tuples containing stopwords(list) and sentimentType \n",
        "    cleaned_txt0.append(' '.join(words_without_stopwords_0))\n",
        "\n",
        "    words_without_stopwords_1 = [word for word in row.new_FeedText.split() if not word in stopwords_set and '#' not in word.lower()]\n",
        "    # finally creating txt list of tuples containing stopwords(list) and sentimentType \n",
        "    cleaned_txt1.append(' '.join(words_without_stopwords_1))\n",
        "\n",
        "    words_without_stopwords_2 = [word for word in row.new_FeedDescription.split() if not word in stopwords_set and '#' not in word.lower()]\n",
        "    # finally creating txt list of tuples containing stopwords(list) and sentimentType \n",
        "    cleaned_txt2.append(' '.join(words_without_stopwords_2))\n",
        "\n",
        "    words_without_stopwords_3 = [word for word in row.new_FeedTitle.split() if not word in stopwords_set and '#' not in word.lower()]\n",
        "    # finally creating txt list of tuples containing stopwords(list) and sentimentType \n",
        "    cleaned_txt3.append(' '.join(words_without_stopwords_3))\n",
        "\n",
        "    \n",
        "df[df.columns[0]] = cleaned_txt0\n",
        "df[df.columns[1]] = cleaned_txt1\n",
        "df[df.columns[2]] = cleaned_txt2\n",
        "df[df.columns[3]] = cleaned_txt3"
      ],
      "execution_count": 24,
      "outputs": []
    },
    {
      "cell_type": "code",
      "metadata": {
        "colab": {
          "base_uri": "https://localhost:8080/",
          "height": 112
        },
        "id": "eCke1-r_cByK",
        "outputId": "ecf97a86-debb-4b17-9bbe-9f977b5e3d69"
      },
      "source": [
        "df.head(2)"
      ],
      "execution_count": 25,
      "outputs": [
        {
          "output_type": "execute_result",
          "data": {
            "text/html": [
              "<div>\n",
              "<style scoped>\n",
              "    .dataframe tbody tr th:only-of-type {\n",
              "        vertical-align: middle;\n",
              "    }\n",
              "\n",
              "    .dataframe tbody tr th {\n",
              "        vertical-align: top;\n",
              "    }\n",
              "\n",
              "    .dataframe thead th {\n",
              "        text-align: right;\n",
              "    }\n",
              "</style>\n",
              "<table border=\"1\" class=\"dataframe\">\n",
              "  <thead>\n",
              "    <tr style=\"text-align: right;\">\n",
              "      <th></th>\n",
              "      <th>new_Message</th>\n",
              "      <th>new_FeedText</th>\n",
              "      <th>new_FeedDescription</th>\n",
              "      <th>new_FeedTitle</th>\n",
              "    </tr>\n",
              "  </thead>\n",
              "  <tbody>\n",
              "    <tr>\n",
              "      <th>0</th>\n",
              "      <td>start Hope video helpful interested Spring Boo...</td>\n",
              "      <td>Hope video helpful interested Spring Boot Rest...</td>\n",
              "      <td>RESTFulAPI Web Services User Registration APIs...</td>\n",
              "      <td>start</td>\n",
              "    </tr>\n",
              "    <tr>\n",
              "      <th>1</th>\n",
              "      <td>msaad Muhammad Saad Check Out My Games STAR I ...</td>\n",
              "      <td>Check Out My Games STAR I created Game project...</td>\n",
              "      <td>msaad repositories available Follow code GitHub</td>\n",
              "      <td>msaad Muhammad Saad</td>\n",
              "    </tr>\n",
              "  </tbody>\n",
              "</table>\n",
              "</div>"
            ],
            "text/plain": [
              "                                         new_Message  ...        new_FeedTitle\n",
              "0  start Hope video helpful interested Spring Boo...  ...                start\n",
              "1  msaad Muhammad Saad Check Out My Games STAR I ...  ...  msaad Muhammad Saad\n",
              "\n",
              "[2 rows x 4 columns]"
            ]
          },
          "metadata": {
            "tags": []
          },
          "execution_count": 25
        }
      ]
    },
    {
      "cell_type": "markdown",
      "metadata": {
        "id": "6XsHt9jIgOt1"
      },
      "source": [
        "#### Tokenization and Lemmatization"
      ]
    },
    {
      "cell_type": "code",
      "metadata": {
        "id": "lx_GdOXsJeSi"
      },
      "source": [
        "for i in range(len(df.columns)):\n",
        "  df['tokenized_'+df.columns[i]] = df[df.columns[i]].apply(lambda x: x.split())"
      ],
      "execution_count": 26,
      "outputs": []
    },
    {
      "cell_type": "code",
      "metadata": {
        "id": "ZtZvRUcDenXC"
      },
      "source": [
        "df.drop(columns=df.columns[:4],inplace=True) # droping unwanted features"
      ],
      "execution_count": 27,
      "outputs": []
    },
    {
      "cell_type": "code",
      "metadata": {
        "id": "79Rl0aiIJkMh"
      },
      "source": [
        "word_lemmatizer = WordNetLemmatizer()\n",
        "for i in range(len(df.columns)):\n",
        "  df['Lemmatize_'+df.columns[i]] = df[df.columns[i]].apply(lambda x: [word_lemmatizer.lemmatize(i) for i in x])"
      ],
      "execution_count": 28,
      "outputs": []
    },
    {
      "cell_type": "code",
      "metadata": {
        "id": "ih3UCk3ir07D"
      },
      "source": [
        "df.drop(columns=df.columns[:4],inplace=True) # droping unwanted features"
      ],
      "execution_count": 29,
      "outputs": []
    },
    {
      "cell_type": "code",
      "metadata": {
        "id": "biI-w0ZJm-I4"
      },
      "source": [
        "v = []\n",
        "for i, tokens in enumerate(df[df.columns[1]]):\n",
        "  v.append(' '.join(tokens))"
      ],
      "execution_count": 30,
      "outputs": []
    },
    {
      "cell_type": "code",
      "metadata": {
        "id": "owM_z8GjJoJK"
      },
      "source": [
        "def token(j):\n",
        "  val = []\n",
        "  for i, tokens in enumerate(df[df.columns[j]]):\n",
        "      val.append(' '.join(tokens))\n",
        "\n",
        "  df[df.columns[j][20:]] = val"
      ],
      "execution_count": 31,
      "outputs": []
    },
    {
      "cell_type": "code",
      "metadata": {
        "id": "c1g-G5TaiTnY"
      },
      "source": [
        "for k in range(len(df.columns)):\n",
        "  token(k)"
      ],
      "execution_count": 32,
      "outputs": []
    },
    {
      "cell_type": "code",
      "metadata": {
        "id": "fR5zw1Hli809"
      },
      "source": [
        "df.drop(columns=df.columns[:4],inplace=True)"
      ],
      "execution_count": 33,
      "outputs": []
    },
    {
      "cell_type": "code",
      "metadata": {
        "colab": {
          "base_uri": "https://localhost:8080/",
          "height": 112
        },
        "id": "PBLTrsh5oVBv",
        "outputId": "19e45fe6-0095-47e3-ea51-dd5cc09258a1"
      },
      "source": [
        "df.head(2)"
      ],
      "execution_count": 34,
      "outputs": [
        {
          "output_type": "execute_result",
          "data": {
            "text/html": [
              "<div>\n",
              "<style scoped>\n",
              "    .dataframe tbody tr th:only-of-type {\n",
              "        vertical-align: middle;\n",
              "    }\n",
              "\n",
              "    .dataframe tbody tr th {\n",
              "        vertical-align: top;\n",
              "    }\n",
              "\n",
              "    .dataframe thead th {\n",
              "        text-align: right;\n",
              "    }\n",
              "</style>\n",
              "<table border=\"1\" class=\"dataframe\">\n",
              "  <thead>\n",
              "    <tr style=\"text-align: right;\">\n",
              "      <th></th>\n",
              "      <th>new_Message</th>\n",
              "      <th>new_FeedText</th>\n",
              "      <th>new_FeedDescription</th>\n",
              "      <th>new_FeedTitle</th>\n",
              "    </tr>\n",
              "  </thead>\n",
              "  <tbody>\n",
              "    <tr>\n",
              "      <th>0</th>\n",
              "      <td>start Hope video helpful interested Spring Boo...</td>\n",
              "      <td>Hope video helpful interested Spring Boot Rest...</td>\n",
              "      <td>RESTFulAPI Web Services User Registration APIs...</td>\n",
              "      <td>start</td>\n",
              "    </tr>\n",
              "    <tr>\n",
              "      <th>1</th>\n",
              "      <td>msaad Muhammad Saad Check Out My Games STAR I ...</td>\n",
              "      <td>Check Out My Games STAR I created Game project...</td>\n",
              "      <td>msaad repository available Follow code GitHub</td>\n",
              "      <td>msaad Muhammad Saad</td>\n",
              "    </tr>\n",
              "  </tbody>\n",
              "</table>\n",
              "</div>"
            ],
            "text/plain": [
              "                                         new_Message  ...        new_FeedTitle\n",
              "0  start Hope video helpful interested Spring Boo...  ...                start\n",
              "1  msaad Muhammad Saad Check Out My Games STAR I ...  ...  msaad Muhammad Saad\n",
              "\n",
              "[2 rows x 4 columns]"
            ]
          },
          "metadata": {
            "tags": []
          },
          "execution_count": 34
        }
      ]
    },
    {
      "cell_type": "markdown",
      "metadata": {
        "id": "BAP3PDSIxJI9"
      },
      "source": [
        "## Data Annotation Using KMeans\n"
      ]
    },
    {
      "cell_type": "markdown",
      "metadata": {
        "id": "trcb3iAGf9AH"
      },
      "source": [
        "#### DataSet is very large, SO taking one columns for Annotation"
      ]
    },
    {
      "cell_type": "code",
      "metadata": {
        "colab": {
          "base_uri": "https://localhost:8080/"
        },
        "id": "bXonnlBu80jh",
        "outputId": "33525f6f-f140-4f62-a6db-8fd9f7f72dcc"
      },
      "source": [
        "# Vector Transose FeedText\n",
        "data = df['new_FeedText']\n",
        "tf_idf_vectorizor = TfidfVectorizer()\n",
        "%time tf_idf = tf_idf_vectorizor.fit_transform(data)\n",
        "tf_idf_norm = normalize(tf_idf)\n",
        "tf_idf_array = tf_idf_norm.toarray()"
      ],
      "execution_count": 35,
      "outputs": [
        {
          "output_type": "stream",
          "text": [
            "CPU times: user 411 ms, sys: 6.67 ms, total: 417 ms\n",
            "Wall time: 430 ms\n"
          ],
          "name": "stdout"
        }
      ]
    },
    {
      "cell_type": "code",
      "metadata": {
        "colab": {
          "base_uri": "https://localhost:8080/"
        },
        "id": "x9NRieR41e7A",
        "outputId": "2383b311-9d62-4e17-9bdb-b303f2f89bc6"
      },
      "source": [
        "tf_idf_array.shape"
      ],
      "execution_count": 36,
      "outputs": [
        {
          "output_type": "execute_result",
          "data": {
            "text/plain": [
              "(12540, 39084)"
            ]
          },
          "metadata": {
            "tags": []
          },
          "execution_count": 36
        }
      ]
    },
    {
      "cell_type": "code",
      "metadata": {
        "colab": {
          "base_uri": "https://localhost:8080/",
          "height": 317
        },
        "id": "Je16tmkNrZ_e",
        "outputId": "32c580fe-7a11-4957-8956-5de924e37f8b"
      },
      "source": [
        "from sklearn.cluster import KMeans\n",
        "\n",
        "n_clusters = 4 # For 4 classes\n",
        "\n",
        "sklearn_pca = PCA(n_components = 2)\n",
        "Y_sklearn = sklearn_pca.fit_transform(tf_idf_array)\n",
        "Y_slearn = tf_idf_array\n",
        "kmeans = KMeans(n_clusters= n_clusters, max_iter=6000, algorithm = 'auto')\n",
        "%time fitted = kmeans.fit(Y_sklearn)\n",
        "prediction = kmeans.predict(Y_sklearn)\n",
        "\n",
        "plt.scatter(Y_sklearn[:, 0], Y_sklearn[:, 1],c=prediction ,s=50, cmap='viridis')\n",
        "\n",
        "centers2 = fitted.cluster_centers_\n",
        "plt.scatter(centers2[:, 0], centers2[:, 1],c='black', s=100, alpha=0.6);"
      ],
      "execution_count": 37,
      "outputs": [
        {
          "output_type": "stream",
          "text": [
            "CPU times: user 278 ms, sys: 224 ms, total: 502 ms\n",
            "Wall time: 278 ms\n"
          ],
          "name": "stdout"
        },
        {
          "output_type": "display_data",
          "data": {
            "image/png": "[encoded data removed]",
            "text/plain": [
              "<Figure size 432x288 with 1 Axes>"
            ]
          },
          "metadata": {
            "tags": []
          }
        }
      ]
    },
    {
      "cell_type": "code",
      "metadata": {
        "id": "9aPBQtKOymmS"
      },
      "source": [
        "data = {'FeedText':df['new_FeedText'],\n",
        "        'Prediction':prediction}\n",
        "t = pd.DataFrame(data)"
      ],
      "execution_count": 38,
      "outputs": []
    },
    {
      "cell_type": "code",
      "metadata": {
        "colab": {
          "base_uri": "https://localhost:8080/"
        },
        "id": "m_elVpSMkTI5",
        "outputId": "8933ef5d-ab13-465d-bf86-3c01931229d7"
      },
      "source": [
        "t['Prediction'].value_counts()"
      ],
      "execution_count": 39,
      "outputs": [
        {
          "output_type": "execute_result",
          "data": {
            "text/plain": [
              "3    7480\n",
              "1    3077\n",
              "0    1049\n",
              "2     934\n",
              "Name: Prediction, dtype: int64"
            ]
          },
          "metadata": {
            "tags": []
          },
          "execution_count": 39
        }
      ]
    },
    {
      "cell_type": "markdown",
      "metadata": {
        "id": "keXAW9v3FvFb"
      },
      "source": [
        "## Analizing Cluster classes into lables"
      ]
    },
    {
      "cell_type": "code",
      "metadata": {
        "colab": {
          "base_uri": "https://localhost:8080/"
        },
        "id": "2_7R4HaGmOgp",
        "outputId": "de7b0625-517a-45ca-c2c8-871f305a612f"
      },
      "source": [
        "t[t['Prediction'] == 0]['FeedText'] # Buyer"
      ],
      "execution_count": 40,
      "outputs": [
        {
          "output_type": "execute_result",
          "data": {
            "text/plain": [
              "115      Looking For Success Minded Action Takers Who W...\n",
              "165      Are looking way earn money online I listed I l...\n",
              "201      Make UNLIMITED Daily Make UNLIMITED Daily You ...\n",
              "229      How I make money online I product service sell...\n",
              "277      Free join Travel business make money selling t...\n",
              "                               ...                        \n",
              "12468    Epic Battle Simulator Free Download For limite...\n",
              "12469              This easiest job I ever make fast money\n",
              "12478    UBEX NEW TOP RATED ICO OPPORTUNITY CHEAP ENOUG...\n",
              "12480                                        best way earn\n",
              "12481    Get Started Business Today NLS VIP Membership ...\n",
              "Name: FeedText, Length: 1049, dtype: object"
            ]
          },
          "metadata": {
            "tags": []
          },
          "execution_count": 40
        }
      ]
    },
    {
      "cell_type": "code",
      "metadata": {
        "colab": {
          "base_uri": "https://localhost:8080/"
        },
        "id": "1953NdfklSHL",
        "outputId": "590c2c6b-04ac-4d52-c172-7b6adb9c49b7"
      },
      "source": [
        "t[t['Prediction'] == 1]['FeedText'] # Buyer & Seller"
      ],
      "execution_count": 41,
      "outputs": [
        {
          "output_type": "execute_result",
          "data": {
            "text/plain": [
              "1        Check Out My Games STAR I created Game project...\n",
              "6        RECRUITMENT TO CANADA APPLY NOW Apply using li...\n",
              "7        Urgent Office Assistant Dubai Jobs Apply Nowbi...\n",
              "9        VACANCIES IN SCOTLAND Click Applybit ly G w M ...\n",
              "11       REGISTER YOUR CV WITH CARREFOUR UAE Apply nowb...\n",
              "                               ...                        \n",
              "12534    Hey botfam here another great free tool toolbo...\n",
              "12535    BOOM BOOM EARN WITH MASTER WALLET INDIAS BEST ...\n",
              "12536    LONG TERM INVESTMENT COMPANY RUNNING DAYS SINC...\n",
              "12538    Dear SIR Madam Kindly contact u need create Yo...\n",
              "12539    NEW NEW NEW NEW Just launched Hourly Payment R...\n",
              "Name: FeedText, Length: 3077, dtype: object"
            ]
          },
          "metadata": {
            "tags": []
          },
          "execution_count": 41
        }
      ]
    },
    {
      "cell_type": "code",
      "metadata": {
        "colab": {
          "base_uri": "https://localhost:8080/"
        },
        "id": "U28ybajJlZ_E",
        "outputId": "f23b6201-13ba-42cc-8c8f-0726630e6de9"
      },
      "source": [
        "t[t['Prediction'] == 2]['FeedText'] # Seller"
      ],
      "execution_count": 42,
      "outputs": [
        {
          "output_type": "execute_result",
          "data": {
            "text/plain": [
              "70       Get INSTANT ACCESS SEO Premium Tools Buy SEO D...\n",
              "97       Get SEO ready content website business Fabrito...\n",
              "99       Whatsapp Group For Digital Marketer Join This ...\n",
              "104      Check top Off Page SEO technique use drive org...\n",
              "107      Enhance career Digital Marketing Evergreen fie...\n",
              "                               ...                        \n",
              "12452    Content marketing become big part consumer eng...\n",
              "12456    Hola people We Emvive give service needed Digi...\n",
              "12459    Lets take look best SEO practise You enjoy rea...\n",
              "12461    SEO Search Engine Optimization process improvi...\n",
              "12479    AffiliateMarketing DigitalMarketing Affiliate ...\n",
              "Name: FeedText, Length: 934, dtype: object"
            ]
          },
          "metadata": {
            "tags": []
          },
          "execution_count": 42
        }
      ]
    },
    {
      "cell_type": "code",
      "metadata": {
        "colab": {
          "base_uri": "https://localhost:8080/"
        },
        "id": "hq3yDVfzmNuz",
        "outputId": "7c5662df-8e25-47c0-a59e-d0444dc70c0b"
      },
      "source": [
        "t[t['Prediction'] == 3]['FeedText'] # Neutral"
      ],
      "execution_count": 43,
      "outputs": [
        {
          "output_type": "execute_result",
          "data": {
            "text/plain": [
              "0        Hope video helpful interested Spring Boot Rest...\n",
              "2        Do know Integration Testing I wrote brief Over...\n",
              "3        Todays topic Regression Testing What thought R...\n",
              "4        Hope video helpful interested Spring Boot Rest...\n",
              "5        Java Selenium Java Control Flow Statements Vid...\n",
              "                               ...                        \n",
              "12530    NewCase Study Shows PatientTrak Reduces Wait Time\n",
              "12531    Hey All Looking collaborate healthcare Wellnes...\n",
              "12532    An Introduction Implementing Neural Networks u...\n",
              "12533    This popped feed anyone used mobile monkey FYI...\n",
              "12537    Hyip Updates Daily New Hyip New paying Bots sh...\n",
              "Name: FeedText, Length: 7480, dtype: object"
            ]
          },
          "metadata": {
            "tags": []
          },
          "execution_count": 43
        }
      ]
    },
    {
      "cell_type": "markdown",
      "metadata": {
        "id": "-Bgxc3nUK3dJ"
      },
      "source": [
        "## Model Training"
      ]
    },
    {
      "cell_type": "code",
      "metadata": {
        "id": "NI0lkY9YGUQg"
      },
      "source": [
        "Train_X, Test_X, Train_Y, Test_Y = model_selection.train_test_split(t['FeedText'],t['Prediction'],test_size=0.3)"
      ],
      "execution_count": 44,
      "outputs": []
    },
    {
      "cell_type": "code",
      "metadata": {
        "id": "Cn6nGdP2Ge6V"
      },
      "source": [
        "Tfidf_vect = TfidfVectorizer(max_features=5000)\n",
        "Tfidf_vect.fit(t['FeedText'])\n",
        "Train_X_Tfidf = Tfidf_vect.transform(Train_X)\n",
        "Test_X_Tfidf = Tfidf_vect.transform(Test_X)"
      ],
      "execution_count": 45,
      "outputs": []
    },
    {
      "cell_type": "code",
      "metadata": {
        "id": "j2UBjHu1GprE"
      },
      "source": [
        "# print(Tfidf_vect.vocabulary_)"
      ],
      "execution_count": 46,
      "outputs": []
    },
    {
      "cell_type": "code",
      "metadata": {
        "colab": {
          "base_uri": "https://localhost:8080/"
        },
        "id": "RA6jugnnGvoy",
        "outputId": "18ac49b0-a2b7-4be6-a6cc-c1f7929595c2"
      },
      "source": [
        "# fit the training dataset on the NB classifier\n",
        "Naive = naive_bayes.MultinomialNB()\n",
        "Naive.fit(Train_X_Tfidf,Train_Y)\n",
        "# predict the labels on validation dataset\n",
        "predictions_NB = Naive.predict(Test_X_Tfidf)\n",
        "# Use accuracy_score function to get the accuracy\n",
        "print(\"Naive Bayes Accuracy Score -> \",accuracy_score(predictions_NB, Test_Y)*100)"
      ],
      "execution_count": 47,
      "outputs": [
        {
          "output_type": "stream",
          "text": [
            "Naive Bayes Accuracy Score ->  76.58160552897395\n"
          ],
          "name": "stdout"
        }
      ]
    },
    {
      "cell_type": "code",
      "metadata": {
        "colab": {
          "base_uri": "https://localhost:8080/"
        },
        "id": "5YFs_wJiHfRx",
        "outputId": "d51c2d7d-db32-4780-dcee-b9a94e1ce5fb"
      },
      "source": [
        "# Classifier - Algorithm - RFC\n",
        "# fit the training dataset on the classifier\n",
        "RFC = RandomForestClassifier()\n",
        "RFC.fit(Train_X_Tfidf,Train_Y)\n",
        "# predict the labels on validation dataset\n",
        "predictions_RFC = RFC.predict(Test_X_Tfidf)\n",
        "# Use accuracy_score function to get the accuracy\n",
        "print(\"RFC Accuracy Score -> \",accuracy_score(predictions_RFC, Test_Y)*100)"
      ],
      "execution_count": 48,
      "outputs": [
        {
          "output_type": "stream",
          "text": [
            "RFC Accuracy Score ->  86.68261562998406\n"
          ],
          "name": "stdout"
        }
      ]
    },
    {
      "cell_type": "code",
      "metadata": {
        "colab": {
          "base_uri": "https://localhost:8080/"
        },
        "id": "u4FF14z2GzZ8",
        "outputId": "32445c86-19df-49dd-cc88-372db7e9974e"
      },
      "source": [
        "# Classifier - Algorithm - SVM\n",
        "# fit the training dataset on the classifier\n",
        "SVM = svm.SVC(C=1.0, kernel='linear', degree=3, gamma='auto')\n",
        "SVM.fit(Train_X_Tfidf,Train_Y)\n",
        "# predict the labels on validation dataset\n",
        "predictions_SVM = SVM.predict(Test_X_Tfidf)\n",
        "# Use accuracy_score function to get the accuracy\n",
        "print(\"SVM Accuracy Score -> \",accuracy_score(predictions_SVM, Test_Y)*100)"
      ],
      "execution_count": 49,
      "outputs": [
        {
          "output_type": "stream",
          "text": [
            "SVM Accuracy Score ->  91.06858054226475\n"
          ],
          "name": "stdout"
        }
      ]
    },
    {
      "cell_type": "markdown",
      "metadata": {
        "id": "NKvejGX6ftkT"
      },
      "source": [
        "## Predicting Test Values and Saving model state"
      ]
    },
    {
      "cell_type": "code",
      "metadata": {
        "id": "gdyYtzMCe16-"
      },
      "source": [
        "filename = 'SVM_model.sav'\n",
        "pickle.dump(SVM, open(filename, 'wb'))"
      ],
      "execution_count": 50,
      "outputs": []
    },
    {
      "cell_type": "code",
      "metadata": {
        "colab": {
          "base_uri": "https://localhost:8080/"
        },
        "id": "zFGqF9eTfIWw",
        "outputId": "c30d3ec7-69f9-4e5b-aa23-32ced2bb3aa6"
      },
      "source": [
        "# Testing more than 10 samples\n",
        "loaded_model = pickle.load(open(filename, 'rb'))\n",
        "result = loaded_model.score(Test_X_Tfidf, Test_Y)\n",
        "print(result)"
      ],
      "execution_count": 51,
      "outputs": [
        {
          "output_type": "stream",
          "text": [
            "0.9106858054226475\n"
          ],
          "name": "stdout"
        }
      ]
    }
  ]
}